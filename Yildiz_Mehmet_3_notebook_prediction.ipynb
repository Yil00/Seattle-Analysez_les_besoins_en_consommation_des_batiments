{
 "cells": [
  {
   "cell_type": "markdown",
   "metadata": {},
   "source": [
    "# Notebook 2 : Consommation d'Energie (SiteEnergyUse)"
   ]
  },
  {
   "cell_type": "markdown",
   "metadata": {},
   "source": [
    "## Contexte\n",
    "Pour atteindre l'objectif de ville neutre en émissions de carbone en 2050, la ville de Seattle s’intéresse de près aux émissions des bâtiments non destinés à l’habitation.\n",
    "\n",
    "Des relevés minutieux ont été effectués <strong>en 2016</strong>. Cependant, ces relevés sont coûteux à obtenir, et à partir de ceux déjà réalisés, nous devons tenter de prédire les émissions de CO2 et la consommation totale d’énergie de bâtiments pour lesquels elles n’ont pas encore été mesurées.\n",
    "\n",
    "\n",
    "--------------------------------------------------------\n",
    "La première partie nous a permis de réaliser un nettoyage des fichiers et une courte analyse exploratoire (Seattle Notebook Nettoyage ).\n",
    "Dans cette seconde partie, nous allons réaliser les diverses modélisations grâce à des approches linéaires et non-linéaire afin de prédire <strong>les émissions de CO2 </strong> et <strong>les consommations d'énergie des bâtiments.</strong>"
   ]
  },
  {
   "cell_type": "markdown",
   "metadata": {},
   "source": [
    "## Sommaire :\n",
    "\n",
    "- 1° Preprocessing    \n",
    "    * <strong>1.1. Encodage et standardisation</strong>  \n",
    "    * <strong>1.2. Préparation des jeux d'entrainement et de test </strong>\n",
    "\n",
    "- 2° Modèle Baseline : Régression linéaire multivariée \n",
    "- 3° Modèle linéaires : ElasticNet et SVR \n",
    "\n",
    "    * <strong> 3.1. Modèle ElasticNet </strong>\n",
    "    * <strong> 3.2. Modèle Support Vector Regression (SVR) </strong>\n",
    "\n",
    "- 4° Modèle non-linéaires : RandomForestRegressor\n",
    "    * <strong>4.1. Modèle RandomForestRegressor</strong>\n",
    "\n",
    "- 5° Sélection des meilleurs modèles\n",
    "    * 5.1. Modèle de prédiction des émissions de CO2 <strong>[Notebook Emission C02]</strong>\n",
    "    * <strong>5.2. Modèle de prédiction des consommations d'énergie</strong>\n",
    "\n",
    "- 6° Test des modèles sélectionnés \n",
    "    * 6.1. Prédiction des émissions de CO2\n",
    "    * 6.2. Prédiction des consommation d'énergie\n",
    "    \n",
    "- 7° Influence du score ENERGY STAR"
   ]
  },
  {
   "cell_type": "markdown",
   "metadata": {},
   "source": [
    "### 1° Preprocessing"
   ]
  },
  {
   "cell_type": "code",
   "execution_count": 882,
   "metadata": {},
   "outputs": [],
   "source": [
    "import numpy as np\n",
    "import pandas as pd\n",
    "import matplotlib\n",
    "import sklearn\n",
    "import datetime\n",
    "import matplotlib.pyplot as plt\n",
    "plt.style.use('ggplot')\n",
    "import seaborn as sns\n",
    "sns.set_style(\"whitegrid\")\n",
    "sns.color_palette(\"crest\", as_cmap=True)\n",
    "\n",
    "from scipy import stats\n",
    "from sklearn.pipeline import Pipeline\n",
    "from category_encoders import *\n",
    "from sklearn.compose import ColumnTransformer\n",
    "from sklearn.preprocessing import OneHotEncoder\n",
    "from sklearn.preprocessing import StandardScaler\n",
    "\n",
    "\n",
    "\n"
   ]
  },
  {
   "cell_type": "code",
   "execution_count": 883,
   "metadata": {},
   "outputs": [
    {
     "name": "stdout",
     "output_type": "stream",
     "text": [
      "Version des librairies utilisées :\n",
      "Python                : 3.9.12 (main, Apr  4 2022, 05:22:27) [MSC v.1916 64 bit (AMD64)]\n",
      "NumPy                 : 1.21.5\n",
      "Pandas                : 1.4.2\n",
      "Matplotlib            : 3.5.1\n",
      "Seaborn               : 0.11.2\n",
      "Sklearn               : 1.0.2\n",
      "Lancé le           : 2022-10-21T16:49:56.505971\n"
     ]
    }
   ],
   "source": [
    "# Versions\n",
    "print('Version des librairies utilisées :')\n",
    "print('Python                : ' + sys.version)\n",
    "print('NumPy                 : ' + np.version.full_version)\n",
    "print('Pandas                : ' + pd.__version__)\n",
    "print('Matplotlib            : ' + matplotlib.__version__)\n",
    "print('Seaborn               : ' + sns.__version__)\n",
    "print('Sklearn               : ' + sklearn.__version__)\n",
    "\n",
    "now = datetime.datetime.now().isoformat()\n",
    "print('Lancé le           : ' + now)"
   ]
  },
  {
   "cell_type": "code",
   "execution_count": 884,
   "metadata": {},
   "outputs": [
    {
     "name": "stdout",
     "output_type": "stream",
     "text": [
      "Requirement already satisfied: category_encoders in d:\\cours lp data rizza\\python anaconda 3\\lib\\site-packages (2.5.0)\n",
      "Requirement already satisfied: statsmodels>=0.9.0 in d:\\cours lp data rizza\\python anaconda 3\\lib\\site-packages (from category_encoders) (0.13.2)\n",
      "Requirement already satisfied: scikit-learn>=0.20.0 in d:\\cours lp data rizza\\python anaconda 3\\lib\\site-packages (from category_encoders) (1.0.2)\n",
      "Requirement already satisfied: numpy>=1.14.0 in d:\\cours lp data rizza\\python anaconda 3\\lib\\site-packages (from category_encoders) (1.21.5)\n",
      "Requirement already satisfied: scipy>=1.0.0 in d:\\cours lp data rizza\\python anaconda 3\\lib\\site-packages (from category_encoders) (1.7.3)\n",
      "Requirement already satisfied: patsy>=0.5.1 in d:\\cours lp data rizza\\python anaconda 3\\lib\\site-packages (from category_encoders) (0.5.2)Note: you may need to restart the kernel to use updated packages.\n",
      "Requirement already satisfied: pandas>=1.0.5 in d:\\cours lp data rizza\\python anaconda 3\\lib\\site-packages (from category_encoders) (1.4.2)\n",
      "Requirement already satisfied: python-dateutil>=2.8.1 in d:\\cours lp data rizza\\python anaconda 3\\lib\\site-packages (from pandas>=1.0.5->category_encoders) (2.8.2)\n",
      "Requirement already satisfied: pytz>=2020.1 in d:\\cours lp data rizza\\python anaconda 3\\lib\\site-packages (from pandas>=1.0.5->category_encoders) (2021.3)\n",
      "Requirement already satisfied: six in d:\\cours lp data rizza\\python anaconda 3\\lib\\site-packages (from patsy>=0.5.1->category_encoders) (1.16.0)\n",
      "\n",
      "Requirement already satisfied: joblib>=0.11 in d:\\cours lp data rizza\\python anaconda 3\\lib\\site-packages (from scikit-learn>=0.20.0->category_encoders) (1.1.0)\n",
      "Requirement already satisfied: threadpoolctl>=2.0.0 in d:\\cours lp data rizza\\python anaconda 3\\lib\\site-packages (from scikit-learn>=0.20.0->category_encoders) (2.2.0)\n",
      "Requirement already satisfied: packaging>=21.3 in d:\\cours lp data rizza\\python anaconda 3\\lib\\site-packages (from statsmodels>=0.9.0->category_encoders) (21.3)\n",
      "Requirement already satisfied: pyparsing!=3.0.5,>=2.0.2 in d:\\cours lp data rizza\\python anaconda 3\\lib\\site-packages (from packaging>=21.3->statsmodels>=0.9.0->category_encoders) (3.0.4)\n"
     ]
    }
   ],
   "source": [
    "pip install category_encoders"
   ]
  },
  {
   "cell_type": "code",
   "execution_count": 885,
   "metadata": {},
   "outputs": [],
   "source": [
    "df= pd.read_csv(\"building-energy-cleaned.csv\")"
   ]
  },
  {
   "cell_type": "code",
   "execution_count": 886,
   "metadata": {},
   "outputs": [
    {
     "data": {
      "text/plain": [
       "(1548, 30)"
      ]
     },
     "execution_count": 886,
     "metadata": {},
     "output_type": "execute_result"
    }
   ],
   "source": [
    "df.shape"
   ]
  },
  {
   "cell_type": "code",
   "execution_count": 887,
   "metadata": {},
   "outputs": [
    {
     "name": "stdout",
     "output_type": "stream",
     "text": [
      "<class 'pandas.core.frame.DataFrame'>\n",
      "RangeIndex: 1548 entries, 0 to 1547\n",
      "Data columns (total 30 columns):\n",
      " #   Column                    Non-Null Count  Dtype  \n",
      "---  ------                    --------------  -----  \n",
      " 0   OSEBuildingID             1548 non-null   int64  \n",
      " 1   DataYear                  1548 non-null   int64  \n",
      " 2   BuildingType              1548 non-null   object \n",
      " 3   PrimaryPropertyType       1548 non-null   object \n",
      " 4   PropertyName              1548 non-null   object \n",
      " 5   Address                   1548 non-null   object \n",
      " 6   State                     1548 non-null   object \n",
      " 7   ZipCode                   1535 non-null   float64\n",
      " 8   Neighborhood              1548 non-null   object \n",
      " 9   NumberofBuildings         1548 non-null   float64\n",
      " 10  NumberofFloors            1548 non-null   int64  \n",
      " 11  PropertyGFATotal          1548 non-null   int64  \n",
      " 12  LargestPropertyUseType    1548 non-null   object \n",
      " 13  YearsENERGYSTARCertified  97 non-null     object \n",
      " 14  ENERGYSTARScore           997 non-null    float64\n",
      " 15  SiteEUI(kBtu/sf)          1548 non-null   float64\n",
      " 16  SourceEUI(kBtu/sf)        1548 non-null   float64\n",
      " 17  SiteEnergyUse(kBtu)       1548 non-null   float64\n",
      " 18  SteamUse(kBtu)            1548 non-null   float64\n",
      " 19  Electricity(kBtu)         1548 non-null   float64\n",
      " 20  NaturalGas(kBtu)          1548 non-null   float64\n",
      " 21  TotalGHGEmissions         1548 non-null   float64\n",
      " 22  GHGEmissionsIntensity     1548 non-null   float64\n",
      " 23  BuildingAge               1548 non-null   int64  \n",
      " 24  TotalUseTypeNumber        1548 non-null   int64  \n",
      " 25  GFABuildingRate           1548 non-null   float64\n",
      " 26  GFAParkingRate            1548 non-null   float64\n",
      " 27  GFAPerBuilding            1548 non-null   float64\n",
      " 28  GFAPerFloor               1548 non-null   float64\n",
      " 29  harvesine_distance        1548 non-null   float64\n",
      "dtypes: float64(16), int64(6), object(8)\n",
      "memory usage: 362.9+ KB\n"
     ]
    }
   ],
   "source": [
    "df.info()"
   ]
  },
  {
   "cell_type": "code",
   "execution_count": 888,
   "metadata": {},
   "outputs": [
    {
     "data": {
      "text/html": [
       "<div>\n",
       "<style scoped>\n",
       "    .dataframe tbody tr th:only-of-type {\n",
       "        vertical-align: middle;\n",
       "    }\n",
       "\n",
       "    .dataframe tbody tr th {\n",
       "        vertical-align: top;\n",
       "    }\n",
       "\n",
       "    .dataframe thead th {\n",
       "        text-align: right;\n",
       "    }\n",
       "</style>\n",
       "<table border=\"1\" class=\"dataframe\">\n",
       "  <thead>\n",
       "    <tr style=\"text-align: right;\">\n",
       "      <th></th>\n",
       "      <th>OSEBuildingID</th>\n",
       "      <th>DataYear</th>\n",
       "      <th>BuildingType</th>\n",
       "      <th>PrimaryPropertyType</th>\n",
       "      <th>PropertyName</th>\n",
       "      <th>Address</th>\n",
       "      <th>State</th>\n",
       "      <th>ZipCode</th>\n",
       "      <th>Neighborhood</th>\n",
       "      <th>NumberofBuildings</th>\n",
       "      <th>...</th>\n",
       "      <th>NaturalGas(kBtu)</th>\n",
       "      <th>TotalGHGEmissions</th>\n",
       "      <th>GHGEmissionsIntensity</th>\n",
       "      <th>BuildingAge</th>\n",
       "      <th>TotalUseTypeNumber</th>\n",
       "      <th>GFABuildingRate</th>\n",
       "      <th>GFAParkingRate</th>\n",
       "      <th>GFAPerBuilding</th>\n",
       "      <th>GFAPerFloor</th>\n",
       "      <th>harvesine_distance</th>\n",
       "    </tr>\n",
       "  </thead>\n",
       "  <tbody>\n",
       "    <tr>\n",
       "      <th>0</th>\n",
       "      <td>1</td>\n",
       "      <td>2016</td>\n",
       "      <td>NonResidential</td>\n",
       "      <td>Hotel</td>\n",
       "      <td>Mayflower park hotel</td>\n",
       "      <td>405 Olive way</td>\n",
       "      <td>WA</td>\n",
       "      <td>98101.0</td>\n",
       "      <td>DOWNTOWN</td>\n",
       "      <td>1.0</td>\n",
       "      <td>...</td>\n",
       "      <td>1276453.0</td>\n",
       "      <td>249.98</td>\n",
       "      <td>2.83</td>\n",
       "      <td>89</td>\n",
       "      <td>1</td>\n",
       "      <td>1.00000</td>\n",
       "      <td>0.00000</td>\n",
       "      <td>88434.0</td>\n",
       "      <td>7369.500</td>\n",
       "      <td>0.496782</td>\n",
       "    </tr>\n",
       "    <tr>\n",
       "      <th>1</th>\n",
       "      <td>2</td>\n",
       "      <td>2016</td>\n",
       "      <td>NonResidential</td>\n",
       "      <td>Hotel</td>\n",
       "      <td>Paramount Hotel</td>\n",
       "      <td>724 Pine street</td>\n",
       "      <td>WA</td>\n",
       "      <td>98101.0</td>\n",
       "      <td>DOWNTOWN</td>\n",
       "      <td>1.0</td>\n",
       "      <td>...</td>\n",
       "      <td>5145082.0</td>\n",
       "      <td>295.86</td>\n",
       "      <td>2.86</td>\n",
       "      <td>20</td>\n",
       "      <td>3</td>\n",
       "      <td>0.85455</td>\n",
       "      <td>0.14545</td>\n",
       "      <td>103566.0</td>\n",
       "      <td>9415.091</td>\n",
       "      <td>0.488726</td>\n",
       "    </tr>\n",
       "    <tr>\n",
       "      <th>2</th>\n",
       "      <td>3</td>\n",
       "      <td>2016</td>\n",
       "      <td>NonResidential</td>\n",
       "      <td>Hotel</td>\n",
       "      <td>5673-The Westin Seattle</td>\n",
       "      <td>1900 5th Avenue</td>\n",
       "      <td>WA</td>\n",
       "      <td>98101.0</td>\n",
       "      <td>DOWNTOWN</td>\n",
       "      <td>1.0</td>\n",
       "      <td>...</td>\n",
       "      <td>1493800.0</td>\n",
       "      <td>2089.28</td>\n",
       "      <td>2.19</td>\n",
       "      <td>47</td>\n",
       "      <td>1</td>\n",
       "      <td>0.79425</td>\n",
       "      <td>0.20575</td>\n",
       "      <td>956110.0</td>\n",
       "      <td>23319.756</td>\n",
       "      <td>0.602378</td>\n",
       "    </tr>\n",
       "    <tr>\n",
       "      <th>3</th>\n",
       "      <td>5</td>\n",
       "      <td>2016</td>\n",
       "      <td>NonResidential</td>\n",
       "      <td>Hotel</td>\n",
       "      <td>HOTEL MAX</td>\n",
       "      <td>620 STEWART ST</td>\n",
       "      <td>WA</td>\n",
       "      <td>98101.0</td>\n",
       "      <td>DOWNTOWN</td>\n",
       "      <td>1.0</td>\n",
       "      <td>...</td>\n",
       "      <td>1811213.0</td>\n",
       "      <td>286.43</td>\n",
       "      <td>4.67</td>\n",
       "      <td>90</td>\n",
       "      <td>1</td>\n",
       "      <td>1.00000</td>\n",
       "      <td>0.00000</td>\n",
       "      <td>61320.0</td>\n",
       "      <td>6132.000</td>\n",
       "      <td>0.586253</td>\n",
       "    </tr>\n",
       "    <tr>\n",
       "      <th>4</th>\n",
       "      <td>8</td>\n",
       "      <td>2016</td>\n",
       "      <td>NonResidential</td>\n",
       "      <td>Hotel</td>\n",
       "      <td>WARWICK SEATTLE HOTEL (ID8)</td>\n",
       "      <td>401 LENORA ST</td>\n",
       "      <td>WA</td>\n",
       "      <td>98121.0</td>\n",
       "      <td>DOWNTOWN</td>\n",
       "      <td>1.0</td>\n",
       "      <td>...</td>\n",
       "      <td>8803998.0</td>\n",
       "      <td>505.01</td>\n",
       "      <td>2.88</td>\n",
       "      <td>36</td>\n",
       "      <td>3</td>\n",
       "      <td>0.64688</td>\n",
       "      <td>0.35312</td>\n",
       "      <td>175580.0</td>\n",
       "      <td>9754.444</td>\n",
       "      <td>0.650801</td>\n",
       "    </tr>\n",
       "  </tbody>\n",
       "</table>\n",
       "<p>5 rows × 30 columns</p>\n",
       "</div>"
      ],
      "text/plain": [
       "   OSEBuildingID  DataYear    BuildingType PrimaryPropertyType  \\\n",
       "0              1      2016  NonResidential               Hotel   \n",
       "1              2      2016  NonResidential               Hotel   \n",
       "2              3      2016  NonResidential               Hotel   \n",
       "3              5      2016  NonResidential               Hotel   \n",
       "4              8      2016  NonResidential               Hotel   \n",
       "\n",
       "                  PropertyName          Address State  ZipCode Neighborhood  \\\n",
       "0         Mayflower park hotel    405 Olive way    WA  98101.0     DOWNTOWN   \n",
       "1              Paramount Hotel  724 Pine street    WA  98101.0     DOWNTOWN   \n",
       "2      5673-The Westin Seattle  1900 5th Avenue    WA  98101.0     DOWNTOWN   \n",
       "3                    HOTEL MAX   620 STEWART ST    WA  98101.0     DOWNTOWN   \n",
       "4  WARWICK SEATTLE HOTEL (ID8)    401 LENORA ST    WA  98121.0     DOWNTOWN   \n",
       "\n",
       "   NumberofBuildings  ...  NaturalGas(kBtu)  TotalGHGEmissions  \\\n",
       "0                1.0  ...         1276453.0             249.98   \n",
       "1                1.0  ...         5145082.0             295.86   \n",
       "2                1.0  ...         1493800.0            2089.28   \n",
       "3                1.0  ...         1811213.0             286.43   \n",
       "4                1.0  ...         8803998.0             505.01   \n",
       "\n",
       "  GHGEmissionsIntensity BuildingAge  TotalUseTypeNumber  GFABuildingRate  \\\n",
       "0                  2.83          89                   1          1.00000   \n",
       "1                  2.86          20                   3          0.85455   \n",
       "2                  2.19          47                   1          0.79425   \n",
       "3                  4.67          90                   1          1.00000   \n",
       "4                  2.88          36                   3          0.64688   \n",
       "\n",
       "   GFAParkingRate  GFAPerBuilding  GFAPerFloor  harvesine_distance  \n",
       "0         0.00000         88434.0     7369.500            0.496782  \n",
       "1         0.14545        103566.0     9415.091            0.488726  \n",
       "2         0.20575        956110.0    23319.756            0.602378  \n",
       "3         0.00000         61320.0     6132.000            0.586253  \n",
       "4         0.35312        175580.0     9754.444            0.650801  \n",
       "\n",
       "[5 rows x 30 columns]"
      ]
     },
     "execution_count": 888,
     "metadata": {},
     "output_type": "execute_result"
    }
   ],
   "source": [
    "df.head()"
   ]
  },
  {
   "cell_type": "markdown",
   "metadata": {},
   "source": []
  },
  {
   "cell_type": "code",
   "execution_count": 889,
   "metadata": {},
   "outputs": [],
   "source": [
    "import dtale.app as dtale_app\n",
    "\n",
    "dtale_app.USE_COLAB = True "
   ]
  },
  {
   "cell_type": "code",
   "execution_count": 890,
   "metadata": {},
   "outputs": [],
   "source": [
    "#Test"
   ]
  },
  {
   "cell_type": "code",
   "execution_count": 891,
   "metadata": {},
   "outputs": [],
   "source": [
    "#dfd =dtale_app.show(df)\n",
    "#dfd"
   ]
  },
  {
   "cell_type": "code",
   "execution_count": 892,
   "metadata": {},
   "outputs": [
    {
     "data": {
      "text/plain": [
       "Index(['OSEBuildingID', 'DataYear', 'BuildingType', 'PrimaryPropertyType',\n",
       "       'PropertyName', 'Address', 'State', 'ZipCode', 'Neighborhood',\n",
       "       'NumberofBuildings', 'NumberofFloors', 'PropertyGFATotal',\n",
       "       'LargestPropertyUseType', 'YearsENERGYSTARCertified', 'ENERGYSTARScore',\n",
       "       'SiteEUI(kBtu/sf)', 'SourceEUI(kBtu/sf)', 'SiteEnergyUse(kBtu)',\n",
       "       'SteamUse(kBtu)', 'Electricity(kBtu)', 'NaturalGas(kBtu)',\n",
       "       'TotalGHGEmissions', 'GHGEmissionsIntensity', 'BuildingAge',\n",
       "       'TotalUseTypeNumber', 'GFABuildingRate', 'GFAParkingRate',\n",
       "       'GFAPerBuilding', 'GFAPerFloor', 'harvesine_distance'],\n",
       "      dtype='object')"
      ]
     },
     "execution_count": 892,
     "metadata": {},
     "output_type": "execute_result"
    }
   ],
   "source": [
    "df.columns"
   ]
  },
  {
   "cell_type": "code",
   "execution_count": 893,
   "metadata": {},
   "outputs": [
    {
     "data": {
      "text/html": [
       "<div>\n",
       "<style scoped>\n",
       "    .dataframe tbody tr th:only-of-type {\n",
       "        vertical-align: middle;\n",
       "    }\n",
       "\n",
       "    .dataframe tbody tr th {\n",
       "        vertical-align: top;\n",
       "    }\n",
       "\n",
       "    .dataframe thead th {\n",
       "        text-align: right;\n",
       "    }\n",
       "</style>\n",
       "<table border=\"1\" class=\"dataframe\">\n",
       "  <thead>\n",
       "    <tr style=\"text-align: right;\">\n",
       "      <th></th>\n",
       "      <th>OSEBuildingID</th>\n",
       "      <th>DataYear</th>\n",
       "      <th>ZipCode</th>\n",
       "      <th>NumberofBuildings</th>\n",
       "      <th>NumberofFloors</th>\n",
       "      <th>PropertyGFATotal</th>\n",
       "      <th>ENERGYSTARScore</th>\n",
       "      <th>SiteEUI(kBtu/sf)</th>\n",
       "      <th>SourceEUI(kBtu/sf)</th>\n",
       "      <th>SiteEnergyUse(kBtu)</th>\n",
       "      <th>...</th>\n",
       "      <th>NaturalGas(kBtu)</th>\n",
       "      <th>TotalGHGEmissions</th>\n",
       "      <th>GHGEmissionsIntensity</th>\n",
       "      <th>BuildingAge</th>\n",
       "      <th>TotalUseTypeNumber</th>\n",
       "      <th>GFABuildingRate</th>\n",
       "      <th>GFAParkingRate</th>\n",
       "      <th>GFAPerBuilding</th>\n",
       "      <th>GFAPerFloor</th>\n",
       "      <th>harvesine_distance</th>\n",
       "    </tr>\n",
       "  </thead>\n",
       "  <tbody>\n",
       "    <tr>\n",
       "      <th>count</th>\n",
       "      <td>1548.000000</td>\n",
       "      <td>1548.0</td>\n",
       "      <td>1535.000000</td>\n",
       "      <td>1548.000000</td>\n",
       "      <td>1548.000000</td>\n",
       "      <td>1.548000e+03</td>\n",
       "      <td>997.000000</td>\n",
       "      <td>1548.000000</td>\n",
       "      <td>1548.000000</td>\n",
       "      <td>1.548000e+03</td>\n",
       "      <td>...</td>\n",
       "      <td>1.548000e+03</td>\n",
       "      <td>1548.000000</td>\n",
       "      <td>1548.000000</td>\n",
       "      <td>1548.000000</td>\n",
       "      <td>1548.000000</td>\n",
       "      <td>1548.000000</td>\n",
       "      <td>1548.000000</td>\n",
       "      <td>1548.0</td>\n",
       "      <td>1548.00000</td>\n",
       "      <td>1548.000000</td>\n",
       "    </tr>\n",
       "    <tr>\n",
       "      <th>mean</th>\n",
       "      <td>16497.944444</td>\n",
       "      <td>2016.0</td>\n",
       "      <td>98116.776547</td>\n",
       "      <td>1.178941</td>\n",
       "      <td>4.276486</td>\n",
       "      <td>1.213321e+05</td>\n",
       "      <td>63.635908</td>\n",
       "      <td>75.084109</td>\n",
       "      <td>183.216667</td>\n",
       "      <td>8.860058e+06</td>\n",
       "      <td>...</td>\n",
       "      <td>2.038297e+06</td>\n",
       "      <td>193.608908</td>\n",
       "      <td>1.667358</td>\n",
       "      <td>54.355943</td>\n",
       "      <td>1.952842</td>\n",
       "      <td>0.934666</td>\n",
       "      <td>0.065334</td>\n",
       "      <td>inf</td>\n",
       "      <td>inf</td>\n",
       "      <td>2.720660</td>\n",
       "    </tr>\n",
       "    <tr>\n",
       "      <th>std</th>\n",
       "      <td>13827.877766</td>\n",
       "      <td>0.0</td>\n",
       "      <td>18.695570</td>\n",
       "      <td>3.039221</td>\n",
       "      <td>6.780694</td>\n",
       "      <td>3.062944e+05</td>\n",
       "      <td>28.825309</td>\n",
       "      <td>75.212839</td>\n",
       "      <td>187.966057</td>\n",
       "      <td>3.130568e+07</td>\n",
       "      <td>...</td>\n",
       "      <td>9.710667e+06</td>\n",
       "      <td>779.105278</td>\n",
       "      <td>2.407577</td>\n",
       "      <td>32.886918</td>\n",
       "      <td>1.243355</td>\n",
       "      <td>0.144040</td>\n",
       "      <td>0.144040</td>\n",
       "      <td>NaN</td>\n",
       "      <td>NaN</td>\n",
       "      <td>2.187473</td>\n",
       "    </tr>\n",
       "    <tr>\n",
       "      <th>min</th>\n",
       "      <td>1.000000</td>\n",
       "      <td>2016.0</td>\n",
       "      <td>98006.000000</td>\n",
       "      <td>0.000000</td>\n",
       "      <td>0.000000</td>\n",
       "      <td>1.128500e+04</td>\n",
       "      <td>1.000000</td>\n",
       "      <td>1.400000</td>\n",
       "      <td>0.000000</td>\n",
       "      <td>5.713320e+04</td>\n",
       "      <td>...</td>\n",
       "      <td>0.000000e+00</td>\n",
       "      <td>-0.800000</td>\n",
       "      <td>-0.020000</td>\n",
       "      <td>1.000000</td>\n",
       "      <td>1.000000</td>\n",
       "      <td>0.104980</td>\n",
       "      <td>0.000000</td>\n",
       "      <td>4300.0</td>\n",
       "      <td>221.69700</td>\n",
       "      <td>0.021130</td>\n",
       "    </tr>\n",
       "    <tr>\n",
       "      <th>25%</th>\n",
       "      <td>602.750000</td>\n",
       "      <td>2016.0</td>\n",
       "      <td>98104.000000</td>\n",
       "      <td>1.000000</td>\n",
       "      <td>1.000000</td>\n",
       "      <td>2.884325e+04</td>\n",
       "      <td>44.000000</td>\n",
       "      <td>34.900002</td>\n",
       "      <td>81.199997</td>\n",
       "      <td>1.251083e+06</td>\n",
       "      <td>...</td>\n",
       "      <td>0.000000e+00</td>\n",
       "      <td>20.655000</td>\n",
       "      <td>0.360000</td>\n",
       "      <td>27.000000</td>\n",
       "      <td>1.000000</td>\n",
       "      <td>1.000000</td>\n",
       "      <td>0.000000</td>\n",
       "      <td>28672.0</td>\n",
       "      <td>12960.00000</td>\n",
       "      <td>0.836309</td>\n",
       "    </tr>\n",
       "    <tr>\n",
       "      <th>50%</th>\n",
       "      <td>21180.500000</td>\n",
       "      <td>2016.0</td>\n",
       "      <td>98109.000000</td>\n",
       "      <td>1.000000</td>\n",
       "      <td>2.000000</td>\n",
       "      <td>4.815900e+04</td>\n",
       "      <td>71.000000</td>\n",
       "      <td>53.750000</td>\n",
       "      <td>138.650002</td>\n",
       "      <td>2.732167e+06</td>\n",
       "      <td>...</td>\n",
       "      <td>4.881350e+05</td>\n",
       "      <td>49.845000</td>\n",
       "      <td>0.880000</td>\n",
       "      <td>50.500000</td>\n",
       "      <td>2.000000</td>\n",
       "      <td>1.000000</td>\n",
       "      <td>0.000000</td>\n",
       "      <td>48229.5</td>\n",
       "      <td>22365.35000</td>\n",
       "      <td>2.097849</td>\n",
       "    </tr>\n",
       "    <tr>\n",
       "      <th>75%</th>\n",
       "      <td>24609.000000</td>\n",
       "      <td>2016.0</td>\n",
       "      <td>98125.000000</td>\n",
       "      <td>1.000000</td>\n",
       "      <td>4.000000</td>\n",
       "      <td>1.076615e+05</td>\n",
       "      <td>88.000000</td>\n",
       "      <td>85.199997</td>\n",
       "      <td>213.549995</td>\n",
       "      <td>7.294487e+06</td>\n",
       "      <td>...</td>\n",
       "      <td>1.530812e+06</td>\n",
       "      <td>147.227500</td>\n",
       "      <td>1.960000</td>\n",
       "      <td>86.000000</td>\n",
       "      <td>2.000000</td>\n",
       "      <td>1.000000</td>\n",
       "      <td>0.000000</td>\n",
       "      <td>112644.0</td>\n",
       "      <td>37458.47125</td>\n",
       "      <td>4.098127</td>\n",
       "    </tr>\n",
       "    <tr>\n",
       "      <th>max</th>\n",
       "      <td>50226.000000</td>\n",
       "      <td>2016.0</td>\n",
       "      <td>98199.000000</td>\n",
       "      <td>111.000000</td>\n",
       "      <td>99.000000</td>\n",
       "      <td>9.320156e+06</td>\n",
       "      <td>100.000000</td>\n",
       "      <td>834.400024</td>\n",
       "      <td>2620.000000</td>\n",
       "      <td>8.739237e+08</td>\n",
       "      <td>...</td>\n",
       "      <td>2.979090e+08</td>\n",
       "      <td>16870.980000</td>\n",
       "      <td>34.090000</td>\n",
       "      <td>116.000000</td>\n",
       "      <td>13.000000</td>\n",
       "      <td>1.000000</td>\n",
       "      <td>0.895020</td>\n",
       "      <td>inf</td>\n",
       "      <td>inf</td>\n",
       "      <td>8.843544</td>\n",
       "    </tr>\n",
       "  </tbody>\n",
       "</table>\n",
       "<p>8 rows × 22 columns</p>\n",
       "</div>"
      ],
      "text/plain": [
       "       OSEBuildingID  DataYear       ZipCode  NumberofBuildings  \\\n",
       "count    1548.000000    1548.0   1535.000000        1548.000000   \n",
       "mean    16497.944444    2016.0  98116.776547           1.178941   \n",
       "std     13827.877766       0.0     18.695570           3.039221   \n",
       "min         1.000000    2016.0  98006.000000           0.000000   \n",
       "25%       602.750000    2016.0  98104.000000           1.000000   \n",
       "50%     21180.500000    2016.0  98109.000000           1.000000   \n",
       "75%     24609.000000    2016.0  98125.000000           1.000000   \n",
       "max     50226.000000    2016.0  98199.000000         111.000000   \n",
       "\n",
       "       NumberofFloors  PropertyGFATotal  ENERGYSTARScore  SiteEUI(kBtu/sf)  \\\n",
       "count     1548.000000      1.548000e+03       997.000000       1548.000000   \n",
       "mean         4.276486      1.213321e+05        63.635908         75.084109   \n",
       "std          6.780694      3.062944e+05        28.825309         75.212839   \n",
       "min          0.000000      1.128500e+04         1.000000          1.400000   \n",
       "25%          1.000000      2.884325e+04        44.000000         34.900002   \n",
       "50%          2.000000      4.815900e+04        71.000000         53.750000   \n",
       "75%          4.000000      1.076615e+05        88.000000         85.199997   \n",
       "max         99.000000      9.320156e+06       100.000000        834.400024   \n",
       "\n",
       "       SourceEUI(kBtu/sf)  SiteEnergyUse(kBtu)  ...  NaturalGas(kBtu)  \\\n",
       "count         1548.000000         1.548000e+03  ...      1.548000e+03   \n",
       "mean           183.216667         8.860058e+06  ...      2.038297e+06   \n",
       "std            187.966057         3.130568e+07  ...      9.710667e+06   \n",
       "min              0.000000         5.713320e+04  ...      0.000000e+00   \n",
       "25%             81.199997         1.251083e+06  ...      0.000000e+00   \n",
       "50%            138.650002         2.732167e+06  ...      4.881350e+05   \n",
       "75%            213.549995         7.294487e+06  ...      1.530812e+06   \n",
       "max           2620.000000         8.739237e+08  ...      2.979090e+08   \n",
       "\n",
       "       TotalGHGEmissions  GHGEmissionsIntensity  BuildingAge  \\\n",
       "count        1548.000000            1548.000000  1548.000000   \n",
       "mean          193.608908               1.667358    54.355943   \n",
       "std           779.105278               2.407577    32.886918   \n",
       "min            -0.800000              -0.020000     1.000000   \n",
       "25%            20.655000               0.360000    27.000000   \n",
       "50%            49.845000               0.880000    50.500000   \n",
       "75%           147.227500               1.960000    86.000000   \n",
       "max         16870.980000              34.090000   116.000000   \n",
       "\n",
       "       TotalUseTypeNumber  GFABuildingRate  GFAParkingRate  GFAPerBuilding  \\\n",
       "count         1548.000000      1548.000000     1548.000000          1548.0   \n",
       "mean             1.952842         0.934666        0.065334             inf   \n",
       "std              1.243355         0.144040        0.144040             NaN   \n",
       "min              1.000000         0.104980        0.000000          4300.0   \n",
       "25%              1.000000         1.000000        0.000000         28672.0   \n",
       "50%              2.000000         1.000000        0.000000         48229.5   \n",
       "75%              2.000000         1.000000        0.000000        112644.0   \n",
       "max             13.000000         1.000000        0.895020             inf   \n",
       "\n",
       "       GFAPerFloor  harvesine_distance  \n",
       "count   1548.00000         1548.000000  \n",
       "mean           inf            2.720660  \n",
       "std            NaN            2.187473  \n",
       "min      221.69700            0.021130  \n",
       "25%    12960.00000            0.836309  \n",
       "50%    22365.35000            2.097849  \n",
       "75%    37458.47125            4.098127  \n",
       "max            inf            8.843544  \n",
       "\n",
       "[8 rows x 22 columns]"
      ]
     },
     "execution_count": 893,
     "metadata": {},
     "output_type": "execute_result"
    }
   ],
   "source": [
    "df.describe()"
   ]
  },
  {
   "cell_type": "markdown",
   "metadata": {},
   "source": [
    "Remarque: \n",
    "\n",
    "Dans cette description, on remarque des données avec des valeurs infinies.\n",
    "- Nous allons regarder de plus prêt ces données et les corriger :"
   ]
  },
  {
   "cell_type": "code",
   "execution_count": 894,
   "metadata": {},
   "outputs": [
    {
     "data": {
      "text/html": [
       "<div>\n",
       "<style scoped>\n",
       "    .dataframe tbody tr th:only-of-type {\n",
       "        vertical-align: middle;\n",
       "    }\n",
       "\n",
       "    .dataframe tbody tr th {\n",
       "        vertical-align: top;\n",
       "    }\n",
       "\n",
       "    .dataframe thead th {\n",
       "        text-align: right;\n",
       "    }\n",
       "</style>\n",
       "<table border=\"1\" class=\"dataframe\">\n",
       "  <thead>\n",
       "    <tr style=\"text-align: right;\">\n",
       "      <th></th>\n",
       "      <th>OSEBuildingID</th>\n",
       "      <th>DataYear</th>\n",
       "      <th>BuildingType</th>\n",
       "      <th>PrimaryPropertyType</th>\n",
       "      <th>PropertyName</th>\n",
       "      <th>Address</th>\n",
       "      <th>State</th>\n",
       "      <th>ZipCode</th>\n",
       "      <th>Neighborhood</th>\n",
       "      <th>NumberofBuildings</th>\n",
       "      <th>...</th>\n",
       "      <th>NaturalGas(kBtu)</th>\n",
       "      <th>TotalGHGEmissions</th>\n",
       "      <th>GHGEmissionsIntensity</th>\n",
       "      <th>BuildingAge</th>\n",
       "      <th>TotalUseTypeNumber</th>\n",
       "      <th>GFABuildingRate</th>\n",
       "      <th>GFAParkingRate</th>\n",
       "      <th>GFAPerBuilding</th>\n",
       "      <th>GFAPerFloor</th>\n",
       "      <th>harvesine_distance</th>\n",
       "    </tr>\n",
       "  </thead>\n",
       "  <tbody>\n",
       "    <tr>\n",
       "      <th>56</th>\n",
       "      <td>89</td>\n",
       "      <td>2016</td>\n",
       "      <td>NonResidential</td>\n",
       "      <td>Medical Office</td>\n",
       "      <td>Polyclinic North &amp;&amp; South</td>\n",
       "      <td>1200 Harvard Ave</td>\n",
       "      <td>WA</td>\n",
       "      <td>98122.0</td>\n",
       "      <td>EAST</td>\n",
       "      <td>0.0</td>\n",
       "      <td>...</td>\n",
       "      <td>6814570.0</td>\n",
       "      <td>430.84</td>\n",
       "      <td>2.41</td>\n",
       "      <td>51</td>\n",
       "      <td>1</td>\n",
       "      <td>1.00000</td>\n",
       "      <td>0.00000</td>\n",
       "      <td>inf</td>\n",
       "      <td>59671.333</td>\n",
       "      <td>0.658562</td>\n",
       "    </tr>\n",
       "    <tr>\n",
       "      <th>69</th>\n",
       "      <td>113</td>\n",
       "      <td>2016</td>\n",
       "      <td>NonResidential</td>\n",
       "      <td>Small- and Mid-Sized Office</td>\n",
       "      <td>KCTS9</td>\n",
       "      <td>401 Mercer St</td>\n",
       "      <td>WA</td>\n",
       "      <td>98109.0</td>\n",
       "      <td>MAGNOLIA / QUEEN ANNE</td>\n",
       "      <td>0.0</td>\n",
       "      <td>...</td>\n",
       "      <td>0.0</td>\n",
       "      <td>29.04</td>\n",
       "      <td>0.44</td>\n",
       "      <td>30</td>\n",
       "      <td>5</td>\n",
       "      <td>0.96449</td>\n",
       "      <td>0.03551</td>\n",
       "      <td>inf</td>\n",
       "      <td>33120.000</td>\n",
       "      <td>1.438289</td>\n",
       "    </tr>\n",
       "    <tr>\n",
       "      <th>126</th>\n",
       "      <td>257</td>\n",
       "      <td>2016</td>\n",
       "      <td>NonResidential</td>\n",
       "      <td>Warehouse</td>\n",
       "      <td>Harbor Island: Warehouse E - DNRP-SWD</td>\n",
       "      <td>3235 16TH AVE SW</td>\n",
       "      <td>WA</td>\n",
       "      <td>98134.0</td>\n",
       "      <td>GREATER DUWAMISH</td>\n",
       "      <td>0.0</td>\n",
       "      <td>...</td>\n",
       "      <td>0.0</td>\n",
       "      <td>16.81</td>\n",
       "      <td>0.21</td>\n",
       "      <td>100</td>\n",
       "      <td>1</td>\n",
       "      <td>1.00000</td>\n",
       "      <td>0.00000</td>\n",
       "      <td>inf</td>\n",
       "      <td>19900.000</td>\n",
       "      <td>2.452644</td>\n",
       "    </tr>\n",
       "    <tr>\n",
       "      <th>130</th>\n",
       "      <td>267</td>\n",
       "      <td>2016</td>\n",
       "      <td>NonResidential</td>\n",
       "      <td>Hotel</td>\n",
       "      <td>Grand Hyatt Seattle</td>\n",
       "      <td>721 Pine St</td>\n",
       "      <td>WA</td>\n",
       "      <td>98101.0</td>\n",
       "      <td>DOWNTOWN</td>\n",
       "      <td>1.0</td>\n",
       "      <td>...</td>\n",
       "      <td>25683162.0</td>\n",
       "      <td>1638.46</td>\n",
       "      <td>1.75</td>\n",
       "      <td>17</td>\n",
       "      <td>5</td>\n",
       "      <td>1.00000</td>\n",
       "      <td>0.00000</td>\n",
       "      <td>934292.0</td>\n",
       "      <td>inf</td>\n",
       "      <td>0.455683</td>\n",
       "    </tr>\n",
       "    <tr>\n",
       "      <th>152</th>\n",
       "      <td>322</td>\n",
       "      <td>2016</td>\n",
       "      <td>NonResidential</td>\n",
       "      <td>Large Office</td>\n",
       "      <td>Cox Media Group Seattle KIRO TV (322)</td>\n",
       "      <td>2801 3rd Ave</td>\n",
       "      <td>WA</td>\n",
       "      <td>98121.0</td>\n",
       "      <td>DOWNTOWN</td>\n",
       "      <td>0.0</td>\n",
       "      <td>...</td>\n",
       "      <td>0.0</td>\n",
       "      <td>68.24</td>\n",
       "      <td>0.68</td>\n",
       "      <td>48</td>\n",
       "      <td>1</td>\n",
       "      <td>0.73464</td>\n",
       "      <td>0.26536</td>\n",
       "      <td>inf</td>\n",
       "      <td>33578.000</td>\n",
       "      <td>1.186739</td>\n",
       "    </tr>\n",
       "  </tbody>\n",
       "</table>\n",
       "<p>5 rows × 30 columns</p>\n",
       "</div>"
      ],
      "text/plain": [
       "     OSEBuildingID  DataYear    BuildingType          PrimaryPropertyType  \\\n",
       "56              89      2016  NonResidential               Medical Office   \n",
       "69             113      2016  NonResidential  Small- and Mid-Sized Office   \n",
       "126            257      2016  NonResidential                    Warehouse   \n",
       "130            267      2016  NonResidential                        Hotel   \n",
       "152            322      2016  NonResidential                 Large Office   \n",
       "\n",
       "                              PropertyName           Address State  ZipCode  \\\n",
       "56               Polyclinic North && South  1200 Harvard Ave    WA  98122.0   \n",
       "69                                   KCTS9     401 Mercer St    WA  98109.0   \n",
       "126  Harbor Island: Warehouse E - DNRP-SWD  3235 16TH AVE SW    WA  98134.0   \n",
       "130                    Grand Hyatt Seattle       721 Pine St    WA  98101.0   \n",
       "152  Cox Media Group Seattle KIRO TV (322)      2801 3rd Ave    WA  98121.0   \n",
       "\n",
       "              Neighborhood  NumberofBuildings  ...  NaturalGas(kBtu)  \\\n",
       "56                    EAST                0.0  ...         6814570.0   \n",
       "69   MAGNOLIA / QUEEN ANNE                0.0  ...               0.0   \n",
       "126       GREATER DUWAMISH                0.0  ...               0.0   \n",
       "130               DOWNTOWN                1.0  ...        25683162.0   \n",
       "152               DOWNTOWN                0.0  ...               0.0   \n",
       "\n",
       "     TotalGHGEmissions GHGEmissionsIntensity BuildingAge  TotalUseTypeNumber  \\\n",
       "56              430.84                  2.41          51                   1   \n",
       "69               29.04                  0.44          30                   5   \n",
       "126              16.81                  0.21         100                   1   \n",
       "130            1638.46                  1.75          17                   5   \n",
       "152              68.24                  0.68          48                   1   \n",
       "\n",
       "     GFABuildingRate  GFAParkingRate  GFAPerBuilding  GFAPerFloor  \\\n",
       "56           1.00000         0.00000             inf    59671.333   \n",
       "69           0.96449         0.03551             inf    33120.000   \n",
       "126          1.00000         0.00000             inf    19900.000   \n",
       "130          1.00000         0.00000        934292.0          inf   \n",
       "152          0.73464         0.26536             inf    33578.000   \n",
       "\n",
       "     harvesine_distance  \n",
       "56             0.658562  \n",
       "69             1.438289  \n",
       "126            2.452644  \n",
       "130            0.455683  \n",
       "152            1.186739  \n",
       "\n",
       "[5 rows x 30 columns]"
      ]
     },
     "execution_count": 894,
     "metadata": {},
     "output_type": "execute_result"
    }
   ],
   "source": [
    "df[(df.GFAPerBuilding == np.inf)  | (df.GFAPerFloor == np.inf)].head()"
   ]
  },
  {
   "cell_type": "code",
   "execution_count": 895,
   "metadata": {},
   "outputs": [],
   "source": [
    "df['GFAPerBuilding'] = np.where(((df.GFAPerBuilding == np.inf)& (df.NumberofBuildings == 0)),0,df.GFAPerBuilding)\n",
    "df['GFAPerFloor'] =np.where(((df.GFAPerFloor == np.inf)&(df.NumberofFloors == 0)),0,df.GFAPerFloor)"
   ]
  },
  {
   "cell_type": "code",
   "execution_count": 896,
   "metadata": {},
   "outputs": [
    {
     "data": {
      "text/html": [
       "<div>\n",
       "<style scoped>\n",
       "    .dataframe tbody tr th:only-of-type {\n",
       "        vertical-align: middle;\n",
       "    }\n",
       "\n",
       "    .dataframe tbody tr th {\n",
       "        vertical-align: top;\n",
       "    }\n",
       "\n",
       "    .dataframe thead th {\n",
       "        text-align: right;\n",
       "    }\n",
       "</style>\n",
       "<table border=\"1\" class=\"dataframe\">\n",
       "  <thead>\n",
       "    <tr style=\"text-align: right;\">\n",
       "      <th></th>\n",
       "      <th>OSEBuildingID</th>\n",
       "      <th>DataYear</th>\n",
       "      <th>ZipCode</th>\n",
       "      <th>NumberofBuildings</th>\n",
       "      <th>NumberofFloors</th>\n",
       "      <th>PropertyGFATotal</th>\n",
       "      <th>ENERGYSTARScore</th>\n",
       "      <th>SiteEUI(kBtu/sf)</th>\n",
       "      <th>SourceEUI(kBtu/sf)</th>\n",
       "      <th>SiteEnergyUse(kBtu)</th>\n",
       "      <th>...</th>\n",
       "      <th>NaturalGas(kBtu)</th>\n",
       "      <th>TotalGHGEmissions</th>\n",
       "      <th>GHGEmissionsIntensity</th>\n",
       "      <th>BuildingAge</th>\n",
       "      <th>TotalUseTypeNumber</th>\n",
       "      <th>GFABuildingRate</th>\n",
       "      <th>GFAParkingRate</th>\n",
       "      <th>GFAPerBuilding</th>\n",
       "      <th>GFAPerFloor</th>\n",
       "      <th>harvesine_distance</th>\n",
       "    </tr>\n",
       "  </thead>\n",
       "  <tbody>\n",
       "    <tr>\n",
       "      <th>count</th>\n",
       "      <td>1548.000000</td>\n",
       "      <td>1548.0</td>\n",
       "      <td>1535.000000</td>\n",
       "      <td>1548.000000</td>\n",
       "      <td>1548.000000</td>\n",
       "      <td>1.548000e+03</td>\n",
       "      <td>997.000000</td>\n",
       "      <td>1548.000000</td>\n",
       "      <td>1548.000000</td>\n",
       "      <td>1.548000e+03</td>\n",
       "      <td>...</td>\n",
       "      <td>1.548000e+03</td>\n",
       "      <td>1548.000000</td>\n",
       "      <td>1548.000000</td>\n",
       "      <td>1548.000000</td>\n",
       "      <td>1548.000000</td>\n",
       "      <td>1548.000000</td>\n",
       "      <td>1548.000000</td>\n",
       "      <td>1.548000e+03</td>\n",
       "      <td>1.548000e+03</td>\n",
       "      <td>1548.000000</td>\n",
       "    </tr>\n",
       "    <tr>\n",
       "      <th>mean</th>\n",
       "      <td>16497.944444</td>\n",
       "      <td>2016.0</td>\n",
       "      <td>98116.776547</td>\n",
       "      <td>1.178941</td>\n",
       "      <td>4.276486</td>\n",
       "      <td>1.213321e+05</td>\n",
       "      <td>63.635908</td>\n",
       "      <td>75.084109</td>\n",
       "      <td>183.216667</td>\n",
       "      <td>8.860058e+06</td>\n",
       "      <td>...</td>\n",
       "      <td>2.038297e+06</td>\n",
       "      <td>193.608908</td>\n",
       "      <td>1.667358</td>\n",
       "      <td>54.355943</td>\n",
       "      <td>1.952842</td>\n",
       "      <td>0.934666</td>\n",
       "      <td>0.065334</td>\n",
       "      <td>1.051305e+05</td>\n",
       "      <td>3.295643e+04</td>\n",
       "      <td>2.720660</td>\n",
       "    </tr>\n",
       "    <tr>\n",
       "      <th>std</th>\n",
       "      <td>13827.877766</td>\n",
       "      <td>0.0</td>\n",
       "      <td>18.695570</td>\n",
       "      <td>3.039221</td>\n",
       "      <td>6.780694</td>\n",
       "      <td>3.062944e+05</td>\n",
       "      <td>28.825309</td>\n",
       "      <td>75.212839</td>\n",
       "      <td>187.966057</td>\n",
       "      <td>3.130568e+07</td>\n",
       "      <td>...</td>\n",
       "      <td>9.710667e+06</td>\n",
       "      <td>779.105278</td>\n",
       "      <td>2.407577</td>\n",
       "      <td>32.886918</td>\n",
       "      <td>1.243355</td>\n",
       "      <td>0.144040</td>\n",
       "      <td>0.144040</td>\n",
       "      <td>1.851890e+05</td>\n",
       "      <td>4.846973e+04</td>\n",
       "      <td>2.187473</td>\n",
       "    </tr>\n",
       "    <tr>\n",
       "      <th>min</th>\n",
       "      <td>1.000000</td>\n",
       "      <td>2016.0</td>\n",
       "      <td>98006.000000</td>\n",
       "      <td>0.000000</td>\n",
       "      <td>0.000000</td>\n",
       "      <td>1.128500e+04</td>\n",
       "      <td>1.000000</td>\n",
       "      <td>1.400000</td>\n",
       "      <td>0.000000</td>\n",
       "      <td>5.713320e+04</td>\n",
       "      <td>...</td>\n",
       "      <td>0.000000e+00</td>\n",
       "      <td>-0.800000</td>\n",
       "      <td>-0.020000</td>\n",
       "      <td>1.000000</td>\n",
       "      <td>1.000000</td>\n",
       "      <td>0.104980</td>\n",
       "      <td>0.000000</td>\n",
       "      <td>0.000000e+00</td>\n",
       "      <td>0.000000e+00</td>\n",
       "      <td>0.021130</td>\n",
       "    </tr>\n",
       "    <tr>\n",
       "      <th>25%</th>\n",
       "      <td>602.750000</td>\n",
       "      <td>2016.0</td>\n",
       "      <td>98104.000000</td>\n",
       "      <td>1.000000</td>\n",
       "      <td>1.000000</td>\n",
       "      <td>2.884325e+04</td>\n",
       "      <td>44.000000</td>\n",
       "      <td>34.900002</td>\n",
       "      <td>81.199997</td>\n",
       "      <td>1.251083e+06</td>\n",
       "      <td>...</td>\n",
       "      <td>0.000000e+00</td>\n",
       "      <td>20.655000</td>\n",
       "      <td>0.360000</td>\n",
       "      <td>27.000000</td>\n",
       "      <td>1.000000</td>\n",
       "      <td>1.000000</td>\n",
       "      <td>0.000000</td>\n",
       "      <td>2.680350e+04</td>\n",
       "      <td>1.283884e+04</td>\n",
       "      <td>0.836309</td>\n",
       "    </tr>\n",
       "    <tr>\n",
       "      <th>50%</th>\n",
       "      <td>21180.500000</td>\n",
       "      <td>2016.0</td>\n",
       "      <td>98109.000000</td>\n",
       "      <td>1.000000</td>\n",
       "      <td>2.000000</td>\n",
       "      <td>4.815900e+04</td>\n",
       "      <td>71.000000</td>\n",
       "      <td>53.750000</td>\n",
       "      <td>138.650002</td>\n",
       "      <td>2.732167e+06</td>\n",
       "      <td>...</td>\n",
       "      <td>4.881350e+05</td>\n",
       "      <td>49.845000</td>\n",
       "      <td>0.880000</td>\n",
       "      <td>50.500000</td>\n",
       "      <td>2.000000</td>\n",
       "      <td>1.000000</td>\n",
       "      <td>0.000000</td>\n",
       "      <td>4.474700e+04</td>\n",
       "      <td>2.204650e+04</td>\n",
       "      <td>2.097849</td>\n",
       "    </tr>\n",
       "    <tr>\n",
       "      <th>75%</th>\n",
       "      <td>24609.000000</td>\n",
       "      <td>2016.0</td>\n",
       "      <td>98125.000000</td>\n",
       "      <td>1.000000</td>\n",
       "      <td>4.000000</td>\n",
       "      <td>1.076615e+05</td>\n",
       "      <td>88.000000</td>\n",
       "      <td>85.199997</td>\n",
       "      <td>213.549995</td>\n",
       "      <td>7.294487e+06</td>\n",
       "      <td>...</td>\n",
       "      <td>1.530812e+06</td>\n",
       "      <td>147.227500</td>\n",
       "      <td>1.960000</td>\n",
       "      <td>86.000000</td>\n",
       "      <td>2.000000</td>\n",
       "      <td>1.000000</td>\n",
       "      <td>0.000000</td>\n",
       "      <td>9.847625e+04</td>\n",
       "      <td>3.601000e+04</td>\n",
       "      <td>4.098127</td>\n",
       "    </tr>\n",
       "    <tr>\n",
       "      <th>max</th>\n",
       "      <td>50226.000000</td>\n",
       "      <td>2016.0</td>\n",
       "      <td>98199.000000</td>\n",
       "      <td>111.000000</td>\n",
       "      <td>99.000000</td>\n",
       "      <td>9.320156e+06</td>\n",
       "      <td>100.000000</td>\n",
       "      <td>834.400024</td>\n",
       "      <td>2620.000000</td>\n",
       "      <td>8.739237e+08</td>\n",
       "      <td>...</td>\n",
       "      <td>2.979090e+08</td>\n",
       "      <td>16870.980000</td>\n",
       "      <td>34.090000</td>\n",
       "      <td>116.000000</td>\n",
       "      <td>13.000000</td>\n",
       "      <td>1.000000</td>\n",
       "      <td>0.895020</td>\n",
       "      <td>2.200000e+06</td>\n",
       "      <td>1.100000e+06</td>\n",
       "      <td>8.843544</td>\n",
       "    </tr>\n",
       "  </tbody>\n",
       "</table>\n",
       "<p>8 rows × 22 columns</p>\n",
       "</div>"
      ],
      "text/plain": [
       "       OSEBuildingID  DataYear       ZipCode  NumberofBuildings  \\\n",
       "count    1548.000000    1548.0   1535.000000        1548.000000   \n",
       "mean    16497.944444    2016.0  98116.776547           1.178941   \n",
       "std     13827.877766       0.0     18.695570           3.039221   \n",
       "min         1.000000    2016.0  98006.000000           0.000000   \n",
       "25%       602.750000    2016.0  98104.000000           1.000000   \n",
       "50%     21180.500000    2016.0  98109.000000           1.000000   \n",
       "75%     24609.000000    2016.0  98125.000000           1.000000   \n",
       "max     50226.000000    2016.0  98199.000000         111.000000   \n",
       "\n",
       "       NumberofFloors  PropertyGFATotal  ENERGYSTARScore  SiteEUI(kBtu/sf)  \\\n",
       "count     1548.000000      1.548000e+03       997.000000       1548.000000   \n",
       "mean         4.276486      1.213321e+05        63.635908         75.084109   \n",
       "std          6.780694      3.062944e+05        28.825309         75.212839   \n",
       "min          0.000000      1.128500e+04         1.000000          1.400000   \n",
       "25%          1.000000      2.884325e+04        44.000000         34.900002   \n",
       "50%          2.000000      4.815900e+04        71.000000         53.750000   \n",
       "75%          4.000000      1.076615e+05        88.000000         85.199997   \n",
       "max         99.000000      9.320156e+06       100.000000        834.400024   \n",
       "\n",
       "       SourceEUI(kBtu/sf)  SiteEnergyUse(kBtu)  ...  NaturalGas(kBtu)  \\\n",
       "count         1548.000000         1.548000e+03  ...      1.548000e+03   \n",
       "mean           183.216667         8.860058e+06  ...      2.038297e+06   \n",
       "std            187.966057         3.130568e+07  ...      9.710667e+06   \n",
       "min              0.000000         5.713320e+04  ...      0.000000e+00   \n",
       "25%             81.199997         1.251083e+06  ...      0.000000e+00   \n",
       "50%            138.650002         2.732167e+06  ...      4.881350e+05   \n",
       "75%            213.549995         7.294487e+06  ...      1.530812e+06   \n",
       "max           2620.000000         8.739237e+08  ...      2.979090e+08   \n",
       "\n",
       "       TotalGHGEmissions  GHGEmissionsIntensity  BuildingAge  \\\n",
       "count        1548.000000            1548.000000  1548.000000   \n",
       "mean          193.608908               1.667358    54.355943   \n",
       "std           779.105278               2.407577    32.886918   \n",
       "min            -0.800000              -0.020000     1.000000   \n",
       "25%            20.655000               0.360000    27.000000   \n",
       "50%            49.845000               0.880000    50.500000   \n",
       "75%           147.227500               1.960000    86.000000   \n",
       "max         16870.980000              34.090000   116.000000   \n",
       "\n",
       "       TotalUseTypeNumber  GFABuildingRate  GFAParkingRate  GFAPerBuilding  \\\n",
       "count         1548.000000      1548.000000     1548.000000    1.548000e+03   \n",
       "mean             1.952842         0.934666        0.065334    1.051305e+05   \n",
       "std              1.243355         0.144040        0.144040    1.851890e+05   \n",
       "min              1.000000         0.104980        0.000000    0.000000e+00   \n",
       "25%              1.000000         1.000000        0.000000    2.680350e+04   \n",
       "50%              2.000000         1.000000        0.000000    4.474700e+04   \n",
       "75%              2.000000         1.000000        0.000000    9.847625e+04   \n",
       "max             13.000000         1.000000        0.895020    2.200000e+06   \n",
       "\n",
       "        GFAPerFloor  harvesine_distance  \n",
       "count  1.548000e+03         1548.000000  \n",
       "mean   3.295643e+04            2.720660  \n",
       "std    4.846973e+04            2.187473  \n",
       "min    0.000000e+00            0.021130  \n",
       "25%    1.283884e+04            0.836309  \n",
       "50%    2.204650e+04            2.097849  \n",
       "75%    3.601000e+04            4.098127  \n",
       "max    1.100000e+06            8.843544  \n",
       "\n",
       "[8 rows x 22 columns]"
      ]
     },
     "execution_count": 896,
     "metadata": {},
     "output_type": "execute_result"
    }
   ],
   "source": [
    "df.describe()"
   ]
  },
  {
   "cell_type": "markdown",
   "metadata": {},
   "source": [
    "Remarque: \n",
    "\n",
    "Comme vue précédemment \"Les Campus\" sont les types de construction qui consomme le plus ! Nous allons vérifier la distribution des consommations en fonction des surfaces totales au sol par catégorie de bâtiment.Et voir si valeurs abérrantes ou anormal apparaissent: "
   ]
  },
  {
   "cell_type": "code",
   "execution_count": 897,
   "metadata": {},
   "outputs": [],
   "source": [
    "%matplotlib inline\n",
    "import matplotlib.pyplot as plt"
   ]
  },
  {
   "cell_type": "code",
   "execution_count": 898,
   "metadata": {},
   "outputs": [],
   "source": [
    "#import tkinter\n",
    "#import matplotlib\n",
    "#import matplotlib.pyplot as plt\n",
    "#matplotlib.use('TkAgg')"
   ]
  },
  {
   "cell_type": "code",
   "execution_count": 899,
   "metadata": {},
   "outputs": [
    {
     "data": {
      "image/png": "[encoded data removed]",
      "text/plain": [
       "<Figure size 864x576 with 1 Axes>"
      ]
     },
     "metadata": {
      "needs_background": "light"
     },
     "output_type": "display_data"
    }
   ],
   "source": [
    "font_title = { 'family' :'serif',\n",
    "                'color': 'red',\n",
    "                'weight':'bold',\n",
    "                'size': 18,}\n",
    "\n",
    "fig = plt.figure(figsize=(12 ,8))\n",
    "sns.scatterplot(data=df, x='PropertyGFATotal', y='SiteEnergyUse(kBtu)',hue=\"BuildingType\")\n",
    "\n",
    "plt.title(f\"Consommation d'énergie par surface totale au sol et par type de bâtiment \\n\",fontsize=16)\n",
    "\n",
    "plt.show()"
   ]
  },
  {
   "cell_type": "markdown",
   "metadata": {},
   "source": [
    "Remarque: \n",
    "\n",
    " - Nous avons ici ,une donnée très sup aux autres => Ici, il ne s'agit visiblement que d'une valeur atypique très isolée. \n",
    "\n",
    " - Nous pourrons supprimer ici ces valeurs atypiques de nos données : "
   ]
  },
  {
   "cell_type": "code",
   "execution_count": 900,
   "metadata": {},
   "outputs": [
    {
     "data": {
      "text/html": [
       "<div>\n",
       "<style scoped>\n",
       "    .dataframe tbody tr th:only-of-type {\n",
       "        vertical-align: middle;\n",
       "    }\n",
       "\n",
       "    .dataframe tbody tr th {\n",
       "        vertical-align: top;\n",
       "    }\n",
       "\n",
       "    .dataframe thead th {\n",
       "        text-align: right;\n",
       "    }\n",
       "</style>\n",
       "<table border=\"1\" class=\"dataframe\">\n",
       "  <thead>\n",
       "    <tr style=\"text-align: right;\">\n",
       "      <th></th>\n",
       "      <th>OSEBuildingID</th>\n",
       "      <th>DataYear</th>\n",
       "      <th>BuildingType</th>\n",
       "      <th>PrimaryPropertyType</th>\n",
       "      <th>PropertyName</th>\n",
       "      <th>Address</th>\n",
       "      <th>State</th>\n",
       "      <th>ZipCode</th>\n",
       "      <th>Neighborhood</th>\n",
       "      <th>NumberofBuildings</th>\n",
       "      <th>...</th>\n",
       "      <th>NaturalGas(kBtu)</th>\n",
       "      <th>TotalGHGEmissions</th>\n",
       "      <th>GHGEmissionsIntensity</th>\n",
       "      <th>BuildingAge</th>\n",
       "      <th>TotalUseTypeNumber</th>\n",
       "      <th>GFABuildingRate</th>\n",
       "      <th>GFAParkingRate</th>\n",
       "      <th>GFAPerBuilding</th>\n",
       "      <th>GFAPerFloor</th>\n",
       "      <th>harvesine_distance</th>\n",
       "    </tr>\n",
       "  </thead>\n",
       "  <tbody>\n",
       "    <tr>\n",
       "      <th>1510</th>\n",
       "      <td>49967</td>\n",
       "      <td>2016</td>\n",
       "      <td>Campus</td>\n",
       "      <td>University</td>\n",
       "      <td>University of Washington - Seattle Campus</td>\n",
       "      <td>NE 45th St &amp; Brooklyn Ave</td>\n",
       "      <td>WA</td>\n",
       "      <td>98105.0</td>\n",
       "      <td>NORTHEAST</td>\n",
       "      <td>111.0</td>\n",
       "      <td>...</td>\n",
       "      <td>0.0</td>\n",
       "      <td>11140.56</td>\n",
       "      <td>1.2</td>\n",
       "      <td>116</td>\n",
       "      <td>1</td>\n",
       "      <td>1.0</td>\n",
       "      <td>0.0</td>\n",
       "      <td>83965.369</td>\n",
       "      <td>0.0</td>\n",
       "      <td>3.612662</td>\n",
       "    </tr>\n",
       "  </tbody>\n",
       "</table>\n",
       "<p>1 rows × 30 columns</p>\n",
       "</div>"
      ],
      "text/plain": [
       "      OSEBuildingID  DataYear BuildingType PrimaryPropertyType  \\\n",
       "1510          49967      2016       Campus          University   \n",
       "\n",
       "                                   PropertyName                    Address  \\\n",
       "1510  University of Washington - Seattle Campus  NE 45th St & Brooklyn Ave   \n",
       "\n",
       "     State  ZipCode Neighborhood  NumberofBuildings  ...  NaturalGas(kBtu)  \\\n",
       "1510    WA  98105.0    NORTHEAST              111.0  ...               0.0   \n",
       "\n",
       "      TotalGHGEmissions GHGEmissionsIntensity BuildingAge  TotalUseTypeNumber  \\\n",
       "1510           11140.56                   1.2         116                   1   \n",
       "\n",
       "      GFABuildingRate  GFAParkingRate  GFAPerBuilding  GFAPerFloor  \\\n",
       "1510              1.0             0.0       83965.369          0.0   \n",
       "\n",
       "      harvesine_distance  \n",
       "1510            3.612662  \n",
       "\n",
       "[1 rows x 30 columns]"
      ]
     },
     "execution_count": 900,
     "metadata": {},
     "output_type": "execute_result"
    }
   ],
   "source": [
    "df[df['SiteEnergyUse(kBtu)']>8*10**8]"
   ]
  },
  {
   "cell_type": "code",
   "execution_count": 901,
   "metadata": {},
   "outputs": [],
   "source": [
    "df=df[df['SiteEnergyUse(kBtu)']<8*10**8]"
   ]
  },
  {
   "cell_type": "code",
   "execution_count": 902,
   "metadata": {},
   "outputs": [
    {
     "data": {
      "text/html": [
       "<div>\n",
       "<style scoped>\n",
       "    .dataframe tbody tr th:only-of-type {\n",
       "        vertical-align: middle;\n",
       "    }\n",
       "\n",
       "    .dataframe tbody tr th {\n",
       "        vertical-align: top;\n",
       "    }\n",
       "\n",
       "    .dataframe thead th {\n",
       "        text-align: right;\n",
       "    }\n",
       "</style>\n",
       "<table border=\"1\" class=\"dataframe\">\n",
       "  <thead>\n",
       "    <tr style=\"text-align: right;\">\n",
       "      <th></th>\n",
       "      <th>OSEBuildingID</th>\n",
       "      <th>DataYear</th>\n",
       "      <th>BuildingType</th>\n",
       "      <th>PrimaryPropertyType</th>\n",
       "      <th>PropertyName</th>\n",
       "      <th>Address</th>\n",
       "      <th>State</th>\n",
       "      <th>ZipCode</th>\n",
       "      <th>Neighborhood</th>\n",
       "      <th>NumberofBuildings</th>\n",
       "      <th>...</th>\n",
       "      <th>NaturalGas(kBtu)</th>\n",
       "      <th>TotalGHGEmissions</th>\n",
       "      <th>GHGEmissionsIntensity</th>\n",
       "      <th>BuildingAge</th>\n",
       "      <th>TotalUseTypeNumber</th>\n",
       "      <th>GFABuildingRate</th>\n",
       "      <th>GFAParkingRate</th>\n",
       "      <th>GFAPerBuilding</th>\n",
       "      <th>GFAPerFloor</th>\n",
       "      <th>harvesine_distance</th>\n",
       "    </tr>\n",
       "  </thead>\n",
       "  <tbody>\n",
       "    <tr>\n",
       "      <th>1488</th>\n",
       "      <td>49784</td>\n",
       "      <td>2016</td>\n",
       "      <td>NonResidential</td>\n",
       "      <td>Small- and Mid-Sized Office</td>\n",
       "      <td>Bullitt Center</td>\n",
       "      <td>1501 E. Madison St.</td>\n",
       "      <td>WA</td>\n",
       "      <td>98122.0</td>\n",
       "      <td>CENTRAL</td>\n",
       "      <td>1.0</td>\n",
       "      <td>...</td>\n",
       "      <td>0.0</td>\n",
       "      <td>-0.8</td>\n",
       "      <td>-0.02</td>\n",
       "      <td>3</td>\n",
       "      <td>1</td>\n",
       "      <td>1.0</td>\n",
       "      <td>0.0</td>\n",
       "      <td>52000.0</td>\n",
       "      <td>8666.667</td>\n",
       "      <td>1.068066</td>\n",
       "    </tr>\n",
       "  </tbody>\n",
       "</table>\n",
       "<p>1 rows × 30 columns</p>\n",
       "</div>"
      ],
      "text/plain": [
       "      OSEBuildingID  DataYear    BuildingType          PrimaryPropertyType  \\\n",
       "1488          49784      2016  NonResidential  Small- and Mid-Sized Office   \n",
       "\n",
       "        PropertyName              Address State  ZipCode Neighborhood  \\\n",
       "1488  Bullitt Center  1501 E. Madison St.    WA  98122.0      CENTRAL   \n",
       "\n",
       "      NumberofBuildings  ...  NaturalGas(kBtu)  TotalGHGEmissions  \\\n",
       "1488                1.0  ...               0.0               -0.8   \n",
       "\n",
       "     GHGEmissionsIntensity BuildingAge  TotalUseTypeNumber  GFABuildingRate  \\\n",
       "1488                 -0.02           3                   1              1.0   \n",
       "\n",
       "      GFAParkingRate  GFAPerBuilding  GFAPerFloor  harvesine_distance  \n",
       "1488             0.0         52000.0     8666.667            1.068066  \n",
       "\n",
       "[1 rows x 30 columns]"
      ]
     },
     "execution_count": 902,
     "metadata": {},
     "output_type": "execute_result"
    }
   ],
   "source": [
    "df[df['TotalGHGEmissions']<0]"
   ]
  },
  {
   "cell_type": "code",
   "execution_count": 903,
   "metadata": {},
   "outputs": [
    {
     "data": {
      "text/plain": [
       "(1547, 30)"
      ]
     },
     "execution_count": 903,
     "metadata": {},
     "output_type": "execute_result"
    }
   ],
   "source": [
    "df.shape"
   ]
  },
  {
   "cell_type": "code",
   "execution_count": 904,
   "metadata": {},
   "outputs": [],
   "source": [
    "df=df[df['TotalGHGEmissions']>0]"
   ]
  },
  {
   "cell_type": "code",
   "execution_count": 905,
   "metadata": {},
   "outputs": [
    {
     "data": {
      "text/plain": [
       "(1545, 30)"
      ]
     },
     "execution_count": 905,
     "metadata": {},
     "output_type": "execute_result"
    }
   ],
   "source": [
    "df.shape"
   ]
  },
  {
   "cell_type": "markdown",
   "metadata": {},
   "source": [
    "Nous allons regrouper les données d'identification des bâtiments afin qu'elle ne pertubent pas nos modélisations mais reste utilisable. \n",
    "\n",
    "Et supprimer les variables (\"'SteamUse(kBtu)\" | \"Electricity(kBtu)\"|\"NaturalGas(kBtu)\") :"
   ]
  },
  {
   "cell_type": "code",
   "execution_count": 906,
   "metadata": {},
   "outputs": [],
   "source": [
    "identification_features=['OSEBuildingID','PropertyName','Address','ZipCode']\n",
    "\n",
    "df_identification = df[identification_features]\n",
    "\n",
    "df2 = df.drop(identification_features,axis=1)"
   ]
  },
  {
   "cell_type": "code",
   "execution_count": 907,
   "metadata": {},
   "outputs": [
    {
     "data": {
      "text/plain": [
       "Index(['DataYear', 'BuildingType', 'PrimaryPropertyType', 'State',\n",
       "       'Neighborhood', 'NumberofBuildings', 'NumberofFloors',\n",
       "       'PropertyGFATotal', 'LargestPropertyUseType',\n",
       "       'YearsENERGYSTARCertified', 'ENERGYSTARScore', 'SiteEUI(kBtu/sf)',\n",
       "       'SourceEUI(kBtu/sf)', 'SiteEnergyUse(kBtu)', 'SteamUse(kBtu)',\n",
       "       'Electricity(kBtu)', 'NaturalGas(kBtu)', 'TotalGHGEmissions',\n",
       "       'GHGEmissionsIntensity', 'BuildingAge', 'TotalUseTypeNumber',\n",
       "       'GFABuildingRate', 'GFAParkingRate', 'GFAPerBuilding', 'GFAPerFloor',\n",
       "       'harvesine_distance'],\n",
       "      dtype='object')"
      ]
     },
     "execution_count": 907,
     "metadata": {},
     "output_type": "execute_result"
    }
   ],
   "source": [
    "df2.columns"
   ]
  },
  {
   "cell_type": "code",
   "execution_count": 908,
   "metadata": {},
   "outputs": [],
   "source": [
    "df3 = df2.drop(['SteamUse(kBtu)','Electricity(kBtu)',\n",
    "                         'NaturalGas(kBtu)'],axis=1)"
   ]
  },
  {
   "cell_type": "code",
   "execution_count": 909,
   "metadata": {},
   "outputs": [
    {
     "data": {
      "text/plain": [
       "Index(['DataYear', 'BuildingType', 'PrimaryPropertyType', 'State',\n",
       "       'Neighborhood', 'NumberofBuildings', 'NumberofFloors',\n",
       "       'PropertyGFATotal', 'LargestPropertyUseType',\n",
       "       'YearsENERGYSTARCertified', 'ENERGYSTARScore', 'SiteEUI(kBtu/sf)',\n",
       "       'SourceEUI(kBtu/sf)', 'SiteEnergyUse(kBtu)', 'TotalGHGEmissions',\n",
       "       'GHGEmissionsIntensity', 'BuildingAge', 'TotalUseTypeNumber',\n",
       "       'GFABuildingRate', 'GFAParkingRate', 'GFAPerBuilding', 'GFAPerFloor',\n",
       "       'harvesine_distance'],\n",
       "      dtype='object')"
      ]
     },
     "execution_count": 909,
     "metadata": {},
     "output_type": "execute_result"
    }
   ],
   "source": [
    "df3.columns"
   ]
  },
  {
   "cell_type": "code",
   "execution_count": 910,
   "metadata": {},
   "outputs": [
    {
     "data": {
      "text/html": [
       "<div>\n",
       "<style scoped>\n",
       "    .dataframe tbody tr th:only-of-type {\n",
       "        vertical-align: middle;\n",
       "    }\n",
       "\n",
       "    .dataframe tbody tr th {\n",
       "        vertical-align: top;\n",
       "    }\n",
       "\n",
       "    .dataframe thead th {\n",
       "        text-align: right;\n",
       "    }\n",
       "</style>\n",
       "<table border=\"1\" class=\"dataframe\">\n",
       "  <thead>\n",
       "    <tr style=\"text-align: right;\">\n",
       "      <th></th>\n",
       "      <th>DataYear</th>\n",
       "      <th>BuildingType</th>\n",
       "      <th>PrimaryPropertyType</th>\n",
       "      <th>State</th>\n",
       "      <th>Neighborhood</th>\n",
       "      <th>NumberofBuildings</th>\n",
       "      <th>NumberofFloors</th>\n",
       "      <th>PropertyGFATotal</th>\n",
       "      <th>LargestPropertyUseType</th>\n",
       "      <th>YearsENERGYSTARCertified</th>\n",
       "      <th>...</th>\n",
       "      <th>SiteEnergyUse(kBtu)</th>\n",
       "      <th>TotalGHGEmissions</th>\n",
       "      <th>GHGEmissionsIntensity</th>\n",
       "      <th>BuildingAge</th>\n",
       "      <th>TotalUseTypeNumber</th>\n",
       "      <th>GFABuildingRate</th>\n",
       "      <th>GFAParkingRate</th>\n",
       "      <th>GFAPerBuilding</th>\n",
       "      <th>GFAPerFloor</th>\n",
       "      <th>harvesine_distance</th>\n",
       "    </tr>\n",
       "  </thead>\n",
       "  <tbody>\n",
       "    <tr>\n",
       "      <th>0</th>\n",
       "      <td>2016</td>\n",
       "      <td>NonResidential</td>\n",
       "      <td>Hotel</td>\n",
       "      <td>WA</td>\n",
       "      <td>DOWNTOWN</td>\n",
       "      <td>1.0</td>\n",
       "      <td>12</td>\n",
       "      <td>88434</td>\n",
       "      <td>Hotel</td>\n",
       "      <td>NaN</td>\n",
       "      <td>...</td>\n",
       "      <td>7226362.5</td>\n",
       "      <td>249.98</td>\n",
       "      <td>2.83</td>\n",
       "      <td>89</td>\n",
       "      <td>1</td>\n",
       "      <td>1.00000</td>\n",
       "      <td>0.00000</td>\n",
       "      <td>88434.0</td>\n",
       "      <td>7369.500</td>\n",
       "      <td>0.496782</td>\n",
       "    </tr>\n",
       "    <tr>\n",
       "      <th>1</th>\n",
       "      <td>2016</td>\n",
       "      <td>NonResidential</td>\n",
       "      <td>Hotel</td>\n",
       "      <td>WA</td>\n",
       "      <td>DOWNTOWN</td>\n",
       "      <td>1.0</td>\n",
       "      <td>11</td>\n",
       "      <td>103566</td>\n",
       "      <td>Hotel</td>\n",
       "      <td>NaN</td>\n",
       "      <td>...</td>\n",
       "      <td>8387933.0</td>\n",
       "      <td>295.86</td>\n",
       "      <td>2.86</td>\n",
       "      <td>20</td>\n",
       "      <td>3</td>\n",
       "      <td>0.85455</td>\n",
       "      <td>0.14545</td>\n",
       "      <td>103566.0</td>\n",
       "      <td>9415.091</td>\n",
       "      <td>0.488726</td>\n",
       "    </tr>\n",
       "    <tr>\n",
       "      <th>2</th>\n",
       "      <td>2016</td>\n",
       "      <td>NonResidential</td>\n",
       "      <td>Hotel</td>\n",
       "      <td>WA</td>\n",
       "      <td>DOWNTOWN</td>\n",
       "      <td>1.0</td>\n",
       "      <td>41</td>\n",
       "      <td>956110</td>\n",
       "      <td>Hotel</td>\n",
       "      <td>NaN</td>\n",
       "      <td>...</td>\n",
       "      <td>72587024.0</td>\n",
       "      <td>2089.28</td>\n",
       "      <td>2.19</td>\n",
       "      <td>47</td>\n",
       "      <td>1</td>\n",
       "      <td>0.79425</td>\n",
       "      <td>0.20575</td>\n",
       "      <td>956110.0</td>\n",
       "      <td>23319.756</td>\n",
       "      <td>0.602378</td>\n",
       "    </tr>\n",
       "    <tr>\n",
       "      <th>3</th>\n",
       "      <td>2016</td>\n",
       "      <td>NonResidential</td>\n",
       "      <td>Hotel</td>\n",
       "      <td>WA</td>\n",
       "      <td>DOWNTOWN</td>\n",
       "      <td>1.0</td>\n",
       "      <td>10</td>\n",
       "      <td>61320</td>\n",
       "      <td>Hotel</td>\n",
       "      <td>NaN</td>\n",
       "      <td>...</td>\n",
       "      <td>6794584.0</td>\n",
       "      <td>286.43</td>\n",
       "      <td>4.67</td>\n",
       "      <td>90</td>\n",
       "      <td>1</td>\n",
       "      <td>1.00000</td>\n",
       "      <td>0.00000</td>\n",
       "      <td>61320.0</td>\n",
       "      <td>6132.000</td>\n",
       "      <td>0.586253</td>\n",
       "    </tr>\n",
       "    <tr>\n",
       "      <th>4</th>\n",
       "      <td>2016</td>\n",
       "      <td>NonResidential</td>\n",
       "      <td>Hotel</td>\n",
       "      <td>WA</td>\n",
       "      <td>DOWNTOWN</td>\n",
       "      <td>1.0</td>\n",
       "      <td>18</td>\n",
       "      <td>175580</td>\n",
       "      <td>Hotel</td>\n",
       "      <td>NaN</td>\n",
       "      <td>...</td>\n",
       "      <td>14172606.0</td>\n",
       "      <td>505.01</td>\n",
       "      <td>2.88</td>\n",
       "      <td>36</td>\n",
       "      <td>3</td>\n",
       "      <td>0.64688</td>\n",
       "      <td>0.35312</td>\n",
       "      <td>175580.0</td>\n",
       "      <td>9754.444</td>\n",
       "      <td>0.650801</td>\n",
       "    </tr>\n",
       "  </tbody>\n",
       "</table>\n",
       "<p>5 rows × 23 columns</p>\n",
       "</div>"
      ],
      "text/plain": [
       "   DataYear    BuildingType PrimaryPropertyType State Neighborhood  \\\n",
       "0      2016  NonResidential               Hotel    WA     DOWNTOWN   \n",
       "1      2016  NonResidential               Hotel    WA     DOWNTOWN   \n",
       "2      2016  NonResidential               Hotel    WA     DOWNTOWN   \n",
       "3      2016  NonResidential               Hotel    WA     DOWNTOWN   \n",
       "4      2016  NonResidential               Hotel    WA     DOWNTOWN   \n",
       "\n",
       "   NumberofBuildings  NumberofFloors  PropertyGFATotal LargestPropertyUseType  \\\n",
       "0                1.0              12             88434                  Hotel   \n",
       "1                1.0              11            103566                  Hotel   \n",
       "2                1.0              41            956110                  Hotel   \n",
       "3                1.0              10             61320                  Hotel   \n",
       "4                1.0              18            175580                  Hotel   \n",
       "\n",
       "  YearsENERGYSTARCertified  ...  SiteEnergyUse(kBtu)  TotalGHGEmissions  \\\n",
       "0                      NaN  ...            7226362.5             249.98   \n",
       "1                      NaN  ...            8387933.0             295.86   \n",
       "2                      NaN  ...           72587024.0            2089.28   \n",
       "3                      NaN  ...            6794584.0             286.43   \n",
       "4                      NaN  ...           14172606.0             505.01   \n",
       "\n",
       "   GHGEmissionsIntensity  BuildingAge  TotalUseTypeNumber  GFABuildingRate  \\\n",
       "0                   2.83           89                   1          1.00000   \n",
       "1                   2.86           20                   3          0.85455   \n",
       "2                   2.19           47                   1          0.79425   \n",
       "3                   4.67           90                   1          1.00000   \n",
       "4                   2.88           36                   3          0.64688   \n",
       "\n",
       "   GFAParkingRate  GFAPerBuilding  GFAPerFloor  harvesine_distance  \n",
       "0         0.00000         88434.0     7369.500            0.496782  \n",
       "1         0.14545        103566.0     9415.091            0.488726  \n",
       "2         0.20575        956110.0    23319.756            0.602378  \n",
       "3         0.00000         61320.0     6132.000            0.586253  \n",
       "4         0.35312        175580.0     9754.444            0.650801  \n",
       "\n",
       "[5 rows x 23 columns]"
      ]
     },
     "execution_count": 910,
     "metadata": {},
     "output_type": "execute_result"
    }
   ],
   "source": [
    "df3.head()"
   ]
  },
  {
   "cell_type": "code",
   "execution_count": 911,
   "metadata": {},
   "outputs": [
    {
     "data": {
      "text/html": [
       "<div>\n",
       "<style scoped>\n",
       "    .dataframe tbody tr th:only-of-type {\n",
       "        vertical-align: middle;\n",
       "    }\n",
       "\n",
       "    .dataframe tbody tr th {\n",
       "        vertical-align: top;\n",
       "    }\n",
       "\n",
       "    .dataframe thead th {\n",
       "        text-align: right;\n",
       "    }\n",
       "</style>\n",
       "<table border=\"1\" class=\"dataframe\">\n",
       "  <thead>\n",
       "    <tr style=\"text-align: right;\">\n",
       "      <th></th>\n",
       "      <th>DataYear</th>\n",
       "      <th>NumberofBuildings</th>\n",
       "      <th>NumberofFloors</th>\n",
       "      <th>PropertyGFATotal</th>\n",
       "      <th>ENERGYSTARScore</th>\n",
       "      <th>SiteEUI(kBtu/sf)</th>\n",
       "      <th>SourceEUI(kBtu/sf)</th>\n",
       "      <th>SiteEnergyUse(kBtu)</th>\n",
       "      <th>TotalGHGEmissions</th>\n",
       "      <th>GHGEmissionsIntensity</th>\n",
       "      <th>BuildingAge</th>\n",
       "      <th>TotalUseTypeNumber</th>\n",
       "      <th>GFABuildingRate</th>\n",
       "      <th>GFAParkingRate</th>\n",
       "      <th>GFAPerBuilding</th>\n",
       "      <th>GFAPerFloor</th>\n",
       "      <th>harvesine_distance</th>\n",
       "    </tr>\n",
       "  </thead>\n",
       "  <tbody>\n",
       "    <tr>\n",
       "      <th>count</th>\n",
       "      <td>1545.0</td>\n",
       "      <td>1545.000000</td>\n",
       "      <td>1545.000000</td>\n",
       "      <td>1.545000e+03</td>\n",
       "      <td>995.000000</td>\n",
       "      <td>1545.000000</td>\n",
       "      <td>1545.000000</td>\n",
       "      <td>1.545000e+03</td>\n",
       "      <td>1545.000000</td>\n",
       "      <td>1545.000000</td>\n",
       "      <td>1545.000000</td>\n",
       "      <td>1545.000000</td>\n",
       "      <td>1545.000000</td>\n",
       "      <td>1545.000000</td>\n",
       "      <td>1.545000e+03</td>\n",
       "      <td>1.545000e+03</td>\n",
       "      <td>1545.000000</td>\n",
       "    </tr>\n",
       "    <tr>\n",
       "      <th>mean</th>\n",
       "      <td>2016.0</td>\n",
       "      <td>1.108091</td>\n",
       "      <td>4.280259</td>\n",
       "      <td>1.154646e+05</td>\n",
       "      <td>63.632161</td>\n",
       "      <td>75.029450</td>\n",
       "      <td>183.411521</td>\n",
       "      <td>8.303287e+06</td>\n",
       "      <td>186.774647</td>\n",
       "      <td>1.669832</td>\n",
       "      <td>54.379288</td>\n",
       "      <td>1.952104</td>\n",
       "      <td>0.934539</td>\n",
       "      <td>0.065461</td>\n",
       "      <td>1.052097e+05</td>\n",
       "      <td>3.297781e+04</td>\n",
       "      <td>2.720970</td>\n",
       "    </tr>\n",
       "    <tr>\n",
       "      <th>std</th>\n",
       "      <td>0.0</td>\n",
       "      <td>1.199349</td>\n",
       "      <td>6.785750</td>\n",
       "      <td>1.978729e+05</td>\n",
       "      <td>28.812643</td>\n",
       "      <td>75.187493</td>\n",
       "      <td>188.027224</td>\n",
       "      <td>2.229149e+07</td>\n",
       "      <td>728.337240</td>\n",
       "      <td>2.409128</td>\n",
       "      <td>32.834269</td>\n",
       "      <td>1.241671</td>\n",
       "      <td>0.144151</td>\n",
       "      <td>0.144151</td>\n",
       "      <td>1.853590e+05</td>\n",
       "      <td>4.850169e+04</td>\n",
       "      <td>2.189064</td>\n",
       "    </tr>\n",
       "    <tr>\n",
       "      <th>min</th>\n",
       "      <td>2016.0</td>\n",
       "      <td>0.000000</td>\n",
       "      <td>0.000000</td>\n",
       "      <td>1.128500e+04</td>\n",
       "      <td>1.000000</td>\n",
       "      <td>1.400000</td>\n",
       "      <td>0.000000</td>\n",
       "      <td>5.713320e+04</td>\n",
       "      <td>0.400000</td>\n",
       "      <td>0.010000</td>\n",
       "      <td>1.000000</td>\n",
       "      <td>1.000000</td>\n",
       "      <td>0.104980</td>\n",
       "      <td>0.000000</td>\n",
       "      <td>0.000000e+00</td>\n",
       "      <td>0.000000e+00</td>\n",
       "      <td>0.021130</td>\n",
       "    </tr>\n",
       "    <tr>\n",
       "      <th>25%</th>\n",
       "      <td>2016.0</td>\n",
       "      <td>1.000000</td>\n",
       "      <td>1.000000</td>\n",
       "      <td>2.884100e+04</td>\n",
       "      <td>44.000000</td>\n",
       "      <td>34.900002</td>\n",
       "      <td>81.400002</td>\n",
       "      <td>1.252324e+06</td>\n",
       "      <td>20.760000</td>\n",
       "      <td>0.360000</td>\n",
       "      <td>27.000000</td>\n",
       "      <td>1.000000</td>\n",
       "      <td>1.000000</td>\n",
       "      <td>0.000000</td>\n",
       "      <td>2.669400e+04</td>\n",
       "      <td>1.284750e+04</td>\n",
       "      <td>0.833517</td>\n",
       "    </tr>\n",
       "    <tr>\n",
       "      <th>50%</th>\n",
       "      <td>2016.0</td>\n",
       "      <td>1.000000</td>\n",
       "      <td>2.000000</td>\n",
       "      <td>4.811200e+04</td>\n",
       "      <td>71.000000</td>\n",
       "      <td>53.700001</td>\n",
       "      <td>138.699997</td>\n",
       "      <td>2.729168e+06</td>\n",
       "      <td>49.900000</td>\n",
       "      <td>0.880000</td>\n",
       "      <td>51.000000</td>\n",
       "      <td>2.000000</td>\n",
       "      <td>1.000000</td>\n",
       "      <td>0.000000</td>\n",
       "      <td>4.471900e+04</td>\n",
       "      <td>2.204700e+04</td>\n",
       "      <td>2.097496</td>\n",
       "    </tr>\n",
       "    <tr>\n",
       "      <th>75%</th>\n",
       "      <td>2016.0</td>\n",
       "      <td>1.000000</td>\n",
       "      <td>4.000000</td>\n",
       "      <td>1.075720e+05</td>\n",
       "      <td>88.000000</td>\n",
       "      <td>85.099998</td>\n",
       "      <td>213.399994</td>\n",
       "      <td>7.273156e+06</td>\n",
       "      <td>147.140000</td>\n",
       "      <td>1.960000</td>\n",
       "      <td>86.000000</td>\n",
       "      <td>2.000000</td>\n",
       "      <td>1.000000</td>\n",
       "      <td>0.000000</td>\n",
       "      <td>9.848000e+04</td>\n",
       "      <td>3.600000e+04</td>\n",
       "      <td>4.099345</td>\n",
       "    </tr>\n",
       "    <tr>\n",
       "      <th>max</th>\n",
       "      <td>2016.0</td>\n",
       "      <td>27.000000</td>\n",
       "      <td>99.000000</td>\n",
       "      <td>2.200000e+06</td>\n",
       "      <td>100.000000</td>\n",
       "      <td>834.400024</td>\n",
       "      <td>2620.000000</td>\n",
       "      <td>4.483853e+08</td>\n",
       "      <td>16870.980000</td>\n",
       "      <td>34.090000</td>\n",
       "      <td>116.000000</td>\n",
       "      <td>13.000000</td>\n",
       "      <td>1.000000</td>\n",
       "      <td>0.895020</td>\n",
       "      <td>2.200000e+06</td>\n",
       "      <td>1.100000e+06</td>\n",
       "      <td>8.843544</td>\n",
       "    </tr>\n",
       "  </tbody>\n",
       "</table>\n",
       "</div>"
      ],
      "text/plain": [
       "       DataYear  NumberofBuildings  NumberofFloors  PropertyGFATotal  \\\n",
       "count    1545.0        1545.000000     1545.000000      1.545000e+03   \n",
       "mean     2016.0           1.108091        4.280259      1.154646e+05   \n",
       "std         0.0           1.199349        6.785750      1.978729e+05   \n",
       "min      2016.0           0.000000        0.000000      1.128500e+04   \n",
       "25%      2016.0           1.000000        1.000000      2.884100e+04   \n",
       "50%      2016.0           1.000000        2.000000      4.811200e+04   \n",
       "75%      2016.0           1.000000        4.000000      1.075720e+05   \n",
       "max      2016.0          27.000000       99.000000      2.200000e+06   \n",
       "\n",
       "       ENERGYSTARScore  SiteEUI(kBtu/sf)  SourceEUI(kBtu/sf)  \\\n",
       "count       995.000000       1545.000000         1545.000000   \n",
       "mean         63.632161         75.029450          183.411521   \n",
       "std          28.812643         75.187493          188.027224   \n",
       "min           1.000000          1.400000            0.000000   \n",
       "25%          44.000000         34.900002           81.400002   \n",
       "50%          71.000000         53.700001          138.699997   \n",
       "75%          88.000000         85.099998          213.399994   \n",
       "max         100.000000        834.400024         2620.000000   \n",
       "\n",
       "       SiteEnergyUse(kBtu)  TotalGHGEmissions  GHGEmissionsIntensity  \\\n",
       "count         1.545000e+03        1545.000000            1545.000000   \n",
       "mean          8.303287e+06         186.774647               1.669832   \n",
       "std           2.229149e+07         728.337240               2.409128   \n",
       "min           5.713320e+04           0.400000               0.010000   \n",
       "25%           1.252324e+06          20.760000               0.360000   \n",
       "50%           2.729168e+06          49.900000               0.880000   \n",
       "75%           7.273156e+06         147.140000               1.960000   \n",
       "max           4.483853e+08       16870.980000              34.090000   \n",
       "\n",
       "       BuildingAge  TotalUseTypeNumber  GFABuildingRate  GFAParkingRate  \\\n",
       "count  1545.000000         1545.000000      1545.000000     1545.000000   \n",
       "mean     54.379288            1.952104         0.934539        0.065461   \n",
       "std      32.834269            1.241671         0.144151        0.144151   \n",
       "min       1.000000            1.000000         0.104980        0.000000   \n",
       "25%      27.000000            1.000000         1.000000        0.000000   \n",
       "50%      51.000000            2.000000         1.000000        0.000000   \n",
       "75%      86.000000            2.000000         1.000000        0.000000   \n",
       "max     116.000000           13.000000         1.000000        0.895020   \n",
       "\n",
       "       GFAPerBuilding   GFAPerFloor  harvesine_distance  \n",
       "count    1.545000e+03  1.545000e+03         1545.000000  \n",
       "mean     1.052097e+05  3.297781e+04            2.720970  \n",
       "std      1.853590e+05  4.850169e+04            2.189064  \n",
       "min      0.000000e+00  0.000000e+00            0.021130  \n",
       "25%      2.669400e+04  1.284750e+04            0.833517  \n",
       "50%      4.471900e+04  2.204700e+04            2.097496  \n",
       "75%      9.848000e+04  3.600000e+04            4.099345  \n",
       "max      2.200000e+06  1.100000e+06            8.843544  "
      ]
     },
     "execution_count": 911,
     "metadata": {},
     "output_type": "execute_result"
    }
   ],
   "source": [
    "df3.describe()"
   ]
  },
  {
   "cell_type": "code",
   "execution_count": 912,
   "metadata": {},
   "outputs": [
    {
     "data": {
      "text/plain": [
       "DataYear                       0\n",
       "BuildingType                   0\n",
       "PrimaryPropertyType            0\n",
       "State                          0\n",
       "Neighborhood                   0\n",
       "NumberofBuildings              0\n",
       "NumberofFloors                 0\n",
       "PropertyGFATotal               0\n",
       "LargestPropertyUseType         0\n",
       "YearsENERGYSTARCertified    1448\n",
       "ENERGYSTARScore              550\n",
       "SiteEUI(kBtu/sf)               0\n",
       "SourceEUI(kBtu/sf)             0\n",
       "SiteEnergyUse(kBtu)            0\n",
       "TotalGHGEmissions              0\n",
       "GHGEmissionsIntensity          0\n",
       "BuildingAge                    0\n",
       "TotalUseTypeNumber             0\n",
       "GFABuildingRate                0\n",
       "GFAParkingRate                 0\n",
       "GFAPerBuilding                 0\n",
       "GFAPerFloor                    0\n",
       "harvesine_distance             0\n",
       "dtype: int64"
      ]
     },
     "execution_count": 912,
     "metadata": {},
     "output_type": "execute_result"
    }
   ],
   "source": [
    "#Valeur manquante\n",
    "df3.isna().sum()"
   ]
  },
  {
   "cell_type": "markdown",
   "metadata": {},
   "source": [
    "* 1.1. Encodage et standardisation"
   ]
  },
  {
   "cell_type": "markdown",
   "metadata": {},
   "source": [
    "Ici ,nous allons séparer les données numériques et les données catégorielles\n",
    "de notre dataset :"
   ]
  },
  {
   "cell_type": "code",
   "execution_count": 913,
   "metadata": {},
   "outputs": [],
   "source": [
    "numerical_features = df3.select_dtypes(include=['int64','float64'])\n",
    "\n",
    "categorical_features = df3.select_dtypes(exclude=['int64','float64'])"
   ]
  },
  {
   "cell_type": "markdown",
   "metadata": {},
   "source": [
    "Pour les données catégorielles: \n",
    "\n",
    " - => nous allons devoir encoder les valeurs. Nous allons donc supprimer les variables qui n'apporteront rien à notre modèle ( par exemple: les constantes) et séparer les variables pouvant être encodées en OneHot des autres."
   ]
  },
  {
   "cell_type": "code",
   "execution_count": 914,
   "metadata": {},
   "outputs": [
    {
     "data": {
      "text/plain": [
       "BuildingType                 5\n",
       "PrimaryPropertyType         21\n",
       "State                        1\n",
       "Neighborhood                19\n",
       "LargestPropertyUseType      56\n",
       "YearsENERGYSTARCertified    64\n",
       "dtype: int64"
      ]
     },
     "execution_count": 914,
     "metadata": {},
     "output_type": "execute_result"
    }
   ],
   "source": [
    "categorical_features.nunique()"
   ]
  },
  {
   "cell_type": "code",
   "execution_count": 915,
   "metadata": {},
   "outputs": [],
   "source": [
    "categorical_features = categorical_features.drop(['State','YearsENERGYSTARCertified'],axis=1)"
   ]
  },
  {
   "cell_type": "code",
   "execution_count": 916,
   "metadata": {},
   "outputs": [
    {
     "data": {
      "text/plain": [
       "BuildingType               5\n",
       "PrimaryPropertyType       21\n",
       "Neighborhood              19\n",
       "LargestPropertyUseType    56\n",
       "dtype: int64"
      ]
     },
     "execution_count": 916,
     "metadata": {},
     "output_type": "execute_result"
    }
   ],
   "source": [
    "categorical_features.nunique()"
   ]
  },
  {
   "cell_type": "markdown",
   "metadata": {},
   "source": [
    "Pour toutes ces variables, nous pourrons utiliser la méthode \"TagetEncoder\" de la librairie Category_Encoders que nous intégrerons dans un pipeline Sklearn.\n",
    "Cet encodeur réalise 2 principales étapes :\n",
    "\n",
    "- Groupe les données par chaque catégorie et compte de nombre d'occurrences de chaque cible.\n",
    "\n",
    "- Calcul de la probabilité que chaque cible se produise pour chaque groupe spécifique."
   ]
  },
  {
   "cell_type": "code",
   "execution_count": 917,
   "metadata": {},
   "outputs": [
    {
     "data": {
      "text/plain": [
       "['DataYear',\n",
       " 'NumberofBuildings',\n",
       " 'NumberofFloors',\n",
       " 'PropertyGFATotal',\n",
       " 'ENERGYSTARScore',\n",
       " 'SiteEUI(kBtu/sf)',\n",
       " 'SourceEUI(kBtu/sf)',\n",
       " 'SiteEnergyUse(kBtu)',\n",
       " 'TotalGHGEmissions',\n",
       " 'GHGEmissionsIntensity',\n",
       " 'BuildingAge',\n",
       " 'TotalUseTypeNumber',\n",
       " 'GFABuildingRate',\n",
       " 'GFAParkingRate',\n",
       " 'GFAPerBuilding',\n",
       " 'GFAPerFloor',\n",
       " 'harvesine_distance']"
      ]
     },
     "execution_count": 917,
     "metadata": {},
     "output_type": "execute_result"
    }
   ],
   "source": [
    "#Données de type numériques:\n",
    "\n",
    "list(numerical_features.columns)"
   ]
  },
  {
   "cell_type": "markdown",
   "metadata": {},
   "source": [
    "Remarque: \n",
    "\n",
    "- La date de relevé ne nous sera pas utile ici, nous la supprimerons du jeu de données. \n",
    "\n",
    "- ENERGYSTARScore est insuffisement complété. Nous allons l'écarter du jeu de donnée(pour l'instant ) mais nous la conservons pour vérifier ensuite si cette variable a un impact sur la qualité de prédiction."
   ]
  },
  {
   "cell_type": "code",
   "execution_count": 918,
   "metadata": {},
   "outputs": [],
   "source": [
    "energystar_score = numerical_features['ENERGYSTARScore']\n",
    "\n",
    "numerical_features = numerical_features.drop(['ENERGYSTARScore','DataYear'], axis=1)"
   ]
  },
  {
   "cell_type": "code",
   "execution_count": 919,
   "metadata": {},
   "outputs": [
    {
     "data": {
      "text/plain": [
       "['NumberofBuildings',\n",
       " 'NumberofFloors',\n",
       " 'PropertyGFATotal',\n",
       " 'SiteEUI(kBtu/sf)',\n",
       " 'SourceEUI(kBtu/sf)',\n",
       " 'SiteEnergyUse(kBtu)',\n",
       " 'TotalGHGEmissions',\n",
       " 'GHGEmissionsIntensity',\n",
       " 'BuildingAge',\n",
       " 'TotalUseTypeNumber',\n",
       " 'GFABuildingRate',\n",
       " 'GFAParkingRate',\n",
       " 'GFAPerBuilding',\n",
       " 'GFAPerFloor',\n",
       " 'harvesine_distance']"
      ]
     },
     "execution_count": 919,
     "metadata": {},
     "output_type": "execute_result"
    }
   ],
   "source": [
    "list(numerical_features.columns)"
   ]
  },
  {
   "cell_type": "markdown",
   "metadata": {},
   "source": [
    "Ici les données numériques devront être standardisée pour entrer dans nos modèles de prédictions .\n",
    "\n",
    "Pour cela, nous réaliserons un \"centrage-réduction\" via la méthode : \"StandardScaler de Scikit-Learn.\""
   ]
  },
  {
   "cell_type": "code",
   "execution_count": 920,
   "metadata": {},
   "outputs": [],
   "source": [
    "df3 = pd.concat([categorical_features, numerical_features], axis=1)"
   ]
  },
  {
   "cell_type": "code",
   "execution_count": 921,
   "metadata": {},
   "outputs": [
    {
     "name": "stderr",
     "output_type": "stream",
     "text": [
      "Default parameter min_samples_leaf will change in version 2.6.See https://github.com/scikit-learn-contrib/category_encoders/issues/327\n",
      "Default parameter smoothing will change in version 2.6.See https://github.com/scikit-learn-contrib/category_encoders/issues/327\n"
     ]
    }
   ],
   "source": [
    "#Préparation du Preprocessor : \n",
    "\n",
    "from sklearn.preprocessing import StandardScaler, OrdinalEncoder, RobustScaler\n",
    "from category_encoders.target_encoder import TargetEncoder\n",
    "from sklearn.compose import ColumnTransformer\n",
    "\n",
    "target_features = ['BuildingType','PrimaryPropertyType','Neighborhood','LargestPropertyUseType']\n",
    "target_transformer = TargetEncoder()\n",
    "\n",
    "numeric_features = ['harvesine_distance','NumberofBuildings','NumberofFloors',\n",
    "                    'PropertyGFATotal','BuildingAge','TotalUseTypeNumber',\n",
    "                    'GFABuildingRate','GFAParkingRate','GFAPerBuilding','GFAPerFloor']\n",
    "numeric_transformer = RobustScaler(unit_variance=True)\n",
    "\n",
    "preprocessor = ColumnTransformer(transformers=[\n",
    "    ('target', target_transformer, target_features),\n",
    "    ('numeric', numeric_transformer, numeric_features)\n",
    "])"
   ]
  },
  {
   "cell_type": "code",
   "execution_count": 922,
   "metadata": {},
   "outputs": [],
   "source": [
    "import warnings\n",
    "def get_feature_names(column_transformer):\n",
    "    \"\"\"Get feature names from all transformers.\n",
    "    Returns\n",
    "    -------\n",
    "    feature_names : list of strings\n",
    "        Names of the features produced by transform.\n",
    "        \n",
    "    ------\n",
    "    Code from :\n",
    "        https://johaupt.github.io/\n",
    "    \"\"\"\n",
    "    # Remove the internal helper function\n",
    "    #check_is_fitted(column_transformer)\n",
    "    \n",
    "    # Turn loopkup into function for better handling with pipeline later\n",
    "    def get_names(trans):\n",
    "        # >> Original get_feature_names() method\n",
    "        if trans == 'drop' or (\n",
    "                hasattr(column, '__len__') and not len(column)):\n",
    "            return []\n",
    "        if trans == 'passthrough':\n",
    "            if hasattr(column_transformer, '_df_columns'):\n",
    "                if ((not isinstance(column, slice))\n",
    "                        and all(isinstance(col, str) for col in column)):\n",
    "                    return column\n",
    "                else:\n",
    "                    return column_transformer._df_columns[column]\n",
    "            else:\n",
    "                indices = np.arange(column_transformer._n_features)\n",
    "                return ['x%d' % i for i in indices[column]]\n",
    "        if not hasattr(trans, 'get_feature_names'):\n",
    "        # >>> Change: Return input column names if no method avaiable\n",
    "            # Turn error into a warning\n",
    "            warnings.warn(\"Transformer %s (type %s) does not \"\n",
    "                                 \"provide get_feature_names. \"\n",
    "                                 \"Will return input column names if available\"\n",
    "                                 % (str(name), type(trans).__name__))\n",
    "            # For transformers without a get_features_names method, use the input\n",
    "            # names to the column transformer\n",
    "            if column is None:\n",
    "                return []\n",
    "            else:\n",
    "                return [f for f in column]\n",
    "\n",
    "        return [f for f in trans.get_feature_names()]\n",
    "    \n",
    "    ### Start of processing\n",
    "    feature_names = []\n",
    "    \n",
    "    l_transformers = list(column_transformer._iter(fitted=True))\n",
    "    \n",
    "    \n",
    "    for name, trans, column, _ in l_transformers: \n",
    "        feature_names.extend(get_names(trans))\n",
    "    \n",
    "    return feature_names"
   ]
  },
  {
   "cell_type": "markdown",
   "metadata": {},
   "source": [
    "1.2. Préparation des jeux d'entrainement et de test\n",
    "\n",
    "Afin de tester notre meilleur modèle sur des données \"inconnues\", nous allons mettre de côté une partie des données.\n",
    "\n",
    "=>  Nous allons donc spliter nos données pour obtenir un jeu d'entrainement (80% des données) et un jeu de test (20% des données)"
   ]
  },
  {
   "cell_type": "code",
   "execution_count": 923,
   "metadata": {},
   "outputs": [
    {
     "name": "stdout",
     "output_type": "stream",
     "text": [
      "Entrainement: 1236 lignes,\n",
      "Test: 309 lignes.\n",
      "\n"
     ]
    }
   ],
   "source": [
    "from sklearn.model_selection import train_test_split\n",
    "\n",
    "X = df3.drop(['TotalGHGEmissions','SiteEnergyUse(kBtu)'], axis=1)\n",
    "Y = df3[['TotalGHGEmissions','SiteEnergyUse(kBtu)']]\n",
    "\n",
    "X_train, X_test, Y_train, Y_test = train_test_split(X, Y, test_size=0.2, random_state=42)\n",
    "\n",
    "print(\"Entrainement: {} lignes,\\nTest: {} lignes.\\n\".format(X_train.shape[0],\n",
    "                                                            X_test.shape[0]))"
   ]
  },
  {
   "cell_type": "markdown",
   "metadata": {},
   "source": [
    "Concernant nos variables à prédire, nous allons regarder l'impact du passage à l'échelle logarithmique sur les distribution :"
   ]
  },
  {
   "cell_type": "code",
   "execution_count": 924,
   "metadata": {},
   "outputs": [
    {
     "data": {
      "image/png": "[encoded data removed]",
      "text/plain": [
       "<Figure size 1440x576 with 2 Axes>"
      ]
     },
     "metadata": {
      "needs_background": "light"
     },
     "output_type": "display_data"
    }
   ],
   "source": [
    "from sklearn.preprocessing import FunctionTransformer\n",
    "\n",
    "# voir : fait décallage de l'ensemble des valeurs en ajoutant un min | \n",
    "\n",
    "logtransformer = FunctionTransformer(np.log, inverse_func = np.exp, check_inverse = True)\n",
    "Y_log = logtransformer.transform(Y)\n",
    "\n",
    "fig, axes = plt.subplots(nrows=1, ncols=2, sharex=False, sharey=False, figsize=(20,8))\n",
    "sns.histplot(data=Y, x='TotalGHGEmissions', stat=\"density\", ax=axes[0])\n",
    "axes[0].set_title(\"Données initiales\", color='red')\n",
    "sns.histplot(data=Y_log, x='TotalGHGEmissions', stat=\"density\", ax=axes[1])\n",
    "axes[1].set_title(\"Application du logarithme\", color='red')\n",
    "plt.suptitle(\"Distribution des emissions de CO2 avec changement d'échelle\", fontsize=22)\n",
    "plt.show()"
   ]
  },
  {
   "cell_type": "markdown",
   "metadata": {},
   "source": [
    "Remarque :\n",
    "\n",
    "En passant les données à l'échelle logarithmique:\n",
    "\n",
    "-  nous obtenons une distribution normale des données à prédire.\n",
    "-  nous allons donc appliquer cette transformation dans notre pipeline grâce à la fonction TransformedTargetRegressor de la librairie Sklearn."
   ]
  },
  {
   "cell_type": "markdown",
   "metadata": {},
   "source": [
    "### 2. Modèle Baseline : Régression linéaire multivariée\n",
    "\n",
    "A présent, nous allons créer un modèle baseline pour évaluer les performances de nos futurs modèles et vérifier qu'ils améliore les prédictions. Pour cette baseline, nous utiliserons une régression linéaire multivariée."
   ]
  },
  {
   "cell_type": "markdown",
   "metadata": {},
   "source": [
    "Note : Paramètres LinearRegression : \n",
    "\n",
    "- \"fit_intercept booléen , par défaut=Vrai\":\n",
    "\n",
    "    S'il faut calculer l'ordonnée à l'origine pour ce modèle. S'il est défini sur False, aucune interception ne sera utilisée dans les calculs (c'est-à-dire que les données doivent être centrées).\n",
    "\n",
    "- \"normaliser booléen, défaut=Faux\":\n",
    "\n",
    "    Ce paramètre est ignoré lorsqu'il fit_interceptest défini sur False. Si True, les régresseurs X seront normalisés avant la régression en soustrayant la moyenne et en divisant par la norme l2. Si vous souhaitez normaliser, veuillez utiliser StandardScaleravant de faire appel fit à un estimateur avec normalize=False."
   ]
  },
  {
   "cell_type": "code",
   "execution_count": 925,
   "metadata": {},
   "outputs": [],
   "source": [
    "from sklearn.compose import TransformedTargetRegressor\n",
    "from sklearn.linear_model import LinearRegression\n",
    "from sklearn.pipeline import Pipeline\n",
    "from sklearn.model_selection import GridSearchCV\n",
    "from sklearn import set_config\n",
    "set_config(display='diagram')\n",
    "\n",
    "\n",
    "param_mlr = {\"regressor__fit_intercept\": [True, False],  # à verifier le doc pour les hyperparamètres\n",
    "             \"regressor__normalize\": [True, False]} # à verifier le doc pour les hyperparamètres\n",
    "\n",
    "mlr_grid_cv = Pipeline([\n",
    "    ('preprocessor', preprocessor),\n",
    "    ('grid_search_mlr', GridSearchCV(\n",
    "                            TransformedTargetRegressor(\n",
    "                                regressor=LinearRegression(), \n",
    "                                func=np.log, \n",
    "                                inverse_func=np.exp),\n",
    "                            param_grid=param_mlr,\n",
    "                            cv=5,\n",
    "                            scoring=('r2','neg_mean_absolute_error'),\n",
    "                            return_train_score = True,\n",
    "                            refit='neg_mean_absolute_error',\n",
    "                            n_jobs = -1))])"
   ]
  },
  {
   "cell_type": "markdown",
   "metadata": {},
   "source": [
    "Nous pouvons calculer 2 principales métriques pour évaluer nos modèles :\n",
    "\n",
    "- MAE : Mean Absolute Error.\n",
    "- R² : Coeficient de détermination, carré du coefiscient de corrélation linéaire.\n",
    "\n",
    "- note : \n",
    "  * MAE: En statistique , l'erreur absolue moyenne ( EMA ) est une mesure des erreurs entre des observations appariées exprimant le même phénomène || L'erreur absolue moyenne est l'une des nombreuses façons de comparer les prévisions avec leurs résultats éventuels | \n",
    "  \n",
    "  Comment calculez-vous l'erreur absolue moyenne dans MAE?\n",
    "  * L'erreur absolue moyenne (MAE) est calculée en additionnant la différence absolue entre les valeurs réelles et calculées de chaque observation sur l'ensemble du tableau, puis en divisant la somme obtenue par le nombre d'observations dans le tableau.\n",
    "\n",
    "  * R² : Ce coefficient varie entre 0 et 1, soit entre un pouvoir de prédiction faible et un pouvoir de prédiction fort. Le coefficient de détermination (R², soit le carré du coefficient de corrélation linéaire r) est un indicateur qui permet de juger la qualité d'une régression linéaire simple."
   ]
  },
  {
   "cell_type": "code",
   "execution_count": 926,
   "metadata": {},
   "outputs": [],
   "source": [
    "#Retour des meilleurs scores NMAE et R2\n",
    "#Stockage du dataframe de resultats du modèle\n",
    "def model_scores(pip,step):\n",
    "    df_results = pd.DataFrame.from_dict(pip.named_steps[step].cv_results_) \\\n",
    "                    .sort_values('rank_test_neg_mean_absolute_error')\n",
    "    best_nmae = pip.named_steps[step].best_score_\n",
    "    best_r2 = np.mean(df_results[df_results.rank_test_r2 == 1]['mean_test_r2'])\n",
    "    best_params = pip.named_steps[step].best_params_\n",
    "    training_time = round((np.mean(df_results.mean_fit_time)*X_train.shape[0]),2)\n",
    "\n",
    "    \n",
    "    print(\"Meilleur score MAE : {}\\nMeilleur Score R2 : {}\\nMeilleurs paramètres : {}\\nTemps moyen d'entrainement : {}s\"\\\n",
    "         .format(round(best_nmae,3), round(best_r2,3), best_params, training_time))\n",
    "    return df_results"
   ]
  },
  {
   "cell_type": "markdown",
   "metadata": {},
   "source": [
    "On affiche les scores de la GridSearch avec validation croisée pour la variable <strong>SiteEnergyUse(kBtu)</strong> :"
   ]
  },
  {
   "cell_type": "code",
   "execution_count": 927,
   "metadata": {},
   "outputs": [
    {
     "name": "stderr",
     "output_type": "stream",
     "text": [
      "Default parameter min_samples_leaf will change in version 2.6.See https://github.com/scikit-learn-contrib/category_encoders/issues/327\n",
      "Default parameter smoothing will change in version 2.6.See https://github.com/scikit-learn-contrib/category_encoders/issues/327\n"
     ]
    },
    {
     "name": "stdout",
     "output_type": "stream",
     "text": [
      "Meilleur score MAE : -63168003.957\n",
      "Meilleur Score R2 : -2516.01\n",
      "Meilleurs paramètres : {'regressor__fit_intercept': True, 'regressor__normalize': True}\n",
      "Temps moyen d'entrainement : 18.79s\n"
     ]
    },
    {
     "name": "stderr",
     "output_type": "stream",
     "text": [
      "'normalize' was deprecated in version 1.0 and will be removed in 1.2.\n",
      "If you wish to scale the data, use Pipeline with a StandardScaler in a preprocessing stage. To reproduce the previous behavior:\n",
      "\n",
      "from sklearn.pipeline import make_pipeline\n",
      "\n",
      "model = make_pipeline(StandardScaler(with_mean=False), LinearRegression())\n",
      "\n",
      "If you wish to pass a sample_weight parameter, you need to pass it as a fit parameter to each step of the pipeline as follows:\n",
      "\n",
      "kwargs = {s[0] + '__sample_weight': sample_weight for s in model.steps}\n",
      "model.fit(X, y, **kwargs)\n",
      "\n",
      "\n"
     ]
    }
   ],
   "source": [
    "#les scores pour la variable SiteEnergyUse(kBtu) :\n",
    "\n",
    "SEU_mlr_model = mlr_grid_cv.fit(X_train, Y_train['SiteEnergyUse(kBtu)'])\n",
    "SEU_mlr_results = model_scores(SEU_mlr_model, 'grid_search_mlr')"
   ]
  },
  {
   "cell_type": "markdown",
   "metadata": {},
   "source": [
    "Tous les résultats des GridSearchCV sont stockés dans un DataFrame pour chaque variable à prédire : MAE | MSE | RMSE \n",
    "\n",
    "- L'erreur absolue moyenne calcule ainsi la valeur absolue de ces erreurs, pour en faire la moyenne. En anglais, on l'appelle \"Mean Absolute Error\" (MAE)\n",
    "\n",
    "- De son coté, l'erreur quadratique moyenne calcule le carré des erreurs résiduelles, pour en faire la moyenne. En anglais, on l'appelle \"Mean Squared Error\" (MSE)\n",
    "\n",
    "\n",
    "Note : \"MSE -> vous accordez une grande importance aux grandes erreurs !\n",
    "MAE -> l'importance d'une erreur est linéaire avec son amplitude.Si le Dataset des valeurs aberrantes(outliers).\""
   ]
  },
  {
   "cell_type": "code",
   "execution_count": 928,
   "metadata": {},
   "outputs": [
    {
     "data": {
      "text/html": [
       "<div>\n",
       "<style scoped>\n",
       "    .dataframe tbody tr th:only-of-type {\n",
       "        vertical-align: middle;\n",
       "    }\n",
       "\n",
       "    .dataframe tbody tr th {\n",
       "        vertical-align: top;\n",
       "    }\n",
       "\n",
       "    .dataframe thead th {\n",
       "        text-align: right;\n",
       "    }\n",
       "</style>\n",
       "<table border=\"1\" class=\"dataframe\">\n",
       "  <thead>\n",
       "    <tr style=\"text-align: right;\">\n",
       "      <th></th>\n",
       "      <th>mean_fit_time</th>\n",
       "      <th>std_fit_time</th>\n",
       "      <th>mean_score_time</th>\n",
       "      <th>std_score_time</th>\n",
       "      <th>param_regressor__fit_intercept</th>\n",
       "      <th>param_regressor__normalize</th>\n",
       "      <th>params</th>\n",
       "      <th>split0_test_r2</th>\n",
       "      <th>split1_test_r2</th>\n",
       "      <th>split2_test_r2</th>\n",
       "      <th>...</th>\n",
       "      <th>mean_test_neg_mean_absolute_error</th>\n",
       "      <th>std_test_neg_mean_absolute_error</th>\n",
       "      <th>rank_test_neg_mean_absolute_error</th>\n",
       "      <th>split0_train_neg_mean_absolute_error</th>\n",
       "      <th>split1_train_neg_mean_absolute_error</th>\n",
       "      <th>split2_train_neg_mean_absolute_error</th>\n",
       "      <th>split3_train_neg_mean_absolute_error</th>\n",
       "      <th>split4_train_neg_mean_absolute_error</th>\n",
       "      <th>mean_train_neg_mean_absolute_error</th>\n",
       "      <th>std_train_neg_mean_absolute_error</th>\n",
       "    </tr>\n",
       "  </thead>\n",
       "  <tbody>\n",
       "    <tr>\n",
       "      <th>0</th>\n",
       "      <td>0.040406</td>\n",
       "      <td>0.037842</td>\n",
       "      <td>0.002400</td>\n",
       "      <td>0.000488</td>\n",
       "      <td>True</td>\n",
       "      <td>True</td>\n",
       "      <td>{'regressor__fit_intercept': True, 'regressor_...</td>\n",
       "      <td>-8.212681e-01</td>\n",
       "      <td>-3.278781e+00</td>\n",
       "      <td>-1.248829e+04</td>\n",
       "      <td>...</td>\n",
       "      <td>-6.316800e+07</td>\n",
       "      <td>1.077460e+08</td>\n",
       "      <td>1</td>\n",
       "      <td>-9.369040e+06</td>\n",
       "      <td>-1.017253e+07</td>\n",
       "      <td>-1.379413e+07</td>\n",
       "      <td>-9.845825e+06</td>\n",
       "      <td>-1.013647e+07</td>\n",
       "      <td>-1.066360e+07</td>\n",
       "      <td>1.591468e+06</td>\n",
       "    </tr>\n",
       "    <tr>\n",
       "      <th>1</th>\n",
       "      <td>0.012602</td>\n",
       "      <td>0.008166</td>\n",
       "      <td>0.001400</td>\n",
       "      <td>0.000489</td>\n",
       "      <td>True</td>\n",
       "      <td>False</td>\n",
       "      <td>{'regressor__fit_intercept': True, 'regressor_...</td>\n",
       "      <td>-8.212681e-01</td>\n",
       "      <td>-3.278781e+00</td>\n",
       "      <td>-1.248829e+04</td>\n",
       "      <td>...</td>\n",
       "      <td>-6.316800e+07</td>\n",
       "      <td>1.077460e+08</td>\n",
       "      <td>2</td>\n",
       "      <td>-9.369040e+06</td>\n",
       "      <td>-1.017253e+07</td>\n",
       "      <td>-1.379413e+07</td>\n",
       "      <td>-9.845825e+06</td>\n",
       "      <td>-1.013647e+07</td>\n",
       "      <td>-1.066360e+07</td>\n",
       "      <td>1.591468e+06</td>\n",
       "    </tr>\n",
       "    <tr>\n",
       "      <th>2</th>\n",
       "      <td>0.004597</td>\n",
       "      <td>0.000799</td>\n",
       "      <td>0.001398</td>\n",
       "      <td>0.000492</td>\n",
       "      <td>False</td>\n",
       "      <td>True</td>\n",
       "      <td>{'regressor__fit_intercept': False, 'regressor...</td>\n",
       "      <td>-5.054464e+14</td>\n",
       "      <td>-1.876971e+09</td>\n",
       "      <td>-6.274175e+14</td>\n",
       "      <td>...</td>\n",
       "      <td>-3.248347e+13</td>\n",
       "      <td>2.917079e+13</td>\n",
       "      <td>3</td>\n",
       "      <td>-1.805023e+13</td>\n",
       "      <td>-1.061635e+13</td>\n",
       "      <td>-2.279294e+13</td>\n",
       "      <td>-2.198017e+13</td>\n",
       "      <td>-1.177450e+13</td>\n",
       "      <td>-1.704284e+13</td>\n",
       "      <td>5.049969e+12</td>\n",
       "    </tr>\n",
       "    <tr>\n",
       "      <th>3</th>\n",
       "      <td>0.003200</td>\n",
       "      <td>0.000400</td>\n",
       "      <td>0.001800</td>\n",
       "      <td>0.000401</td>\n",
       "      <td>False</td>\n",
       "      <td>False</td>\n",
       "      <td>{'regressor__fit_intercept': False, 'regressor...</td>\n",
       "      <td>-5.054464e+14</td>\n",
       "      <td>-1.876971e+09</td>\n",
       "      <td>-6.274175e+14</td>\n",
       "      <td>...</td>\n",
       "      <td>-3.248347e+13</td>\n",
       "      <td>2.917079e+13</td>\n",
       "      <td>3</td>\n",
       "      <td>-1.805023e+13</td>\n",
       "      <td>-1.061635e+13</td>\n",
       "      <td>-2.279294e+13</td>\n",
       "      <td>-2.198017e+13</td>\n",
       "      <td>-1.177450e+13</td>\n",
       "      <td>-1.704284e+13</td>\n",
       "      <td>5.049969e+12</td>\n",
       "    </tr>\n",
       "  </tbody>\n",
       "</table>\n",
       "<p>4 rows × 37 columns</p>\n",
       "</div>"
      ],
      "text/plain": [
       "   mean_fit_time  std_fit_time  mean_score_time  std_score_time  \\\n",
       "0       0.040406      0.037842         0.002400        0.000488   \n",
       "1       0.012602      0.008166         0.001400        0.000489   \n",
       "2       0.004597      0.000799         0.001398        0.000492   \n",
       "3       0.003200      0.000400         0.001800        0.000401   \n",
       "\n",
       "  param_regressor__fit_intercept param_regressor__normalize  \\\n",
       "0                           True                       True   \n",
       "1                           True                      False   \n",
       "2                          False                       True   \n",
       "3                          False                      False   \n",
       "\n",
       "                                              params  split0_test_r2  \\\n",
       "0  {'regressor__fit_intercept': True, 'regressor_...   -8.212681e-01   \n",
       "1  {'regressor__fit_intercept': True, 'regressor_...   -8.212681e-01   \n",
       "2  {'regressor__fit_intercept': False, 'regressor...   -5.054464e+14   \n",
       "3  {'regressor__fit_intercept': False, 'regressor...   -5.054464e+14   \n",
       "\n",
       "   split1_test_r2  split2_test_r2  ...  mean_test_neg_mean_absolute_error  \\\n",
       "0   -3.278781e+00   -1.248829e+04  ...                      -6.316800e+07   \n",
       "1   -3.278781e+00   -1.248829e+04  ...                      -6.316800e+07   \n",
       "2   -1.876971e+09   -6.274175e+14  ...                      -3.248347e+13   \n",
       "3   -1.876971e+09   -6.274175e+14  ...                      -3.248347e+13   \n",
       "\n",
       "   std_test_neg_mean_absolute_error  rank_test_neg_mean_absolute_error  \\\n",
       "0                      1.077460e+08                                  1   \n",
       "1                      1.077460e+08                                  2   \n",
       "2                      2.917079e+13                                  3   \n",
       "3                      2.917079e+13                                  3   \n",
       "\n",
       "   split0_train_neg_mean_absolute_error  split1_train_neg_mean_absolute_error  \\\n",
       "0                         -9.369040e+06                         -1.017253e+07   \n",
       "1                         -9.369040e+06                         -1.017253e+07   \n",
       "2                         -1.805023e+13                         -1.061635e+13   \n",
       "3                         -1.805023e+13                         -1.061635e+13   \n",
       "\n",
       "   split2_train_neg_mean_absolute_error  split3_train_neg_mean_absolute_error  \\\n",
       "0                         -1.379413e+07                         -9.845825e+06   \n",
       "1                         -1.379413e+07                         -9.845825e+06   \n",
       "2                         -2.279294e+13                         -2.198017e+13   \n",
       "3                         -2.279294e+13                         -2.198017e+13   \n",
       "\n",
       "   split4_train_neg_mean_absolute_error  mean_train_neg_mean_absolute_error  \\\n",
       "0                         -1.013647e+07                       -1.066360e+07   \n",
       "1                         -1.013647e+07                       -1.066360e+07   \n",
       "2                         -1.177450e+13                       -1.704284e+13   \n",
       "3                         -1.177450e+13                       -1.704284e+13   \n",
       "\n",
       "   std_train_neg_mean_absolute_error  \n",
       "0                       1.591468e+06  \n",
       "1                       1.591468e+06  \n",
       "2                       5.049969e+12  \n",
       "3                       5.049969e+12  \n",
       "\n",
       "[4 rows x 37 columns]"
      ]
     },
     "execution_count": 928,
     "metadata": {},
     "output_type": "execute_result"
    }
   ],
   "source": [
    "SEU_mlr_results"
   ]
  },
  {
   "cell_type": "markdown",
   "metadata": {},
   "source": [
    "Nous avons à présent nos métriques de départ obtenues avec notre modèle de régression linéaire multivarié servant de baseline.\n",
    "\n",
    "Nous pouvons réaliser nos premières modélisations en utilisant des modèles linéaires"
   ]
  },
  {
   "cell_type": "markdown",
   "metadata": {},
   "source": [
    "DUMMY REGRESSOR "
   ]
  },
  {
   "cell_type": "code",
   "execution_count": 929,
   "metadata": {},
   "outputs": [],
   "source": [
    "# D1 TEST\n",
    "\n",
    "\n",
    "# def define_preprocessor(X):\n",
    "# \n",
    "#     # Load libraries\n",
    "#     from sklearn.pipeline import Pipeline\n",
    "#     from sklearn.preprocessing import StandardScaler\n",
    "#     from category_encoders.target_encoder import TargetEncoder\n",
    "#     from sklearn.preprocessing import LabelEncoder\n",
    "#     from sklearn.compose import ColumnTransformer\n",
    "#     from sklearn.impute import SimpleImputer\n",
    "#     from sklearn.experimental import enable_iterative_imputer\n",
    "#     from sklearn.impute import IterativeImpute\n",
    "# \n",
    "# \n",
    "# \n",
    "# from sklearn import dummy\n",
    "# \n",
    "# from sklearn import linear_model\n",
    "# from sklearn.ensemble import AdaBoostRegressor\n",
    "# from sklearn.svm import SVR\n",
    "# from sklearn.ensemble import RandomForestRegressor\n",
    "# from sklearn.neighbors import KNeighborsRegressor\n",
    "# \n",
    "# dum = Pipeline(steps=[('prepa',preprocessor),('dum',dummy.DummyRegressor(strategy='mean'))])\n",
    "# \n",
    "# \n",
    "# forest = Pipeline(steps=[('prepa',preprocessor),('forest',RandomForestRegressor(random_state=0))])\n",
    "# linear = Pipeline(steps=[('prepa',preprocessor),('linear',linear_model.LinearRegression())])\n",
    "# KNN = Pipeline(steps=[('prepa',preprocessor),('kNN',KNeighborsRegressor())])\n",
    "# ADA = Pipeline(steps=[('prepa',preprocessor),('ADA',AdaBoostRegressor(random_state=0,))])"
   ]
  },
  {
   "cell_type": "code",
   "execution_count": 930,
   "metadata": {},
   "outputs": [],
   "source": [
    "#D1 TEST\n",
    "\n",
    "from sklearn.dummy import DummyRegressor\n",
    "from tempfile import mkdtemp\n",
    "\n",
    "# Create temp directory for caching transformers: avoid repeated computation\n",
    "cachedir = mkdtemp()\n",
    "\n",
    "# def define_pipeline(preprocessor, regressor):\n",
    "# \n",
    "#     # Load libraries\n",
    "#     from sklearn.pipeline import Pipeline\n",
    "# \n",
    "#     # Create a pipeline\n",
    "#     pipe = Pipeline([(\"preprocess\", preprocessor), # preprocessing steps\n",
    "#                      (\"regressor\", regressor), # dummy regression model\n",
    "#                     ],\n",
    "#                     memory=cachedir,\n",
    "#     )\n",
    "#     \n",
    "#     # Return pipeline\n",
    "#     return pipe\n",
    "# \n",
    "# pipe = define_pipeline(preprocessor, DummyRegressor())\n"
   ]
  },
  {
   "cell_type": "code",
   "execution_count": 931,
   "metadata": {},
   "outputs": [],
   "source": [
    "#DummyRegressor Baseline :\n",
    "dfr = df3"
   ]
  },
  {
   "cell_type": "code",
   "execution_count": 932,
   "metadata": {},
   "outputs": [
    {
     "data": {
      "text/html": [
       "<div>\n",
       "<style scoped>\n",
       "    .dataframe tbody tr th:only-of-type {\n",
       "        vertical-align: middle;\n",
       "    }\n",
       "\n",
       "    .dataframe tbody tr th {\n",
       "        vertical-align: top;\n",
       "    }\n",
       "\n",
       "    .dataframe thead th {\n",
       "        text-align: right;\n",
       "    }\n",
       "</style>\n",
       "<table border=\"1\" class=\"dataframe\">\n",
       "  <thead>\n",
       "    <tr style=\"text-align: right;\">\n",
       "      <th></th>\n",
       "      <th>BuildingType</th>\n",
       "      <th>PrimaryPropertyType</th>\n",
       "      <th>Neighborhood</th>\n",
       "      <th>LargestPropertyUseType</th>\n",
       "      <th>NumberofBuildings</th>\n",
       "      <th>NumberofFloors</th>\n",
       "      <th>PropertyGFATotal</th>\n",
       "      <th>SiteEUI(kBtu/sf)</th>\n",
       "      <th>SourceEUI(kBtu/sf)</th>\n",
       "      <th>SiteEnergyUse(kBtu)</th>\n",
       "      <th>TotalGHGEmissions</th>\n",
       "      <th>GHGEmissionsIntensity</th>\n",
       "      <th>BuildingAge</th>\n",
       "      <th>TotalUseTypeNumber</th>\n",
       "      <th>GFABuildingRate</th>\n",
       "      <th>GFAParkingRate</th>\n",
       "      <th>GFAPerBuilding</th>\n",
       "      <th>GFAPerFloor</th>\n",
       "      <th>harvesine_distance</th>\n",
       "    </tr>\n",
       "  </thead>\n",
       "  <tbody>\n",
       "    <tr>\n",
       "      <th>1543</th>\n",
       "      <td>Nonresidential COS</td>\n",
       "      <td>Other</td>\n",
       "      <td>DELRIDGE NEIGHBORHOODS</td>\n",
       "      <td>Other - Recreation</td>\n",
       "      <td>1.0</td>\n",
       "      <td>1</td>\n",
       "      <td>18261</td>\n",
       "      <td>51.000000</td>\n",
       "      <td>126.000000</td>\n",
       "      <td>9.320821e+05</td>\n",
       "      <td>20.33</td>\n",
       "      <td>1.11</td>\n",
       "      <td>34</td>\n",
       "      <td>1</td>\n",
       "      <td>1.0</td>\n",
       "      <td>0.0</td>\n",
       "      <td>18261.0</td>\n",
       "      <td>18261.0</td>\n",
       "      <td>4.935141</td>\n",
       "    </tr>\n",
       "    <tr>\n",
       "      <th>1544</th>\n",
       "      <td>Nonresidential COS</td>\n",
       "      <td>Other</td>\n",
       "      <td>DOWNTOWN</td>\n",
       "      <td>Other - Recreation</td>\n",
       "      <td>1.0</td>\n",
       "      <td>1</td>\n",
       "      <td>16000</td>\n",
       "      <td>59.400002</td>\n",
       "      <td>114.199997</td>\n",
       "      <td>9.502762e+05</td>\n",
       "      <td>32.17</td>\n",
       "      <td>2.01</td>\n",
       "      <td>12</td>\n",
       "      <td>1</td>\n",
       "      <td>1.0</td>\n",
       "      <td>0.0</td>\n",
       "      <td>16000.0</td>\n",
       "      <td>16000.0</td>\n",
       "      <td>0.811312</td>\n",
       "    </tr>\n",
       "    <tr>\n",
       "      <th>1545</th>\n",
       "      <td>Nonresidential COS</td>\n",
       "      <td>Other</td>\n",
       "      <td>MAGNOLIA / QUEEN ANNE</td>\n",
       "      <td>Other - Recreation</td>\n",
       "      <td>1.0</td>\n",
       "      <td>1</td>\n",
       "      <td>13157</td>\n",
       "      <td>438.200012</td>\n",
       "      <td>744.799988</td>\n",
       "      <td>5.765898e+06</td>\n",
       "      <td>223.54</td>\n",
       "      <td>16.99</td>\n",
       "      <td>42</td>\n",
       "      <td>3</td>\n",
       "      <td>1.0</td>\n",
       "      <td>0.0</td>\n",
       "      <td>13157.0</td>\n",
       "      <td>13157.0</td>\n",
       "      <td>2.407156</td>\n",
       "    </tr>\n",
       "    <tr>\n",
       "      <th>1546</th>\n",
       "      <td>Nonresidential COS</td>\n",
       "      <td>Mixed Use Property</td>\n",
       "      <td>GREATER DUWAMISH</td>\n",
       "      <td>Other - Recreation</td>\n",
       "      <td>1.0</td>\n",
       "      <td>1</td>\n",
       "      <td>14101</td>\n",
       "      <td>51.000000</td>\n",
       "      <td>105.300003</td>\n",
       "      <td>7.194712e+05</td>\n",
       "      <td>22.11</td>\n",
       "      <td>1.57</td>\n",
       "      <td>27</td>\n",
       "      <td>5</td>\n",
       "      <td>1.0</td>\n",
       "      <td>0.0</td>\n",
       "      <td>14101.0</td>\n",
       "      <td>14101.0</td>\n",
       "      <td>5.389475</td>\n",
       "    </tr>\n",
       "    <tr>\n",
       "      <th>1547</th>\n",
       "      <td>Nonresidential COS</td>\n",
       "      <td>Mixed Use Property</td>\n",
       "      <td>GREATER DUWAMISH</td>\n",
       "      <td>Other - Recreation</td>\n",
       "      <td>1.0</td>\n",
       "      <td>1</td>\n",
       "      <td>18258</td>\n",
       "      <td>63.099998</td>\n",
       "      <td>115.800003</td>\n",
       "      <td>1.152896e+06</td>\n",
       "      <td>41.27</td>\n",
       "      <td>2.26</td>\n",
       "      <td>78</td>\n",
       "      <td>5</td>\n",
       "      <td>1.0</td>\n",
       "      <td>0.0</td>\n",
       "      <td>18258.0</td>\n",
       "      <td>18258.0</td>\n",
       "      <td>4.920149</td>\n",
       "    </tr>\n",
       "  </tbody>\n",
       "</table>\n",
       "</div>"
      ],
      "text/plain": [
       "            BuildingType PrimaryPropertyType            Neighborhood  \\\n",
       "1543  Nonresidential COS               Other  DELRIDGE NEIGHBORHOODS   \n",
       "1544  Nonresidential COS               Other                DOWNTOWN   \n",
       "1545  Nonresidential COS               Other   MAGNOLIA / QUEEN ANNE   \n",
       "1546  Nonresidential COS  Mixed Use Property        GREATER DUWAMISH   \n",
       "1547  Nonresidential COS  Mixed Use Property        GREATER DUWAMISH   \n",
       "\n",
       "     LargestPropertyUseType  NumberofBuildings  NumberofFloors  \\\n",
       "1543     Other - Recreation                1.0               1   \n",
       "1544     Other - Recreation                1.0               1   \n",
       "1545     Other - Recreation                1.0               1   \n",
       "1546     Other - Recreation                1.0               1   \n",
       "1547     Other - Recreation                1.0               1   \n",
       "\n",
       "      PropertyGFATotal  SiteEUI(kBtu/sf)  SourceEUI(kBtu/sf)  \\\n",
       "1543             18261         51.000000          126.000000   \n",
       "1544             16000         59.400002          114.199997   \n",
       "1545             13157        438.200012          744.799988   \n",
       "1546             14101         51.000000          105.300003   \n",
       "1547             18258         63.099998          115.800003   \n",
       "\n",
       "      SiteEnergyUse(kBtu)  TotalGHGEmissions  GHGEmissionsIntensity  \\\n",
       "1543         9.320821e+05              20.33                   1.11   \n",
       "1544         9.502762e+05              32.17                   2.01   \n",
       "1545         5.765898e+06             223.54                  16.99   \n",
       "1546         7.194712e+05              22.11                   1.57   \n",
       "1547         1.152896e+06              41.27                   2.26   \n",
       "\n",
       "      BuildingAge  TotalUseTypeNumber  GFABuildingRate  GFAParkingRate  \\\n",
       "1543           34                   1              1.0             0.0   \n",
       "1544           12                   1              1.0             0.0   \n",
       "1545           42                   3              1.0             0.0   \n",
       "1546           27                   5              1.0             0.0   \n",
       "1547           78                   5              1.0             0.0   \n",
       "\n",
       "      GFAPerBuilding  GFAPerFloor  harvesine_distance  \n",
       "1543         18261.0      18261.0            4.935141  \n",
       "1544         16000.0      16000.0            0.811312  \n",
       "1545         13157.0      13157.0            2.407156  \n",
       "1546         14101.0      14101.0            5.389475  \n",
       "1547         18258.0      18258.0            4.920149  "
      ]
     },
     "execution_count": 932,
     "metadata": {},
     "output_type": "execute_result"
    }
   ],
   "source": [
    "#DummyRegressor Baseline :\n",
    "dfr.tail()"
   ]
  },
  {
   "cell_type": "code",
   "execution_count": 933,
   "metadata": {},
   "outputs": [
    {
     "data": {
      "text/plain": [
       "BuildingType               object\n",
       "PrimaryPropertyType        object\n",
       "Neighborhood               object\n",
       "LargestPropertyUseType     object\n",
       "NumberofBuildings         float64\n",
       "NumberofFloors              int64\n",
       "PropertyGFATotal            int64\n",
       "SiteEUI(kBtu/sf)          float64\n",
       "SourceEUI(kBtu/sf)        float64\n",
       "SiteEnergyUse(kBtu)       float64\n",
       "TotalGHGEmissions         float64\n",
       "GHGEmissionsIntensity     float64\n",
       "BuildingAge                 int64\n",
       "TotalUseTypeNumber          int64\n",
       "GFABuildingRate           float64\n",
       "GFAParkingRate            float64\n",
       "GFAPerBuilding            float64\n",
       "GFAPerFloor               float64\n",
       "harvesine_distance        float64\n",
       "dtype: object"
      ]
     },
     "execution_count": 933,
     "metadata": {},
     "output_type": "execute_result"
    }
   ],
   "source": [
    "#DummyRegressor Baseline :\n",
    "dfr.dtypes"
   ]
  },
  {
   "cell_type": "code",
   "execution_count": 934,
   "metadata": {},
   "outputs": [
    {
     "name": "stdout",
     "output_type": "stream",
     "text": [
      "Entrainement: 1236 lignes,\n",
      "Test: 309 lignes.\n",
      "\n"
     ]
    }
   ],
   "source": [
    "#DummyRegressor Baseline :\n",
    "from sklearn.model_selection import train_test_split\n",
    "\n",
    "X1 = dfr.drop(['TotalGHGEmissions','SiteEnergyUse(kBtu)'], axis=1)\n",
    "y = dfr[['TotalGHGEmissions']]\n",
    "\n",
    "X1_train, X1_test, y1_train, y1_test = train_test_split(X1, y, test_size=0.2, random_state=42)\n",
    "\n",
    "print(\"Entrainement: {} lignes,\\nTest: {} lignes.\\n\".format(X_train.shape[0],\n",
    "                                                            X_test.shape[0]))"
   ]
  },
  {
   "cell_type": "code",
   "execution_count": 935,
   "metadata": {},
   "outputs": [],
   "source": [
    "#DummyRegressor Baseline :\n",
    "from sklearn import model_selection\n",
    "\n",
    "#X_train,X_test,y_train,y_test = model_selection.train_test_split(X1,y,test_size=0.3)#30% des jeu de test"
   ]
  },
  {
   "cell_type": "code",
   "execution_count": 936,
   "metadata": {},
   "outputs": [],
   "source": [
    "#DummyRegressor Baseline : Standardisons les données\n",
    "from sklearn import preprocessing \n",
    "from sklearn import neighbors,metrics \n",
    "#std_scale=preprocessing.StandardScaler().fit(X_train)\n",
    "#X_train_std=std_scale.transform(X_train)\n",
    "#X_test_std=std_scale.transform(X_test)"
   ]
  },
  {
   "cell_type": "markdown",
   "metadata": {},
   "source": [
    "DUMMYREGRESSOR"
   ]
  },
  {
   "cell_type": "code",
   "execution_count": 937,
   "metadata": {},
   "outputs": [
    {
     "name": "stdout",
     "output_type": "stream",
     "text": [
      "RMSE : 1034.67\n",
      "r2_score (dummy mean): -0.00\n"
     ]
    }
   ],
   "source": [
    "#DummyRegressor Baseline : \n",
    "from sklearn.metrics import mean_squared_error, r2_score, median_absolute_error\n",
    "from sklearn import dummy \n",
    "dum = dummy.DummyRegressor(strategy='mean')\n",
    "\n",
    "#Entrainement \n",
    "dum.fit(X1_train,y1_train)\n",
    "\n",
    "#Prédiction sur le jeu test\n",
    "y1_pred_dum = dum.predict(X1_test)\n",
    "\n",
    "#Evaluate\n",
    "print(\"RMSE : {:.2f}\".format(np.sqrt(metrics.mean_squared_error(y1_test,y1_pred_dum)) ))\n",
    "print(\"r2_score (dummy mean): {:.2f}\".format(r2_score(y1_test, y1_pred_dum)))"
   ]
  },
  {
   "cell_type": "markdown",
   "metadata": {},
   "source": [
    "### 3. Modèle linéaires : ElasticNet et SVR"
   ]
  },
  {
   "cell_type": "markdown",
   "metadata": {},
   "source": [
    "Note : \n",
    "\n",
    "- Elastic net : \n",
    "    \n",
    "    * La régularisation de type <STRONG>\"Elastic net\"</strong> consiste à combiner les deux régularisations précédentes (Ridge et Lasso) afin d’éviter la sélectivité trop forte que peut proposer Lasso tout en conservant possiblement des variables fortement corrélées.\n",
    "\n",
    "    * SVM est un algorithme d'apprentissage supervisé qui essaie de prédire des valeurs basées sur la classification ou la régression en analysant les données et en reconnaissant des modèles. L'algorithme utilisé pour la classification est appelé SVC (Support Vector Classifier) ​​et pour la Régression est appelé <STRONG>SVR (Support Vector Regression)</STRONG>.\n",
    "\n",
    "   En résumé : \n",
    "Elastic Net incorpore des pénalités de régularisation L1 et L2 :\n",
    "\n",
    "En plus de définir et de choisir une valeur lambda, ElasticNet permet également d'ajuster le paramètre alpha où  α=0 correspond à Ridge et  α=1\n",
    "à Lasso. On peut donc choisir <strong>une valeur alpha entre 0 et 1 pour optimiser ElasticNet </strong>(cela réduira certains coefficients et en mettra d'autres à 0 pour une sélection parcimonieuse)."
   ]
  },
  {
   "cell_type": "code",
   "execution_count": 938,
   "metadata": {},
   "outputs": [
    {
     "data": {
      "text/html": [
       "<div>\n",
       "<style scoped>\n",
       "    .dataframe tbody tr th:only-of-type {\n",
       "        vertical-align: middle;\n",
       "    }\n",
       "\n",
       "    .dataframe tbody tr th {\n",
       "        vertical-align: top;\n",
       "    }\n",
       "\n",
       "    .dataframe thead th {\n",
       "        text-align: right;\n",
       "    }\n",
       "</style>\n",
       "<table border=\"1\" class=\"dataframe\">\n",
       "  <thead>\n",
       "    <tr style=\"text-align: right;\">\n",
       "      <th></th>\n",
       "      <th>NumberofBuildings</th>\n",
       "      <th>NumberofFloors</th>\n",
       "      <th>PropertyGFATotal</th>\n",
       "      <th>SiteEUI(kBtu/sf)</th>\n",
       "      <th>SourceEUI(kBtu/sf)</th>\n",
       "      <th>SiteEnergyUse(kBtu)</th>\n",
       "      <th>TotalGHGEmissions</th>\n",
       "      <th>GHGEmissionsIntensity</th>\n",
       "      <th>BuildingAge</th>\n",
       "      <th>TotalUseTypeNumber</th>\n",
       "      <th>GFABuildingRate</th>\n",
       "      <th>GFAParkingRate</th>\n",
       "      <th>GFAPerBuilding</th>\n",
       "      <th>GFAPerFloor</th>\n",
       "      <th>harvesine_distance</th>\n",
       "    </tr>\n",
       "  </thead>\n",
       "  <tbody>\n",
       "    <tr>\n",
       "      <th>count</th>\n",
       "      <td>1545.000000</td>\n",
       "      <td>1545.000000</td>\n",
       "      <td>1.545000e+03</td>\n",
       "      <td>1545.000000</td>\n",
       "      <td>1545.000000</td>\n",
       "      <td>1.545000e+03</td>\n",
       "      <td>1545.000000</td>\n",
       "      <td>1545.000000</td>\n",
       "      <td>1545.000000</td>\n",
       "      <td>1545.000000</td>\n",
       "      <td>1545.000000</td>\n",
       "      <td>1545.000000</td>\n",
       "      <td>1.545000e+03</td>\n",
       "      <td>1.545000e+03</td>\n",
       "      <td>1545.000000</td>\n",
       "    </tr>\n",
       "    <tr>\n",
       "      <th>mean</th>\n",
       "      <td>1.108091</td>\n",
       "      <td>4.280259</td>\n",
       "      <td>1.154646e+05</td>\n",
       "      <td>75.029450</td>\n",
       "      <td>183.411521</td>\n",
       "      <td>8.303287e+06</td>\n",
       "      <td>186.774647</td>\n",
       "      <td>1.669832</td>\n",
       "      <td>54.379288</td>\n",
       "      <td>1.952104</td>\n",
       "      <td>0.934539</td>\n",
       "      <td>0.065461</td>\n",
       "      <td>1.052097e+05</td>\n",
       "      <td>3.297781e+04</td>\n",
       "      <td>2.720970</td>\n",
       "    </tr>\n",
       "    <tr>\n",
       "      <th>std</th>\n",
       "      <td>1.199349</td>\n",
       "      <td>6.785750</td>\n",
       "      <td>1.978729e+05</td>\n",
       "      <td>75.187493</td>\n",
       "      <td>188.027224</td>\n",
       "      <td>2.229149e+07</td>\n",
       "      <td>728.337240</td>\n",
       "      <td>2.409128</td>\n",
       "      <td>32.834269</td>\n",
       "      <td>1.241671</td>\n",
       "      <td>0.144151</td>\n",
       "      <td>0.144151</td>\n",
       "      <td>1.853590e+05</td>\n",
       "      <td>4.850169e+04</td>\n",
       "      <td>2.189064</td>\n",
       "    </tr>\n",
       "    <tr>\n",
       "      <th>min</th>\n",
       "      <td>0.000000</td>\n",
       "      <td>0.000000</td>\n",
       "      <td>1.128500e+04</td>\n",
       "      <td>1.400000</td>\n",
       "      <td>0.000000</td>\n",
       "      <td>5.713320e+04</td>\n",
       "      <td>0.400000</td>\n",
       "      <td>0.010000</td>\n",
       "      <td>1.000000</td>\n",
       "      <td>1.000000</td>\n",
       "      <td>0.104980</td>\n",
       "      <td>0.000000</td>\n",
       "      <td>0.000000e+00</td>\n",
       "      <td>0.000000e+00</td>\n",
       "      <td>0.021130</td>\n",
       "    </tr>\n",
       "    <tr>\n",
       "      <th>25%</th>\n",
       "      <td>1.000000</td>\n",
       "      <td>1.000000</td>\n",
       "      <td>2.884100e+04</td>\n",
       "      <td>34.900002</td>\n",
       "      <td>81.400002</td>\n",
       "      <td>1.252324e+06</td>\n",
       "      <td>20.760000</td>\n",
       "      <td>0.360000</td>\n",
       "      <td>27.000000</td>\n",
       "      <td>1.000000</td>\n",
       "      <td>1.000000</td>\n",
       "      <td>0.000000</td>\n",
       "      <td>2.669400e+04</td>\n",
       "      <td>1.284750e+04</td>\n",
       "      <td>0.833517</td>\n",
       "    </tr>\n",
       "    <tr>\n",
       "      <th>50%</th>\n",
       "      <td>1.000000</td>\n",
       "      <td>2.000000</td>\n",
       "      <td>4.811200e+04</td>\n",
       "      <td>53.700001</td>\n",
       "      <td>138.699997</td>\n",
       "      <td>2.729168e+06</td>\n",
       "      <td>49.900000</td>\n",
       "      <td>0.880000</td>\n",
       "      <td>51.000000</td>\n",
       "      <td>2.000000</td>\n",
       "      <td>1.000000</td>\n",
       "      <td>0.000000</td>\n",
       "      <td>4.471900e+04</td>\n",
       "      <td>2.204700e+04</td>\n",
       "      <td>2.097496</td>\n",
       "    </tr>\n",
       "    <tr>\n",
       "      <th>75%</th>\n",
       "      <td>1.000000</td>\n",
       "      <td>4.000000</td>\n",
       "      <td>1.075720e+05</td>\n",
       "      <td>85.099998</td>\n",
       "      <td>213.399994</td>\n",
       "      <td>7.273156e+06</td>\n",
       "      <td>147.140000</td>\n",
       "      <td>1.960000</td>\n",
       "      <td>86.000000</td>\n",
       "      <td>2.000000</td>\n",
       "      <td>1.000000</td>\n",
       "      <td>0.000000</td>\n",
       "      <td>9.848000e+04</td>\n",
       "      <td>3.600000e+04</td>\n",
       "      <td>4.099345</td>\n",
       "    </tr>\n",
       "    <tr>\n",
       "      <th>max</th>\n",
       "      <td>27.000000</td>\n",
       "      <td>99.000000</td>\n",
       "      <td>2.200000e+06</td>\n",
       "      <td>834.400024</td>\n",
       "      <td>2620.000000</td>\n",
       "      <td>4.483853e+08</td>\n",
       "      <td>16870.980000</td>\n",
       "      <td>34.090000</td>\n",
       "      <td>116.000000</td>\n",
       "      <td>13.000000</td>\n",
       "      <td>1.000000</td>\n",
       "      <td>0.895020</td>\n",
       "      <td>2.200000e+06</td>\n",
       "      <td>1.100000e+06</td>\n",
       "      <td>8.843544</td>\n",
       "    </tr>\n",
       "  </tbody>\n",
       "</table>\n",
       "</div>"
      ],
      "text/plain": [
       "       NumberofBuildings  NumberofFloors  PropertyGFATotal  SiteEUI(kBtu/sf)  \\\n",
       "count        1545.000000     1545.000000      1.545000e+03       1545.000000   \n",
       "mean            1.108091        4.280259      1.154646e+05         75.029450   \n",
       "std             1.199349        6.785750      1.978729e+05         75.187493   \n",
       "min             0.000000        0.000000      1.128500e+04          1.400000   \n",
       "25%             1.000000        1.000000      2.884100e+04         34.900002   \n",
       "50%             1.000000        2.000000      4.811200e+04         53.700001   \n",
       "75%             1.000000        4.000000      1.075720e+05         85.099998   \n",
       "max            27.000000       99.000000      2.200000e+06        834.400024   \n",
       "\n",
       "       SourceEUI(kBtu/sf)  SiteEnergyUse(kBtu)  TotalGHGEmissions  \\\n",
       "count         1545.000000         1.545000e+03        1545.000000   \n",
       "mean           183.411521         8.303287e+06         186.774647   \n",
       "std            188.027224         2.229149e+07         728.337240   \n",
       "min              0.000000         5.713320e+04           0.400000   \n",
       "25%             81.400002         1.252324e+06          20.760000   \n",
       "50%            138.699997         2.729168e+06          49.900000   \n",
       "75%            213.399994         7.273156e+06         147.140000   \n",
       "max           2620.000000         4.483853e+08       16870.980000   \n",
       "\n",
       "       GHGEmissionsIntensity  BuildingAge  TotalUseTypeNumber  \\\n",
       "count            1545.000000  1545.000000         1545.000000   \n",
       "mean                1.669832    54.379288            1.952104   \n",
       "std                 2.409128    32.834269            1.241671   \n",
       "min                 0.010000     1.000000            1.000000   \n",
       "25%                 0.360000    27.000000            1.000000   \n",
       "50%                 0.880000    51.000000            2.000000   \n",
       "75%                 1.960000    86.000000            2.000000   \n",
       "max                34.090000   116.000000           13.000000   \n",
       "\n",
       "       GFABuildingRate  GFAParkingRate  GFAPerBuilding   GFAPerFloor  \\\n",
       "count      1545.000000     1545.000000    1.545000e+03  1.545000e+03   \n",
       "mean          0.934539        0.065461    1.052097e+05  3.297781e+04   \n",
       "std           0.144151        0.144151    1.853590e+05  4.850169e+04   \n",
       "min           0.104980        0.000000    0.000000e+00  0.000000e+00   \n",
       "25%           1.000000        0.000000    2.669400e+04  1.284750e+04   \n",
       "50%           1.000000        0.000000    4.471900e+04  2.204700e+04   \n",
       "75%           1.000000        0.000000    9.848000e+04  3.600000e+04   \n",
       "max           1.000000        0.895020    2.200000e+06  1.100000e+06   \n",
       "\n",
       "       harvesine_distance  \n",
       "count         1545.000000  \n",
       "mean             2.720970  \n",
       "std              2.189064  \n",
       "min              0.021130  \n",
       "25%              0.833517  \n",
       "50%              2.097496  \n",
       "75%              4.099345  \n",
       "max              8.843544  "
      ]
     },
     "execution_count": 938,
     "metadata": {},
     "output_type": "execute_result"
    }
   ],
   "source": [
    "df3.describe()"
   ]
  },
  {
   "cell_type": "code",
   "execution_count": 939,
   "metadata": {},
   "outputs": [
    {
     "data": {
      "text/plain": [
       "BuildingType              1545\n",
       "PrimaryPropertyType       1545\n",
       "Neighborhood              1545\n",
       "LargestPropertyUseType    1545\n",
       "NumberofBuildings         1545\n",
       "NumberofFloors            1545\n",
       "PropertyGFATotal          1545\n",
       "SiteEUI(kBtu/sf)          1545\n",
       "SourceEUI(kBtu/sf)        1545\n",
       "SiteEnergyUse(kBtu)       1545\n",
       "TotalGHGEmissions         1545\n",
       "GHGEmissionsIntensity     1545\n",
       "BuildingAge               1545\n",
       "TotalUseTypeNumber        1545\n",
       "GFABuildingRate           1545\n",
       "GFAParkingRate            1545\n",
       "GFAPerBuilding            1545\n",
       "GFAPerFloor               1545\n",
       "harvesine_distance        1545\n",
       "dtype: int64"
      ]
     },
     "execution_count": 939,
     "metadata": {},
     "output_type": "execute_result"
    }
   ],
   "source": [
    "df3.isnull().count()"
   ]
  },
  {
   "cell_type": "markdown",
   "metadata": {},
   "source": [
    "Note : Paramètres ElasticNet: \n",
    "\n",
    "- \"flottant alpha , par défaut=1.0\" :\n",
    "\n",
    "    * Constante qui multiplie les termes de pénalité. La valeur par défaut est 1.0. Voir les notes pour la signification mathématique exacte de ce paramètre. est équivalent à un moindre carré ordinaire, résolu par l' objet. Pour des raisons numériques, l'utilisation avec l' objet est déconseillée. Compte tenu de cela, vous devez utiliser l' objet.alpha = 0LinearRegressionalpha = 0LassoLinearRegression\n",
    "\n",
    "- \"l1_ratiofloat, default=0.5\" :\n",
    "\n",
    "    * The ElasticNet mixing parameter, with 0 <= l1_ratio <= 1. For l1_ratio = 0 the penalty is an L2 penalty. For l1_ratio = 1 it is an L1 penalty. For 0 < l1_ratio < 1, the penalty is a combination of L1 and L2.\n",
    "\n",
    "- \"max_iter entier , par défaut=1000\" :\n",
    "\n",
    "    * Le nombre maximal d'itérations."
   ]
  },
  {
   "cell_type": "code",
   "execution_count": 940,
   "metadata": {},
   "outputs": [],
   "source": [
    "from sklearn.linear_model import ElasticNet\n",
    "\n",
    "param_eNet = {\"regressor__max_iter\": [10, 500, 1000],\n",
    "              \"regressor__alpha\": np.logspace(-4, 0, num=5),\n",
    "              \"regressor__l1_ratio\": np.arange(0.0, 1.1, 0.1)}\n",
    "\n",
    "eNet_grid_cv = Pipeline([\n",
    "    ('preprocessor', preprocessor),\n",
    "    ('grid_search_enet', GridSearchCV(\n",
    "                            TransformedTargetRegressor(\n",
    "                                regressor=ElasticNet(), \n",
    "                                func=np.log, \n",
    "                                inverse_func=np.exp),\n",
    "                            param_grid=param_eNet,\n",
    "                            cv=5,\n",
    "                            scoring=('r2','neg_mean_absolute_error'),\n",
    "                            return_train_score = True,\n",
    "                            refit='neg_mean_absolute_error',\n",
    "                            n_jobs = -1))])"
   ]
  },
  {
   "cell_type": "code",
   "execution_count": 941,
   "metadata": {},
   "outputs": [
    {
     "name": "stderr",
     "output_type": "stream",
     "text": [
      "Default parameter min_samples_leaf will change in version 2.6.See https://github.com/scikit-learn-contrib/category_encoders/issues/327\n",
      "Default parameter smoothing will change in version 2.6.See https://github.com/scikit-learn-contrib/category_encoders/issues/327\n"
     ]
    },
    {
     "name": "stdout",
     "output_type": "stream",
     "text": [
      "Meilleur score MAE : -43070959.252\n",
      "Meilleur Score R2 : -591.478\n",
      "Meilleurs paramètres : {'regressor__alpha': 1.0, 'regressor__l1_ratio': 0.0, 'regressor__max_iter': 500}\n",
      "Temps moyen d'entrainement : 18.33s\n"
     ]
    },
    {
     "name": "stderr",
     "output_type": "stream",
     "text": [
      "Objective did not converge. You might want to increase the number of iterations, check the scale of the features or consider increasing regularisation. Duality gap: 5.448e+02, tolerance: 2.096e-01 Linear regression models with null weight for the l1 regularization term are more efficiently fitted using one of the solvers implemented in sklearn.linear_model.Ridge/RidgeCV instead.\n"
     ]
    }
   ],
   "source": [
    "SEU_eNet_model = eNet_grid_cv.fit(X_train, Y_train['SiteEnergyUse(kBtu)'])\n",
    "SEU_eNet_results = model_scores(SEU_eNet_model, 'grid_search_enet')"
   ]
  },
  {
   "cell_type": "markdown",
   "metadata": {},
   "source": [
    "Remarque : \n",
    "\n",
    "- Les premières observations sur la modélisation \"ElasticNet\" semble lègerement améliorer sur les métrics pour les prédictions sur \"la consommation d'énergie\" et \"des émissions de CO2\". "
   ]
  },
  {
   "cell_type": "markdown",
   "metadata": {},
   "source": [
    "### 3.2. Modèle Support Vector Regression (SVR)"
   ]
  },
  {
   "cell_type": "markdown",
   "metadata": {},
   "source": [
    "Note : Les machines à vecteur de support\n",
    "\n",
    "- Dans le cas de données linéairement séparables, il existe généralement une infinité d'hyperplans séparateurs qui classifient correctement les données. Pour formaliser lequel parmi ces multiples hyperplans nous convient le mieux, nous allons définir la marge d'un hyperplan séparateur  \"H\"comme deux fois la distance de  \"H\" au point du jeu de données qui en est le plus proche.\n",
    "\n",
    "- Dans la plupart des cas, les données ne sont pas linéairement séparables. Il va donc falloir accepter de faire des erreurs, autrement dit que certains points de notre jeu d'entraînement se retrouvent du mauvais côté de la frontière de la zone d'indécision.\n",
    "\n",
    "- Plus la marge est grande, plus nous somme susceptibles d'avoir d'erreurs. Nous allons donc devoir minimiser la marge et l'erreur simultanément :\n",
    "\n",
    "L'hyperparamètre <strong> \"C\"</strong> sert à quantifier l'importance relative du terme d'erreur et du terme de marge. Il s'agit donc bien d'une <strong> régularisation ℓ2, et le coefficient  C  vaut  1/2λ </strong> ar rapport à ce que nous avons pu écrire pour la régression Ridge. Les SVM peuvent aussi être utilisées pour des problèmes de régression (SVR) et on cherche toujours à minimiser\n",
    "  "
   ]
  },
  {
   "cell_type": "code",
   "execution_count": 942,
   "metadata": {},
   "outputs": [],
   "source": [
    "from sklearn.svm import LinearSVR\n",
    "\n",
    "param_svr = {'regressor__C' : np.logspace(-4, 0, 5),\n",
    "             'regressor__epsilon' : [0, 0.01, 0.1, 0.5, 1, 2],\n",
    "             'regressor__loss' : [\"epsilon_insensitive\",\"squared_epsilon_insensitive\"],\n",
    "             'regressor__max_iter': [10, 500, 1000]}\n",
    "\n",
    "svr_grid_cv = Pipeline([\n",
    "    ('preprocessor', preprocessor),\n",
    "    ('grid_search_svr', GridSearchCV(\n",
    "                            TransformedTargetRegressor(\n",
    "                                regressor=LinearSVR(), \n",
    "                                func=np.log, \n",
    "                                inverse_func=np.exp),\n",
    "                            param_grid=param_svr,\n",
    "                            cv=5,\n",
    "                            scoring=('r2','neg_mean_absolute_error'),\n",
    "                            refit='neg_mean_absolute_error',\n",
    "                            return_train_score = True,\n",
    "                            n_jobs = -1))])"
   ]
  },
  {
   "cell_type": "code",
   "execution_count": 943,
   "metadata": {},
   "outputs": [
    {
     "name": "stderr",
     "output_type": "stream",
     "text": [
      "Default parameter min_samples_leaf will change in version 2.6.See https://github.com/scikit-learn-contrib/category_encoders/issues/327\n",
      "Default parameter smoothing will change in version 2.6.See https://github.com/scikit-learn-contrib/category_encoders/issues/327\n"
     ]
    },
    {
     "name": "stdout",
     "output_type": "stream",
     "text": [
      "Meilleur score MAE : -8097351.077\n",
      "Meilleur Score R2 : -0.268\n",
      "Meilleurs paramètres : {'regressor__C': 0.0001, 'regressor__epsilon': 0, 'regressor__loss': 'epsilon_insensitive', 'regressor__max_iter': 10}\n",
      "Temps moyen d'entrainement : 62.19s\n"
     ]
    },
    {
     "name": "stderr",
     "output_type": "stream",
     "text": [
      "Liblinear failed to converge, increase the number of iterations.\n"
     ]
    }
   ],
   "source": [
    "SEU_svr_model = svr_grid_cv.fit(X_train, Y_train['SiteEnergyUse(kBtu)'])\n",
    "SEU_svr_results = model_scores(SEU_svr_model, 'grid_search_svr')"
   ]
  },
  {
   "cell_type": "markdown",
   "metadata": {},
   "source": [
    "Remarque: \n",
    "\n",
    "- Globalement sur le modèle du \"SVR linéaire, les métriques semble avoir encore des meilleurs notes pour nos 2 variables étudier comparées au modèle de \"l'ElasticNet\". "
   ]
  },
  {
   "cell_type": "markdown",
   "metadata": {},
   "source": [
    "### 4. Modèle non-linéaires : RandomForestRegressor"
   ]
  },
  {
   "cell_type": "markdown",
   "metadata": {},
   "source": [
    "Note: Params for RandomForestRegressor \n",
    "\n",
    "RandomForest :\n",
    "\n",
    "- \"max_depth entier :, par défaut=Aucun\"\n",
    "\n",
    "    * La profondeur maximale de l'arbre. Si aucun, les nœuds sont développés jusqu'à ce que toutes les feuilles soient pures ou jusqu'à ce que toutes les feuilles contiennent moins de min_samples_split échantillons.\n",
    "\n",
    "- \"min_samples_split int ou float, default=2\"\n",
    "Le nombre minimum d'échantillons requis pour diviser un nœud interne :\n",
    "\n",
    "    * Si int, alors considérez min_samples_splitcomme le nombre minimum.\n",
    "\n",
    "    * Si flottant, alors min_samples_splitest une fraction et représente le nombre minimum d'échantillons pour chaque fractionnement.ceil(min_samples_split * n_samples)\n",
    "\n",
    "- \"min_samples_leaf entier ou flottant, par défaut=1\"\n",
    "Le nombre minimum d'échantillons requis pour être à un nœud feuille. Un point de partage à n'importe quelle profondeur ne sera pris en compte que s'il laisse au moins min_samples_leafdes échantillons d'apprentissage dans chacune des branches gauche et droite. Cela peut avoir pour effet de lisser le modèle, notamment en régression.\n",
    "\n",
    "    * Si int, alors considérez min_samples_leafcomme le nombre minimum.\n",
    "\n",
    "    * Si float, alors min_samples_leafest une fraction et est le nombre minimum d'échantillons pour chaque nœud.ceil(min_samples_leaf * n_samples)\n",
    "\n",
    "- \"max_features {\"sqrt\", \"log2\", Aucun}, int ou float, default=1.0\"\n",
    "Le nombre de fonctionnalités à prendre en compte lors de la recherche de la meilleure répartition :\n",
    "\n",
    "-n_jobs = -1 : utiliser tout les processeurs  "
   ]
  },
  {
   "cell_type": "markdown",
   "metadata": {},
   "source": [
    "#### 4.1 Modèle RandomForestRegressor"
   ]
  },
  {
   "cell_type": "code",
   "execution_count": 944,
   "metadata": {},
   "outputs": [],
   "source": [
    "from sklearn.ensemble import RandomForestRegressor\n",
    "\n",
    "param_rfr = {'regressor__max_features':['sqrt','log2'],\n",
    "             'regressor__max_depth':[ 5, 15, 25 ,50],\n",
    "             'regressor__min_samples_split':[ 2, 5, 10],\n",
    "             'regressor__bootstrap':[True,False],\n",
    "             'regressor__min_samples_leaf':[1, 2 ,5 ,10]\n",
    "             }\n",
    "\n",
    "rfr_grid_cv = Pipeline([('preprocessing',preprocessor),\n",
    "                        ('grid_search_rfr',GridSearchCV(\n",
    "                            TransformedTargetRegressor(\n",
    "                                regressor=RandomForestRegressor(),\n",
    "                                func=np.log,\n",
    "                                inverse_func=np.exp),\n",
    "                                param_grid=param_rfr,\n",
    "                                cv=5,\n",
    "                                scoring=('r2','neg_mean_absolute_error'),\n",
    "                                refit='neg_mean_absolute_error',\n",
    "                                return_train_score =True,\n",
    "                                n_jobs= -1 ))])"
   ]
  },
  {
   "cell_type": "code",
   "execution_count": 945,
   "metadata": {},
   "outputs": [
    {
     "name": "stderr",
     "output_type": "stream",
     "text": [
      "Default parameter min_samples_leaf will change in version 2.6.See https://github.com/scikit-learn-contrib/category_encoders/issues/327\n",
      "Default parameter smoothing will change in version 2.6.See https://github.com/scikit-learn-contrib/category_encoders/issues/327\n"
     ]
    },
    {
     "name": "stdout",
     "output_type": "stream",
     "text": [
      "Meilleur score MAE : -3674853.779\n",
      "Meilleur Score R2 : 0.635\n",
      "Meilleurs paramètres : {'regressor__bootstrap': False, 'regressor__max_depth': 15, 'regressor__max_features': 'sqrt', 'regressor__min_samples_leaf': 1, 'regressor__min_samples_split': 2}\n",
      "Temps moyen d'entrainement : 654.48s\n"
     ]
    }
   ],
   "source": [
    "SEU_rfr_model = rfr_grid_cv.fit(X_train, Y_train['SiteEnergyUse(kBtu)'])\n",
    "\n",
    "SEU_rfr_results = model_scores(SEU_rfr_model, 'grid_search_rfr')"
   ]
  },
  {
   "cell_type": "markdown",
   "metadata": {},
   "source": [
    "### 5. Sélection des meilleurs modèles"
   ]
  },
  {
   "cell_type": "markdown",
   "metadata": {},
   "source": [
    "Sur les modèles testés,les modèles linéaires retournent de moins bonnes métriques en général. Si nous prenons en compte le score MAE sur les modèles linéaires et non-linéaires, le RandomForestRegressor offre les meilleurs performances avec un  temps de calculs plus efficace  sur le modèle RandomForestRegressor. Nous pourrons l'observer sur la suite des observations :"
   ]
  },
  {
   "cell_type": "code",
   "execution_count": 946,
   "metadata": {},
   "outputs": [],
   "source": [
    "import pandas as pd"
   ]
  },
  {
   "cell_type": "code",
   "execution_count": 947,
   "metadata": {},
   "outputs": [],
   "source": [
    "metrics = ['mean_fit_time', 'mean_score_time',\n",
    "          'mean_test_neg_mean_absolute_error',\n",
    "          'mean_train_neg_mean_absolute_error']\n"
   ]
  },
  {
   "cell_type": "markdown",
   "metadata": {},
   "source": [
    " \n",
    " \n",
    " Nous pouvons à présent visualiser l'impact des hyperparamètres de la GridSearch :"
   ]
  },
  {
   "cell_type": "code",
   "execution_count": 948,
   "metadata": {},
   "outputs": [],
   "source": [
    "#Fonction d'affichage des scores de GridSearch pour chacun des paramètres : \n",
    "\n",
    "#from array import array\n",
    "#from distutils.log import error\n",
    "#from unittest import result\n",
    "\n",
    "\n",
    "def plot_search_results(grid,title):\n",
    "\n",
    "    ##Resultats de la GridSearch \n",
    "    results = grid.cv_results_\n",
    "    means_test = results['mean_test_neg_mean_absolute_error']\n",
    "    stds_test = results['std_test_neg_mean_absolute_error']\n",
    "    means_train = results['mean_train_neg_mean_absolute_error']\n",
    "    stds_train = results['std_train_neg_mean_absolute_error']\n",
    "\n",
    "    ##Index des valeurs par hyper-paramètres\n",
    "    masks=[]\n",
    "    masks_names = list(grid.best_params_.keys())\n",
    "    for p_k,p_v in grid.best_params_.items():\n",
    "        masks.append(list(results['param_'+p_k].data ==p_v))\n",
    "\n",
    "        params = grid.param_grid\n",
    "\n",
    "        ##Résultats\n",
    "    fig, ax = plt.subplots(1,len(params),sharex='none', sharey='all',figsize=(20,5))\n",
    "    fig.suptitle('Scores par paramètres pour la variable {}'.format(title), \n",
    "                  fontsize=22)\n",
    "    fig.text(0.04, 0.5, 'NEG MEAN ABSOLUTE ERROR SCORE', va='center', rotation='vertical')\n",
    "    pram_preformace_in_best = {}\n",
    "    for i, p in enumerate(masks_names):\n",
    "        m = np.stack(masks[:i] + masks[i+1:])\n",
    "        pram_preformace_in_best\n",
    "        best_parms_mask = m.all(axis=0)\n",
    "        best_index = np.where(best_parms_mask)[0]\n",
    "        x = np.array(params[p])\n",
    "        y_1 = np.array(means_test[best_index])\n",
    "        e_1 = np.array(stds_test[best_index])\n",
    "        y_2 = np.array(means_train[best_index])\n",
    "        e_2 = np.array(stds_train[best_index])\n",
    "        ax[i].errorbar(x, y_1, e_1, linestyle='--', marker='o', label='test', color=\"green\")\n",
    "        ax[i].errorbar(x, y_2, e_2, linestyle='--', marker='o', label='train', color=\"red\")\n",
    "        ax[i].set_xlabel(p.upper())\n",
    "\n",
    "    plt.legend()\n",
    "    plt.show()\n",
    "    \n",
    "    print(\"\\nRappel des meilleurs paramètres :\\n{}\".format(grid.best_params_))\n",
    "    \n"
   ]
  },
  {
   "cell_type": "markdown",
   "metadata": {},
   "source": [
    "Remarque : \n",
    "\n",
    " - Nous pouvons à présent regarder l'importance de nos features sur le modèle \"RandomForest\" :"
   ]
  },
  {
   "cell_type": "markdown",
   "metadata": {},
   "source": [
    "---------"
   ]
  },
  {
   "cell_type": "code",
   "execution_count": 949,
   "metadata": {},
   "outputs": [
    {
     "data": {
      "text/html": [
       "<style>#sk-ce602844-965f-4372-8d63-66849992cb62 {color: black;background-color: white;}#sk-ce602844-965f-4372-8d63-66849992cb62 pre{padding: 0;}#sk-ce602844-965f-4372-8d63-66849992cb62 div.sk-toggleable {background-color: white;}#sk-ce602844-965f-4372-8d63-66849992cb62 label.sk-toggleable__label {cursor: pointer;display: block;width: 100%;margin-bottom: 0;padding: 0.3em;box-sizing: border-box;text-align: center;}#sk-ce602844-965f-4372-8d63-66849992cb62 label.sk-toggleable__label-arrow:before {content: \"▸\";float: left;margin-right: 0.25em;color: #696969;}#sk-ce602844-965f-4372-8d63-66849992cb62 label.sk-toggleable__label-arrow:hover:before {color: black;}#sk-ce602844-965f-4372-8d63-66849992cb62 div.sk-estimator:hover label.sk-toggleable__label-arrow:before {color: black;}#sk-ce602844-965f-4372-8d63-66849992cb62 div.sk-toggleable__content {max-height: 0;max-width: 0;overflow: hidden;text-align: left;background-color: #f0f8ff;}#sk-ce602844-965f-4372-8d63-66849992cb62 div.sk-toggleable__content pre {margin: 0.2em;color: black;border-radius: 0.25em;background-color: #f0f8ff;}#sk-ce602844-965f-4372-8d63-66849992cb62 input.sk-toggleable__control:checked~div.sk-toggleable__content {max-height: 200px;max-width: 100%;overflow: auto;}#sk-ce602844-965f-4372-8d63-66849992cb62 input.sk-toggleable__control:checked~label.sk-toggleable__label-arrow:before {content: \"▾\";}#sk-ce602844-965f-4372-8d63-66849992cb62 div.sk-estimator input.sk-toggleable__control:checked~label.sk-toggleable__label {background-color: #d4ebff;}#sk-ce602844-965f-4372-8d63-66849992cb62 div.sk-label input.sk-toggleable__control:checked~label.sk-toggleable__label {background-color: #d4ebff;}#sk-ce602844-965f-4372-8d63-66849992cb62 input.sk-hidden--visually {border: 0;clip: rect(1px 1px 1px 1px);clip: rect(1px, 1px, 1px, 1px);height: 1px;margin: -1px;overflow: hidden;padding: 0;position: absolute;width: 1px;}#sk-ce602844-965f-4372-8d63-66849992cb62 div.sk-estimator {font-family: monospace;background-color: #f0f8ff;border: 1px dotted black;border-radius: 0.25em;box-sizing: border-box;margin-bottom: 0.5em;}#sk-ce602844-965f-4372-8d63-66849992cb62 div.sk-estimator:hover {background-color: #d4ebff;}#sk-ce602844-965f-4372-8d63-66849992cb62 div.sk-parallel-item::after {content: \"\";width: 100%;border-bottom: 1px solid gray;flex-grow: 1;}#sk-ce602844-965f-4372-8d63-66849992cb62 div.sk-label:hover label.sk-toggleable__label {background-color: #d4ebff;}#sk-ce602844-965f-4372-8d63-66849992cb62 div.sk-serial::before {content: \"\";position: absolute;border-left: 1px solid gray;box-sizing: border-box;top: 2em;bottom: 0;left: 50%;}#sk-ce602844-965f-4372-8d63-66849992cb62 div.sk-serial {display: flex;flex-direction: column;align-items: center;background-color: white;padding-right: 0.2em;padding-left: 0.2em;}#sk-ce602844-965f-4372-8d63-66849992cb62 div.sk-item {z-index: 1;}#sk-ce602844-965f-4372-8d63-66849992cb62 div.sk-parallel {display: flex;align-items: stretch;justify-content: center;background-color: white;}#sk-ce602844-965f-4372-8d63-66849992cb62 div.sk-parallel::before {content: \"\";position: absolute;border-left: 1px solid gray;box-sizing: border-box;top: 2em;bottom: 0;left: 50%;}#sk-ce602844-965f-4372-8d63-66849992cb62 div.sk-parallel-item {display: flex;flex-direction: column;position: relative;background-color: white;}#sk-ce602844-965f-4372-8d63-66849992cb62 div.sk-parallel-item:first-child::after {align-self: flex-end;width: 50%;}#sk-ce602844-965f-4372-8d63-66849992cb62 div.sk-parallel-item:last-child::after {align-self: flex-start;width: 50%;}#sk-ce602844-965f-4372-8d63-66849992cb62 div.sk-parallel-item:only-child::after {width: 0;}#sk-ce602844-965f-4372-8d63-66849992cb62 div.sk-dashed-wrapped {border: 1px dashed gray;margin: 0 0.4em 0.5em 0.4em;box-sizing: border-box;padding-bottom: 0.4em;background-color: white;position: relative;}#sk-ce602844-965f-4372-8d63-66849992cb62 div.sk-label label {font-family: monospace;font-weight: bold;background-color: white;display: inline-block;line-height: 1.2em;}#sk-ce602844-965f-4372-8d63-66849992cb62 div.sk-label-container {position: relative;z-index: 2;text-align: center;}#sk-ce602844-965f-4372-8d63-66849992cb62 div.sk-container {/* jupyter's `normalize.less` sets `[hidden] { display: none; }` but bootstrap.min.css set `[hidden] { display: none !important; }` so we also need the `!important` here to be able to override the default hidden behavior on the sphinx rendered scikit-learn.org. See: https://github.com/scikit-learn/scikit-learn/issues/21755 */display: inline-block !important;position: relative;}#sk-ce602844-965f-4372-8d63-66849992cb62 div.sk-text-repr-fallback {display: none;}</style><div id=\"sk-ce602844-965f-4372-8d63-66849992cb62\" class=\"sk-top-container\"><div class=\"sk-text-repr-fallback\"><pre>GridSearchCV(cv=5,\n",
       "             estimator=TransformedTargetRegressor(func=&lt;ufunc &#x27;log&#x27;&gt;,\n",
       "                                                  inverse_func=&lt;ufunc &#x27;exp&#x27;&gt;,\n",
       "                                                  regressor=RandomForestRegressor()),\n",
       "             n_jobs=-1,\n",
       "             param_grid={&#x27;regressor__bootstrap&#x27;: [True, False],\n",
       "                         &#x27;regressor__max_depth&#x27;: [5, 15, 25, 50],\n",
       "                         &#x27;regressor__max_features&#x27;: [&#x27;sqrt&#x27;, &#x27;log2&#x27;],\n",
       "                         &#x27;regressor__min_samples_leaf&#x27;: [1, 2, 5, 10],\n",
       "                         &#x27;regressor__min_samples_split&#x27;: [2, 5, 10]},\n",
       "             refit=&#x27;neg_mean_absolute_error&#x27;, return_train_score=True,\n",
       "             scoring=(&#x27;r2&#x27;, &#x27;neg_mean_absolute_error&#x27;))</pre><b>Please rerun this cell to show the HTML repr or trust the notebook.</b></div><div class=\"sk-container\" hidden><div class=\"sk-item sk-dashed-wrapped\"><div class=\"sk-label-container\"><div class=\"sk-label sk-toggleable\"><input class=\"sk-toggleable__control sk-hidden--visually\" id=\"24a6cfdf-6488-4337-92b6-b5506ac36010\" type=\"checkbox\" ><label for=\"24a6cfdf-6488-4337-92b6-b5506ac36010\" class=\"sk-toggleable__label sk-toggleable__label-arrow\">GridSearchCV</label><div class=\"sk-toggleable__content\"><pre>GridSearchCV(cv=5,\n",
       "             estimator=TransformedTargetRegressor(func=&lt;ufunc &#x27;log&#x27;&gt;,\n",
       "                                                  inverse_func=&lt;ufunc &#x27;exp&#x27;&gt;,\n",
       "                                                  regressor=RandomForestRegressor()),\n",
       "             n_jobs=-1,\n",
       "             param_grid={&#x27;regressor__bootstrap&#x27;: [True, False],\n",
       "                         &#x27;regressor__max_depth&#x27;: [5, 15, 25, 50],\n",
       "                         &#x27;regressor__max_features&#x27;: [&#x27;sqrt&#x27;, &#x27;log2&#x27;],\n",
       "                         &#x27;regressor__min_samples_leaf&#x27;: [1, 2, 5, 10],\n",
       "                         &#x27;regressor__min_samples_split&#x27;: [2, 5, 10]},\n",
       "             refit=&#x27;neg_mean_absolute_error&#x27;, return_train_score=True,\n",
       "             scoring=(&#x27;r2&#x27;, &#x27;neg_mean_absolute_error&#x27;))</pre></div></div></div><div class=\"sk-parallel\"><div class=\"sk-parallel-item\"><div class=\"sk-item\"><div class=\"sk-serial\"><div class=\"sk-item sk-dashed-wrapped\"><div class=\"sk-parallel\"><div class=\"sk-parallel-item\"><div class=\"sk-item\"><div class=\"sk-serial\"><div class=\"sk-item\"><div class=\"sk-estimator sk-toggleable\"><input class=\"sk-toggleable__control sk-hidden--visually\" id=\"1af0b649-70c9-4ba3-b0ee-ccd897720260\" type=\"checkbox\" ><label for=\"1af0b649-70c9-4ba3-b0ee-ccd897720260\" class=\"sk-toggleable__label sk-toggleable__label-arrow\">RandomForestRegressor</label><div class=\"sk-toggleable__content\"><pre>RandomForestRegressor()</pre></div></div></div></div></div></div></div></div></div></div></div></div></div></div></div>"
      ],
      "text/plain": [
       "GridSearchCV(cv=5,\n",
       "             estimator=TransformedTargetRegressor(func=<ufunc 'log'>,\n",
       "                                                  inverse_func=<ufunc 'exp'>,\n",
       "                                                  regressor=RandomForestRegressor()),\n",
       "             n_jobs=-1,\n",
       "             param_grid={'regressor__bootstrap': [True, False],\n",
       "                         'regressor__max_depth': [5, 15, 25, 50],\n",
       "                         'regressor__max_features': ['sqrt', 'log2'],\n",
       "                         'regressor__min_samples_leaf': [1, 2, 5, 10],\n",
       "                         'regressor__min_samples_split': [2, 5, 10]},\n",
       "             refit='neg_mean_absolute_error', return_train_score=True,\n",
       "             scoring=('r2', 'neg_mean_absolute_error'))"
      ]
     },
     "execution_count": 949,
     "metadata": {},
     "output_type": "execute_result"
    }
   ],
   "source": [
    "#FEATURE IMPORTANCE : \n",
    "rfr_grid_cv.steps[1][1]"
   ]
  },
  {
   "cell_type": "code",
   "execution_count": 950,
   "metadata": {},
   "outputs": [],
   "source": [
    "#Feature importance globale (spécifique au RandomForest)\n",
    "feature_importances = rfr_grid_cv.steps[1][1].best_estimator_.regressor_.feature_importances_"
   ]
  },
  {
   "cell_type": "code",
   "execution_count": 951,
   "metadata": {},
   "outputs": [
    {
     "data": {
      "text/plain": [
       "1.0000000000000002"
      ]
     },
     "execution_count": 951,
     "metadata": {},
     "output_type": "execute_result"
    }
   ],
   "source": [
    "#Feature importance globale (spécifique au RandomForest)\n",
    "feature_importances.sum()"
   ]
  },
  {
   "cell_type": "code",
   "execution_count": 952,
   "metadata": {},
   "outputs": [
    {
     "data": {
      "text/plain": [
       "array([0.00511383, 0.15978289, 0.01902086, 0.11276282, 0.04085634,\n",
       "       0.01559274, 0.06985496, 0.25731167, 0.03951227, 0.01731716,\n",
       "       0.01639975, 0.01485061, 0.16102864, 0.07059545])"
      ]
     },
     "execution_count": 952,
     "metadata": {},
     "output_type": "execute_result"
    }
   ],
   "source": [
    "feature_importances"
   ]
  },
  {
   "cell_type": "code",
   "execution_count": 953,
   "metadata": {},
   "outputs": [],
   "source": [
    "importances01 = feature_importances"
   ]
  },
  {
   "cell_type": "code",
   "execution_count": 954,
   "metadata": {},
   "outputs": [
    {
     "data": {
      "text/plain": [
       "['BuildingType',\n",
       " 'PrimaryPropertyType',\n",
       " 'Neighborhood',\n",
       " 'LargestPropertyUseType']"
      ]
     },
     "execution_count": 954,
     "metadata": {},
     "output_type": "execute_result"
    }
   ],
   "source": [
    "target_features"
   ]
  },
  {
   "cell_type": "code",
   "execution_count": 955,
   "metadata": {},
   "outputs": [
    {
     "data": {
      "text/plain": [
       "array([0.00511383, 0.15978289, 0.01902086, 0.11276282, 0.04085634,\n",
       "       0.01559274, 0.06985496, 0.25731167, 0.03951227, 0.01731716,\n",
       "       0.01639975, 0.01485061, 0.16102864, 0.07059545])"
      ]
     },
     "execution_count": 955,
     "metadata": {},
     "output_type": "execute_result"
    }
   ],
   "source": [
    "#FEATURE IMPORTANCE : \n",
    "importances01"
   ]
  },
  {
   "cell_type": "code",
   "execution_count": 956,
   "metadata": {},
   "outputs": [],
   "source": [
    "#TEST: GET_FEATURE_NAMES()\n",
    "\n",
    "from sklearn.feature_extraction.text import TfidfVectorizer\n",
    "from sklearn.feature_extraction.text import CountVectorizer\n",
    "from sklearn.decomposition import TruncatedSVD\n",
    "from sklearn.compose import ColumnTransformer\n",
    "from sklearn.feature_extraction import DictVectorizer\n",
    "from sklearn.feature_extraction.text import TfidfVectorizer,CountVectorizer\n",
    "import pandas as pd\n",
    "from sklearn.compose import ColumnTransformer, make_column_transformer"
   ]
  },
  {
   "cell_type": "code",
   "execution_count": 957,
   "metadata": {},
   "outputs": [
    {
     "name": "stdout",
     "output_type": "stream",
     "text": [
      "Requirement already satisfied: shap in d:\\cours lp data rizza\\python anaconda 3\\lib\\site-packages (0.41.0)\n",
      "Requirement already satisfied: pandas in d:\\cours lp data rizza\\python anaconda 3\\lib\\site-packages (from shap) (1.4.2)\n",
      "Requirement already satisfied: slicer==0.0.7 in d:\\cours lp data rizza\\python anaconda 3\\lib\\site-packages (from shap) (0.0.7)\n",
      "Requirement already satisfied: tqdm>4.25.0 in d:\\cours lp data rizza\\python anaconda 3\\lib\\site-packages (from shap) (4.64.0)\n",
      "Requirement already satisfied: packaging>20.9 in d:\\cours lp data rizza\\python anaconda 3\\lib\\site-packages (from shap) (21.3)\n",
      "Requirement already satisfied: scipy in d:\\cours lp data rizza\\python anaconda 3\\lib\\site-packages (from shap) (1.7.3)\n",
      "Requirement already satisfied: numba in d:\\cours lp data rizza\\python anaconda 3\\lib\\site-packages (from shap) (0.55.1)\n",
      "Requirement already satisfied: cloudpickle in d:\\cours lp data rizza\\python anaconda 3\\lib\\site-packages (from shap) (2.0.0)\n",
      "Requirement already satisfied: scikit-learn in d:\\cours lp data rizza\\python anaconda 3\\lib\\site-packages (from shap) (1.0.2)\n",
      "Requirement already satisfied: numpy in d:\\cours lp data rizza\\python anaconda 3\\lib\\site-packages (from shap) (1.21.5)\n",
      "Requirement already satisfied: pyparsing!=3.0.5,>=2.0.2 in d:\\cours lp data rizza\\python anaconda 3\\lib\\site-packages (from packaging>20.9->shap) (3.0.4)\n",
      "Requirement already satisfied: colorama in d:\\cours lp data rizza\\python anaconda 3\\lib\\site-packages (from tqdm>4.25.0->shap) (0.4.4)\n",
      "Requirement already satisfied: llvmlite<0.39,>=0.38.0rc1 in d:\\cours lp data rizza\\python anaconda 3\\lib\\site-packages (from numba->shap) (0.38.0)\n",
      "Requirement already satisfied: setuptools in d:\\cours lp data rizza\\python anaconda 3\\lib\\site-packages (from numba->shap) (61.2.0)\n",
      "Requirement already satisfied: python-dateutil>=2.8.1 in d:\\cours lp data rizza\\python anaconda 3\\lib\\site-packages (from pandas->shap) (2.8.2)\n",
      "Requirement already satisfied: pytz>=2020.1 in d:\\cours lp data rizza\\python anaconda 3\\lib\\site-packages (from pandas->shap) (2021.3)\n",
      "Requirement already satisfied: six>=1.5 in d:\\cours lp data rizza\\python anaconda 3\\lib\\site-packages (from python-dateutil>=2.8.1->pandas->shap) (1.16.0)\n",
      "Requirement already satisfied: threadpoolctl>=2.0.0 in d:\\cours lp data rizza\\python anaconda 3\\lib\\site-packages (from scikit-learn->shap) (2.2.0)\n",
      "Requirement already satisfied: joblib>=0.11 in d:\\cours lp data rizza\\python anaconda 3\\lib\\site-packages (from scikit-learn->shap) (1.1.0)\n"
     ]
    }
   ],
   "source": [
    "#Méthode Shape impacte des différentes features : local and global\n",
    "! pip install shap\n",
    "\n"
   ]
  },
  {
   "cell_type": "code",
   "execution_count": 958,
   "metadata": {},
   "outputs": [
    {
     "name": "stdout",
     "output_type": "stream",
     "text": [
      "SHAP Version : 0.41.0 \n"
     ]
    }
   ],
   "source": [
    "import shap\n",
    "\n",
    "print ( \"SHAP Version : {} \" . format ( shap . __version__ ))"
   ]
  },
  {
   "cell_type": "code",
   "execution_count": 959,
   "metadata": {},
   "outputs": [
    {
     "name": "stdout",
     "output_type": "stream",
     "text": [
      "Requirement already satisfied: lime in d:\\cours lp data rizza\\python anaconda 3\\lib\\site-packages (0.2.0.1)\n",
      "Requirement already satisfied: matplotlib in d:\\cours lp data rizza\\python anaconda 3\\lib\\site-packages (from lime) (3.5.1)\n",
      "Requirement already satisfied: scikit-learn>=0.18 in d:\\cours lp data rizza\\python anaconda 3\\lib\\site-packages (from lime) (1.0.2)\n",
      "Requirement already satisfied: scikit-image>=0.12 in d:\\cours lp data rizza\\python anaconda 3\\lib\\site-packages (from lime) (0.19.2)\n",
      "Requirement already satisfied: scipy in d:\\cours lp data rizza\\python anaconda 3\\lib\\site-packages (from lime) (1.7.3)\n",
      "Requirement already satisfied: numpy in d:\\cours lp data rizza\\python anaconda 3\\lib\\site-packages (from lime) (1.21.5)\n",
      "Requirement already satisfied: tqdm in d:\\cours lp data rizza\\python anaconda 3\\lib\\site-packages (from lime) (4.64.0)\n",
      "Requirement already satisfied: PyWavelets>=1.1.1 in d:\\cours lp data rizza\\python anaconda 3\\lib\\site-packages (from scikit-image>=0.12->lime) (1.3.0)\n",
      "Requirement already satisfied: packaging>=20.0 in d:\\cours lp data rizza\\python anaconda 3\\lib\\site-packages (from scikit-image>=0.12->lime) (21.3)\n",
      "Requirement already satisfied: pillow!=7.1.0,!=7.1.1,!=8.3.0,>=6.1.0 in d:\\cours lp data rizza\\python anaconda 3\\lib\\site-packages (from scikit-image>=0.12->lime) (9.0.1)\n",
      "Requirement already satisfied: imageio>=2.4.1 in d:\\cours lp data rizza\\python anaconda 3\\lib\\site-packages (from scikit-image>=0.12->lime) (2.9.0)\n",
      "Requirement already satisfied: networkx>=2.2 in d:\\cours lp data rizza\\python anaconda 3\\lib\\site-packages (from scikit-image>=0.12->lime) (2.7.1)\n",
      "Requirement already satisfied: tifffile>=2019.7.26 in d:\\cours lp data rizza\\python anaconda 3\\lib\\site-packages (from scikit-image>=0.12->lime) (2021.7.2)\n",
      "Requirement already satisfied: pyparsing!=3.0.5,>=2.0.2 in d:\\cours lp data rizza\\python anaconda 3\\lib\\site-packages (from packaging>=20.0->scikit-image>=0.12->lime) (3.0.4)\n",
      "Requirement already satisfied: joblib>=0.11 in d:\\cours lp data rizza\\python anaconda 3\\lib\\site-packages (from scikit-learn>=0.18->lime) (1.1.0)\n",
      "Requirement already satisfied: threadpoolctl>=2.0.0 in d:\\cours lp data rizza\\python anaconda 3\\lib\\site-packages (from scikit-learn>=0.18->lime) (2.2.0)\n",
      "Requirement already satisfied: python-dateutil>=2.7 in d:\\cours lp data rizza\\python anaconda 3\\lib\\site-packages (from matplotlib->lime) (2.8.2)\n",
      "Requirement already satisfied: fonttools>=4.22.0 in d:\\cours lp data rizza\\python anaconda 3\\lib\\site-packages (from matplotlib->lime) (4.25.0)\n",
      "Requirement already satisfied: kiwisolver>=1.0.1 in d:\\cours lp data rizza\\python anaconda 3\\lib\\site-packages (from matplotlib->lime) (1.3.2)\n",
      "Requirement already satisfied: cycler>=0.10 in d:\\cours lp data rizza\\python anaconda 3\\lib\\site-packages (from matplotlib->lime) (0.11.0)\n",
      "Requirement already satisfied: six>=1.5 in d:\\cours lp data rizza\\python anaconda 3\\lib\\site-packages (from python-dateutil>=2.7->matplotlib->lime) (1.16.0)\n",
      "Requirement already satisfied: colorama in d:\\cours lp data rizza\\python anaconda 3\\lib\\site-packages (from tqdm->lime) (0.4.4)\n"
     ]
    }
   ],
   "source": [
    "! pip install lime"
   ]
  },
  {
   "cell_type": "code",
   "execution_count": 960,
   "metadata": {},
   "outputs": [],
   "source": [
    "import lime\n",
    "from lime import lime_tabular\n"
   ]
  },
  {
   "cell_type": "code",
   "execution_count": 961,
   "metadata": {},
   "outputs": [
    {
     "data": {
      "text/html": [
       "<div>\n",
       "<style scoped>\n",
       "    .dataframe tbody tr th:only-of-type {\n",
       "        vertical-align: middle;\n",
       "    }\n",
       "\n",
       "    .dataframe tbody tr th {\n",
       "        vertical-align: top;\n",
       "    }\n",
       "\n",
       "    .dataframe thead th {\n",
       "        text-align: right;\n",
       "    }\n",
       "</style>\n",
       "<table border=\"1\" class=\"dataframe\">\n",
       "  <thead>\n",
       "    <tr style=\"text-align: right;\">\n",
       "      <th></th>\n",
       "      <th>BuildingType</th>\n",
       "      <th>PrimaryPropertyType</th>\n",
       "      <th>Neighborhood</th>\n",
       "      <th>LargestPropertyUseType</th>\n",
       "      <th>NumberofBuildings</th>\n",
       "      <th>NumberofFloors</th>\n",
       "      <th>PropertyGFATotal</th>\n",
       "      <th>SiteEUI(kBtu/sf)</th>\n",
       "      <th>SourceEUI(kBtu/sf)</th>\n",
       "      <th>SiteEnergyUse(kBtu)</th>\n",
       "      <th>TotalGHGEmissions</th>\n",
       "      <th>GHGEmissionsIntensity</th>\n",
       "      <th>BuildingAge</th>\n",
       "      <th>TotalUseTypeNumber</th>\n",
       "      <th>GFABuildingRate</th>\n",
       "      <th>GFAParkingRate</th>\n",
       "      <th>GFAPerBuilding</th>\n",
       "      <th>GFAPerFloor</th>\n",
       "      <th>harvesine_distance</th>\n",
       "    </tr>\n",
       "  </thead>\n",
       "  <tbody>\n",
       "    <tr>\n",
       "      <th>0</th>\n",
       "      <td>NonResidential</td>\n",
       "      <td>Hotel</td>\n",
       "      <td>DOWNTOWN</td>\n",
       "      <td>Hotel</td>\n",
       "      <td>1.0</td>\n",
       "      <td>12</td>\n",
       "      <td>88434</td>\n",
       "      <td>81.699997</td>\n",
       "      <td>182.500000</td>\n",
       "      <td>7226362.5</td>\n",
       "      <td>249.98</td>\n",
       "      <td>2.83</td>\n",
       "      <td>89</td>\n",
       "      <td>1</td>\n",
       "      <td>1.00000</td>\n",
       "      <td>0.00000</td>\n",
       "      <td>88434.0</td>\n",
       "      <td>7369.500</td>\n",
       "      <td>0.496782</td>\n",
       "    </tr>\n",
       "    <tr>\n",
       "      <th>1</th>\n",
       "      <td>NonResidential</td>\n",
       "      <td>Hotel</td>\n",
       "      <td>DOWNTOWN</td>\n",
       "      <td>Hotel</td>\n",
       "      <td>1.0</td>\n",
       "      <td>11</td>\n",
       "      <td>103566</td>\n",
       "      <td>94.800003</td>\n",
       "      <td>176.100006</td>\n",
       "      <td>8387933.0</td>\n",
       "      <td>295.86</td>\n",
       "      <td>2.86</td>\n",
       "      <td>20</td>\n",
       "      <td>3</td>\n",
       "      <td>0.85455</td>\n",
       "      <td>0.14545</td>\n",
       "      <td>103566.0</td>\n",
       "      <td>9415.091</td>\n",
       "      <td>0.488726</td>\n",
       "    </tr>\n",
       "    <tr>\n",
       "      <th>2</th>\n",
       "      <td>NonResidential</td>\n",
       "      <td>Hotel</td>\n",
       "      <td>DOWNTOWN</td>\n",
       "      <td>Hotel</td>\n",
       "      <td>1.0</td>\n",
       "      <td>41</td>\n",
       "      <td>956110</td>\n",
       "      <td>96.000000</td>\n",
       "      <td>241.899994</td>\n",
       "      <td>72587024.0</td>\n",
       "      <td>2089.28</td>\n",
       "      <td>2.19</td>\n",
       "      <td>47</td>\n",
       "      <td>1</td>\n",
       "      <td>0.79425</td>\n",
       "      <td>0.20575</td>\n",
       "      <td>956110.0</td>\n",
       "      <td>23319.756</td>\n",
       "      <td>0.602378</td>\n",
       "    </tr>\n",
       "    <tr>\n",
       "      <th>3</th>\n",
       "      <td>NonResidential</td>\n",
       "      <td>Hotel</td>\n",
       "      <td>DOWNTOWN</td>\n",
       "      <td>Hotel</td>\n",
       "      <td>1.0</td>\n",
       "      <td>10</td>\n",
       "      <td>61320</td>\n",
       "      <td>110.800003</td>\n",
       "      <td>216.199997</td>\n",
       "      <td>6794584.0</td>\n",
       "      <td>286.43</td>\n",
       "      <td>4.67</td>\n",
       "      <td>90</td>\n",
       "      <td>1</td>\n",
       "      <td>1.00000</td>\n",
       "      <td>0.00000</td>\n",
       "      <td>61320.0</td>\n",
       "      <td>6132.000</td>\n",
       "      <td>0.586253</td>\n",
       "    </tr>\n",
       "    <tr>\n",
       "      <th>4</th>\n",
       "      <td>NonResidential</td>\n",
       "      <td>Hotel</td>\n",
       "      <td>DOWNTOWN</td>\n",
       "      <td>Hotel</td>\n",
       "      <td>1.0</td>\n",
       "      <td>18</td>\n",
       "      <td>175580</td>\n",
       "      <td>114.800003</td>\n",
       "      <td>211.399994</td>\n",
       "      <td>14172606.0</td>\n",
       "      <td>505.01</td>\n",
       "      <td>2.88</td>\n",
       "      <td>36</td>\n",
       "      <td>3</td>\n",
       "      <td>0.64688</td>\n",
       "      <td>0.35312</td>\n",
       "      <td>175580.0</td>\n",
       "      <td>9754.444</td>\n",
       "      <td>0.650801</td>\n",
       "    </tr>\n",
       "  </tbody>\n",
       "</table>\n",
       "</div>"
      ],
      "text/plain": [
       "     BuildingType PrimaryPropertyType Neighborhood LargestPropertyUseType  \\\n",
       "0  NonResidential               Hotel     DOWNTOWN                  Hotel   \n",
       "1  NonResidential               Hotel     DOWNTOWN                  Hotel   \n",
       "2  NonResidential               Hotel     DOWNTOWN                  Hotel   \n",
       "3  NonResidential               Hotel     DOWNTOWN                  Hotel   \n",
       "4  NonResidential               Hotel     DOWNTOWN                  Hotel   \n",
       "\n",
       "   NumberofBuildings  NumberofFloors  PropertyGFATotal  SiteEUI(kBtu/sf)  \\\n",
       "0                1.0              12             88434         81.699997   \n",
       "1                1.0              11            103566         94.800003   \n",
       "2                1.0              41            956110         96.000000   \n",
       "3                1.0              10             61320        110.800003   \n",
       "4                1.0              18            175580        114.800003   \n",
       "\n",
       "   SourceEUI(kBtu/sf)  SiteEnergyUse(kBtu)  TotalGHGEmissions  \\\n",
       "0          182.500000            7226362.5             249.98   \n",
       "1          176.100006            8387933.0             295.86   \n",
       "2          241.899994           72587024.0            2089.28   \n",
       "3          216.199997            6794584.0             286.43   \n",
       "4          211.399994           14172606.0             505.01   \n",
       "\n",
       "   GHGEmissionsIntensity  BuildingAge  TotalUseTypeNumber  GFABuildingRate  \\\n",
       "0                   2.83           89                   1          1.00000   \n",
       "1                   2.86           20                   3          0.85455   \n",
       "2                   2.19           47                   1          0.79425   \n",
       "3                   4.67           90                   1          1.00000   \n",
       "4                   2.88           36                   3          0.64688   \n",
       "\n",
       "   GFAParkingRate  GFAPerBuilding  GFAPerFloor  harvesine_distance  \n",
       "0         0.00000         88434.0     7369.500            0.496782  \n",
       "1         0.14545        103566.0     9415.091            0.488726  \n",
       "2         0.20575        956110.0    23319.756            0.602378  \n",
       "3         0.00000         61320.0     6132.000            0.586253  \n",
       "4         0.35312        175580.0     9754.444            0.650801  "
      ]
     },
     "execution_count": 961,
     "metadata": {},
     "output_type": "execute_result"
    }
   ],
   "source": [
    "df3.head()"
   ]
  },
  {
   "cell_type": "code",
   "execution_count": 962,
   "metadata": {},
   "outputs": [
    {
     "data": {
      "text/plain": [
       "['harvesine_distance',\n",
       " 'NumberofBuildings',\n",
       " 'NumberofFloors',\n",
       " 'PropertyGFATotal',\n",
       " 'BuildingAge',\n",
       " 'TotalUseTypeNumber',\n",
       " 'GFABuildingRate',\n",
       " 'GFAParkingRate',\n",
       " 'GFAPerBuilding',\n",
       " 'GFAPerFloor']"
      ]
     },
     "execution_count": 962,
     "metadata": {},
     "output_type": "execute_result"
    }
   ],
   "source": [
    "\n",
    "numeric_features"
   ]
  },
  {
   "cell_type": "code",
   "execution_count": 963,
   "metadata": {},
   "outputs": [
    {
     "data": {
      "text/plain": [
       "['BuildingType',\n",
       " 'PrimaryPropertyType',\n",
       " 'Neighborhood',\n",
       " 'LargestPropertyUseType']"
      ]
     },
     "execution_count": 963,
     "metadata": {},
     "output_type": "execute_result"
    }
   ],
   "source": [
    "target_features"
   ]
  },
  {
   "cell_type": "code",
   "execution_count": 964,
   "metadata": {},
   "outputs": [
    {
     "data": {
      "text/plain": [
       "Index(['BuildingType', 'PrimaryPropertyType', 'Neighborhood',\n",
       "       'LargestPropertyUseType', 'NumberofBuildings', 'NumberofFloors',\n",
       "       'PropertyGFATotal', 'SiteEUI(kBtu/sf)', 'SourceEUI(kBtu/sf)',\n",
       "       'SiteEnergyUse(kBtu)', 'TotalGHGEmissions', 'GHGEmissionsIntensity',\n",
       "       'BuildingAge', 'TotalUseTypeNumber', 'GFABuildingRate',\n",
       "       'GFAParkingRate', 'GFAPerBuilding', 'GFAPerFloor',\n",
       "       'harvesine_distance'],\n",
       "      dtype='object')"
      ]
     },
     "execution_count": 964,
     "metadata": {},
     "output_type": "execute_result"
    }
   ],
   "source": [
    "df3.columns"
   ]
  },
  {
   "cell_type": "code",
   "execution_count": 965,
   "metadata": {},
   "outputs": [
    {
     "data": {
      "text/plain": [
       "BuildingType              NonResidential\n",
       "PrimaryPropertyType                Hotel\n",
       "Neighborhood                    DOWNTOWN\n",
       "LargestPropertyUseType             Hotel\n",
       "NumberofBuildings                    1.0\n",
       "NumberofFloors                        12\n",
       "PropertyGFATotal                   88434\n",
       "SiteEUI(kBtu/sf)               81.699997\n",
       "SourceEUI(kBtu/sf)                 182.5\n",
       "SiteEnergyUse(kBtu)            7226362.5\n",
       "TotalGHGEmissions                 249.98\n",
       "GHGEmissionsIntensity               2.83\n",
       "BuildingAge                           89\n",
       "TotalUseTypeNumber                     1\n",
       "GFABuildingRate                      1.0\n",
       "GFAParkingRate                       0.0\n",
       "GFAPerBuilding                   88434.0\n",
       "GFAPerFloor                       7369.5\n",
       "harvesine_distance              0.496782\n",
       "Name: 0, dtype: object"
      ]
     },
     "execution_count": 965,
     "metadata": {},
     "output_type": "execute_result"
    }
   ],
   "source": [
    "df3.iloc[0,:]"
   ]
  },
  {
   "cell_type": "markdown",
   "metadata": {},
   "source": [
    "----------------------------"
   ]
  },
  {
   "cell_type": "markdown",
   "metadata": {},
   "source": [
    "#### 5.2 Modèle de prédiction des consommations d'énergie"
   ]
  },
  {
   "cell_type": "markdown",
   "metadata": {},
   "source": [
    "Nous allons comparer les métriques obtenues sur les différents modèles :"
   ]
  },
  {
   "cell_type": "code",
   "execution_count": 966,
   "metadata": {},
   "outputs": [
    {
     "data": {
      "text/html": [
       "<div>\n",
       "<style scoped>\n",
       "    .dataframe tbody tr th:only-of-type {\n",
       "        vertical-align: middle;\n",
       "    }\n",
       "\n",
       "    .dataframe tbody tr th {\n",
       "        vertical-align: top;\n",
       "    }\n",
       "\n",
       "    .dataframe thead th {\n",
       "        text-align: right;\n",
       "    }\n",
       "</style>\n",
       "<table border=\"1\" class=\"dataframe\">\n",
       "  <thead>\n",
       "    <tr style=\"text-align: right;\">\n",
       "      <th></th>\n",
       "      <th>RandomForest</th>\n",
       "      <th>LinearSVR</th>\n",
       "      <th>ElasticNet</th>\n",
       "      <th>LinearRegression</th>\n",
       "    </tr>\n",
       "  </thead>\n",
       "  <tbody>\n",
       "    <tr>\n",
       "      <th>mean_fit_time</th>\n",
       "      <td>5.295110e-01</td>\n",
       "      <td>5.031436e-02</td>\n",
       "      <td>1.483247e-02</td>\n",
       "      <td>1.520132e-02</td>\n",
       "    </tr>\n",
       "    <tr>\n",
       "      <th>mean_score_time</th>\n",
       "      <td>3.081122e-02</td>\n",
       "      <td>2.583153e-03</td>\n",
       "      <td>1.993540e-03</td>\n",
       "      <td>1.749456e-03</td>\n",
       "    </tr>\n",
       "    <tr>\n",
       "      <th>mean_test_neg_mean_absolute_error</th>\n",
       "      <td>-4.048527e+06</td>\n",
       "      <td>-8.097351e+06</td>\n",
       "      <td>-6.834300e+07</td>\n",
       "      <td>-1.624177e+13</td>\n",
       "    </tr>\n",
       "    <tr>\n",
       "      <th>mean_train_neg_mean_absolute_error</th>\n",
       "      <td>-2.856522e+06</td>\n",
       "      <td>-8.096561e+06</td>\n",
       "      <td>-1.148329e+07</td>\n",
       "      <td>-8.521425e+12</td>\n",
       "    </tr>\n",
       "  </tbody>\n",
       "</table>\n",
       "</div>"
      ],
      "text/plain": [
       "                                    RandomForest     LinearSVR    ElasticNet  \\\n",
       "mean_fit_time                       5.295110e-01  5.031436e-02  1.483247e-02   \n",
       "mean_score_time                     3.081122e-02  2.583153e-03  1.993540e-03   \n",
       "mean_test_neg_mean_absolute_error  -4.048527e+06 -8.097351e+06 -6.834300e+07   \n",
       "mean_train_neg_mean_absolute_error -2.856522e+06 -8.096561e+06 -1.148329e+07   \n",
       "\n",
       "                                    LinearRegression  \n",
       "mean_fit_time                           1.520132e-02  \n",
       "mean_score_time                         1.749456e-03  \n",
       "mean_test_neg_mean_absolute_error      -1.624177e+13  \n",
       "mean_train_neg_mean_absolute_error     -8.521425e+12  "
      ]
     },
     "execution_count": 966,
     "metadata": {},
     "output_type": "execute_result"
    }
   ],
   "source": [
    "SEU_compare_metrics = pd.concat([pd.DataFrame(SEU_rfr_results[metrics].mean(), columns=['RandomForest']),\n",
    "           #pd.DataFrame(SEU_xgb_results[metrics].mean(), columns=['XGBoost']),\n",
    "           pd.DataFrame(SEU_svr_results[metrics].mean(), columns=['LinearSVR']),\n",
    "           pd.DataFrame(SEU_eNet_results[metrics].mean(), columns=['ElasticNet']),\n",
    "           pd.DataFrame(SEU_mlr_results[metrics].mean(), columns=['LinearRegression'])\n",
    "          ], axis=1)\n",
    "SEU_final_metrics_compare = pd.DataFrame(columns=metrics, \n",
    "                                     index=['RandomForest',\n",
    "                                            'LinearSVR','ElasticNet',\n",
    "                                            'LinearRegression']) # A ajouter ajouter le RandomForest| XGBoost\n",
    "for m in metrics:\n",
    "    SEU_final_metrics_compare[m] = SEU_compare_metrics.loc[m]\n",
    "SEU_compare_metrics"
   ]
  },
  {
   "cell_type": "markdown",
   "metadata": {},
   "source": [
    "Graphique : Modèlisation sur la variable SiteEnergyUse"
   ]
  },
  {
   "cell_type": "code",
   "execution_count": 967,
   "metadata": {},
   "outputs": [
    {
     "data": {
      "image/png": "[encoded data removed]",
      "text/plain": [
       "<Figure size 1440x576 with 2 Axes>"
      ]
     },
     "metadata": {
      "needs_background": "light"
     },
     "output_type": "display_data"
    }
   ],
   "source": [
    "from cProfile import label\n",
    "from time import time\n",
    "from turtle import color, width\n",
    "\n",
    "\n",
    "SEU_final_metrics_compare = SEU_final_metrics_compare[SEU_final_metrics_compare.index != 'LinearRegression']\n",
    "x = np.arange(len(SEU_final_metrics_compare.index))\n",
    "width = 0.35\n",
    "\n",
    "fig, ax = plt.subplots(1,2,figsize=(20,8),sharey=False ,sharex=False)\n",
    "\n",
    "scores1 = ax[0].bar(x - width/2, -1*SEU_final_metrics_compare['mean_test_neg_mean_absolute_error'],width ,color='y', label='Test' )\n",
    "scores2 = ax[0].bar(x + width/2, -1*SEU_final_metrics_compare['mean_train_neg_mean_absolute_error'],width ,color='g', label='Train' )\n",
    "ax[0].set_ylabel('Mean Absolute Error')\n",
    "ax[0].set_title('Comparaison des scores par modèle')\n",
    "ax[0].set_xticks(x)\n",
    "ax[0].set_xticklabels(SEU_final_metrics_compare.index)\n",
    "ax[0].legend()\n",
    "ax[0].bar_label(scores1,padding=3)\n",
    "ax[0].bar_label(scores2,padding=3)\n",
    "\n",
    "times1 = ax[1].bar(x - width/2,SEU_final_metrics_compare['mean_score_time'],width,color='y',label='Predict')\n",
    "times2 = ax[1].bar(x + width/2,SEU_final_metrics_compare['mean_fit_time'],width,color='g',label='Time(s)')\n",
    "ax[1].set_xticks(x)\n",
    "ax[1].set_title(\"Comparaison des temps d'entrainement et de prédiction\")\n",
    "ax[1].set_xticklabels(SEU_final_metrics_compare.index)\n",
    "ax[1].legend()\n",
    "ax[1].bar_label(times1,padding=3,fmt='%.3f')\n",
    "ax[1].bar_label(times2,padding=3,fmt='%.3f')\n",
    "\n",
    "plt.suptitle(\"Modélisation sur la variable SiteEnergyUse\",fontsize=22)\n",
    "fig.tight_layout()\n",
    "\n",
    "plt.show()"
   ]
  },
  {
   "cell_type": "markdown",
   "metadata": {},
   "source": [
    "Remarque:  Avec la projection graphique ci-dessus;\n",
    "\n",
    "    - on constate que le modèle RandomForestRegressor offre le meilleur compromis score / temps. \n",
    "    Il est en effet meilleur en terme de score MAE et également bien plus rapide que les autres modèles."
   ]
  },
  {
   "cell_type": "markdown",
   "metadata": {},
   "source": [
    " => <strong>Le modèle retenu pour la modélisation de la variable SiteEnergyUse est donc le modèle RandomForestRegressor.</strong> \n",
    " \n",
    " Nous pouvons à présent visualiser l'impact des hyperparamètres de la GridSearch :"
   ]
  },
  {
   "cell_type": "code",
   "execution_count": 968,
   "metadata": {},
   "outputs": [
    {
     "data": {
      "image/png": "[encoded data removed]",
      "text/plain": [
       "<Figure size 1440x360 with 5 Axes>"
      ]
     },
     "metadata": {
      "needs_background": "light"
     },
     "output_type": "display_data"
    },
    {
     "name": "stdout",
     "output_type": "stream",
     "text": [
      "\n",
      "Rappel des meilleurs paramètres :\n",
      "{'regressor__bootstrap': False, 'regressor__max_depth': 15, 'regressor__max_features': 'sqrt', 'regressor__min_samples_leaf': 1, 'regressor__min_samples_split': 2}\n"
     ]
    }
   ],
   "source": [
    "plot_search_results(SEU_rfr_model.named_steps['grid_search_rfr'],title='SiteEnergyUse(kBtu)')"
   ]
  },
  {
   "cell_type": "code",
   "execution_count": 969,
   "metadata": {},
   "outputs": [
    {
     "data": {
      "text/plain": [
       "<module 'sklearn.preprocessing' from 'd:\\\\COURS LP DATA RIZZA\\\\python anaconda 3\\\\lib\\\\site-packages\\\\sklearn\\\\preprocessing\\\\__init__.py'>"
      ]
     },
     "execution_count": 969,
     "metadata": {},
     "output_type": "execute_result"
    }
   ],
   "source": [
    "preprocessing"
   ]
  },
  {
   "cell_type": "code",
   "execution_count": 970,
   "metadata": {},
   "outputs": [
    {
     "name": "stderr",
     "output_type": "stream",
     "text": [
      "Transformer numeric (type RobustScaler) does not provide get_feature_names. Will return input column names if available\n"
     ]
    },
    {
     "data": {
      "image/png": "[encoded data removed]",
      "text/plain": [
       "<Figure size 864x576 with 1 Axes>"
      ]
     },
     "metadata": {
      "needs_background": "light"
     },
     "output_type": "display_data"
    }
   ],
   "source": [
    "#Graphique des features imortance sur la consommation d'énergies (TEST)\n",
    "\n",
    "feature_importance = SEU_rfr_model.named_steps['grid_search_rfr'].best_estimator_.regressor_.feature_importances_ \n",
    "features_names = get_feature_names(SEU_rfr_model.named_steps['preprocessing'])\n",
    "std = np.std([\n",
    "    tree.feature_importances_ for tree in SEU_rfr_model.named_steps['grid_search_rfr'].best_estimator_.regressor_], axis=0)\n",
    "df_feature_importance = pd.Series(feature_importance, index=features_names)\n",
    "\n",
    "fig, ax = plt.subplots(figsize=(12,8))\n",
    "df_feature_importance.plot.bar(yerr=std, ax=ax)\n",
    "ax.set_title(\"Feature importances du modèle RandomForestRegressor sur la consommation d'énergie\")\n",
    "ax.set_ylabel(\"Diminution moyenne des impuretés\")\n",
    "fig.tight_layout()"
   ]
  },
  {
   "cell_type": "markdown",
   "metadata": {},
   "source": [
    "### 6.Test des modèles sélectionnées\n",
    "\n",
    "Nous pouvons à présents tester les modèles sélectionnées sur nos données test et vérifier nos perfomances "
   ]
  },
  {
   "cell_type": "code",
   "execution_count": 971,
   "metadata": {},
   "outputs": [],
   "source": [
    "import matplotlib.pyplot as plt"
   ]
  },
  {
   "cell_type": "code",
   "execution_count": 972,
   "metadata": {},
   "outputs": [],
   "source": [
    "def metrics_model(y_true,y_pred):\n",
    "    y_true,y_pred = np.array(y_true),np.array(y_pred)\n",
    "    diff = y_true - y_pred\n",
    "    mae = np.mean(abs(diff))\n",
    "    r2 = 1-(sum(diff**2)/sum((y_true-np.mean(y_true))**2))\n",
    "    dict_metrics = {\"Metrique\":[\"MAE\",\"R2\"],\"Résultats\":[mae,r2]}\n",
    "    df_metrics = pd.DataFrame(dict_metrics)\n",
    "    return df_metrics"
   ]
  },
  {
   "cell_type": "code",
   "execution_count": 973,
   "metadata": {},
   "outputs": [],
   "source": [
    "def plot_pred_true(y_true,y_pred,color=None,title=None):\n",
    "    X_plot = [y_true.min(),y_true.max()]\n",
    "    fig=plt.figure(figsize=(12, 8))\n",
    "    plt.scatter(y_true,y_pred,color=color,alpha=0.6)\n",
    "    plt.plot(X_plot,X_plot,color='r')\n",
    "    plt.xlabel(\"Valeurs réelles\")\n",
    "    plt.ylabel(\"Valeurs prédites\")\n",
    "    plt.title(\"Valeurs prédites VS valeurs réelles | Variables {}\".format(title),fontsize=18)\n",
    "    plt.show()"
   ]
  },
  {
   "cell_type": "markdown",
   "metadata": {},
   "source": [
    "#### 6.2 Prédiction des consommations d'énergie:"
   ]
  },
  {
   "cell_type": "code",
   "execution_count": 974,
   "metadata": {},
   "outputs": [],
   "source": [
    "#start_time = time.time()\n",
    "\n",
    "SEU_pred = SEU_rfr_model.predict(X_test)\n",
    "\n",
    "#print(\"Temps d'execution du modèle:{:.2}(s)\".format((time.time()-start_time)))"
   ]
  },
  {
   "cell_type": "code",
   "execution_count": 975,
   "metadata": {},
   "outputs": [
    {
     "data": {
      "text/html": [
       "<div>\n",
       "<style scoped>\n",
       "    .dataframe tbody tr th:only-of-type {\n",
       "        vertical-align: middle;\n",
       "    }\n",
       "\n",
       "    .dataframe tbody tr th {\n",
       "        vertical-align: top;\n",
       "    }\n",
       "\n",
       "    .dataframe thead th {\n",
       "        text-align: right;\n",
       "    }\n",
       "</style>\n",
       "<table border=\"1\" class=\"dataframe\">\n",
       "  <thead>\n",
       "    <tr style=\"text-align: right;\">\n",
       "      <th></th>\n",
       "      <th>Metrique</th>\n",
       "      <th>Résultats</th>\n",
       "    </tr>\n",
       "  </thead>\n",
       "  <tbody>\n",
       "    <tr>\n",
       "      <th>0</th>\n",
       "      <td>MAE</td>\n",
       "      <td>5.602080e+06</td>\n",
       "    </tr>\n",
       "    <tr>\n",
       "      <th>1</th>\n",
       "      <td>R2</td>\n",
       "      <td>1.739767e-01</td>\n",
       "    </tr>\n",
       "  </tbody>\n",
       "</table>\n",
       "</div>"
      ],
      "text/plain": [
       "  Metrique     Résultats\n",
       "0      MAE  5.602080e+06\n",
       "1       R2  1.739767e-01"
      ]
     },
     "execution_count": 975,
     "metadata": {},
     "output_type": "execute_result"
    }
   ],
   "source": [
    "#Calcule des métriques pour les consommations d'énergies :\n",
    "\n",
    "SEUmetrics = metrics_model(Y_test[\"SiteEnergyUse(kBtu)\"],SEU_pred)\n",
    "SEUmetrics"
   ]
  },
  {
   "cell_type": "code",
   "execution_count": 976,
   "metadata": {},
   "outputs": [
    {
     "data": {
      "image/png": "[encoded data removed]",
      "text/plain": [
       "<Figure size 864x576 with 1 Axes>"
      ]
     },
     "metadata": {
      "needs_background": "light"
     },
     "output_type": "display_data"
    }
   ],
   "source": [
    "#Affichage des valeurs prédites vs valeurs réelles : \n",
    "\n",
    "plot_pred_true(Y_test[\"SiteEnergyUse(kBtu)\"],SEU_pred,color='orange',title=\"SiteEnergyUse(kBtu)\")"
   ]
  },
  {
   "cell_type": "markdown",
   "metadata": {},
   "source": [
    "Remarque :\n",
    "\n",
    "- Nous avons ici , le même problématique que pour la variable des émisions de CO2 (TotalGHG) : Le modèle est permformant à l'entrainement(\"Train\") mais n'arrivent pas à généraliser le jeu de \"Test\"\n",
    "\n",
    "- Nous pouvons regarder les <strong> \"écarts de prédiction en fonction du type de bâtiment\"</strong> pour vérifier si des écarts sont plus importants dans certaines catégories :"
   ]
  },
  {
   "cell_type": "code",
   "execution_count": 977,
   "metadata": {},
   "outputs": [],
   "source": [
    "final_SEU_test = pd.concat([X_test,Y_test],axis=1)\n",
    "\n",
    "final_SEU_test['SEU_pred'] = SEU_pred\n",
    "compare_final_SEU_test = final_SEU_test = final_SEU_test.groupby(by='BuildingType').mean()\n",
    "\n"
   ]
  },
  {
   "cell_type": "code",
   "execution_count": 978,
   "metadata": {},
   "outputs": [
    {
     "data": {
      "image/png": "[encoded data removed]",
      "text/plain": [
       "<Figure size 1440x576 with 1 Axes>"
      ]
     },
     "metadata": {
      "needs_background": "light"
     },
     "output_type": "display_data"
    }
   ],
   "source": [
    "x = np.arange(len(compare_final_SEU_test.index))\n",
    "width = 0.35\n",
    "\n",
    "fig,ax = plt.subplots(figsize=(20, 8),sharey=False,sharex=False)\n",
    "\n",
    "scores1 = ax.bar(x-width/2 ,compare_final_SEU_test['SiteEnergyUse(kBtu)'],width,label='SiteEnnergyUse(kBtu)')\n",
    "scores2 = ax.bar(x+width/2 ,compare_final_SEU_test['SEU_pred'],width,color='green',label='Predictions')\n",
    "\n",
    "ax.set_ylabel('(kBtu)')\n",
    "ax.set_xticks(x)\n",
    "ax.set_xticklabels(compare_final_SEU_test.index)\n",
    "ax.legend()\n",
    "ax.bar_label(scores1,padding=3)\n",
    "ax.bar_label(scores2,padding=3)\n",
    "\n",
    "plt.suptitle(\"Ecarts de prédictions sur la variable SiteEnergy(kBtu) par type de bâtiment\",fontsize=22)\n",
    "fig.tight_layout()\n",
    "\n",
    "plt.show()"
   ]
  },
  {
   "cell_type": "markdown",
   "metadata": {},
   "source": [
    "Remarque : \n",
    "\n",
    "- Nous remarquons que l'écart est très important sur la catégorie \" Campus\" qui est faiblement représentée dans le jeu de données mais qui  présente les plus grandes consommations. "
   ]
  },
  {
   "cell_type": "markdown",
   "metadata": {},
   "source": [
    "-----------------------"
   ]
  },
  {
   "cell_type": "markdown",
   "metadata": {},
   "source": [
    "### 7) Influance du score \"ENERGY STAR\"\n",
    "\n",
    "Le score ENERGY STAR fournit un aperçu complet de la performance énergétique d'un bâtiment, en tenant compte des actifs physiques, des opérations et du comportement des occupants du bâtiment. Il est exprimé sur une échelle de 1 à 100 facile à comprendre : plus le score est élevé, meilleure est la performance énergétique du bâtiment.\n",
    "\n",
    "Ce score permet de réaliser plusieurs actions :\n",
    "\n",
    "- Évaluer les données énergétiques réelles facturées,\n",
    "- Normaliser pour l'activité commerciale (heures, travailleurs, climat),\n",
    "- Comparer les bâtiments à la population nationale,\n",
    "- Indiquer le niveau de performance énergétique.\n",
    "\n",
    "Nous allons donc évaluer si <strong>l'ENERGY STAR</strong> à un impact significatif sur les performances de notre modélisation."
   ]
  },
  {
   "cell_type": "code",
   "execution_count": 979,
   "metadata": {},
   "outputs": [],
   "source": [
    "#Ajout de la variable à nos variables X \n",
    "\n",
    "X['energystar_score'] = energystar_score\n",
    "\n",
    "#Ajout de la vaiable dans les variables numériques du \"preprocessor\"\n",
    "\n",
    "numeric_features.append('energystar_score')"
   ]
  },
  {
   "cell_type": "code",
   "execution_count": 980,
   "metadata": {},
   "outputs": [],
   "source": [
    "#Filtrage des données ayant un Energy Star Score :\n",
    "\n",
    "X = X[X['energystar_score'].isnull()==False]\n",
    "Y= Y[Y.index.isin(list(X.index))]"
   ]
  },
  {
   "cell_type": "markdown",
   "metadata": {},
   "source": [
    "Phase d'entrainement pour les modèles de RandomForestRegressor avec ou sans \"Energy Star\" sur le même taille d'échantillonage (pour une même base de comparaison):\n",
    "\n",
    "- Phase 1 :RandomForestRegressor sans Energy Star Score\n",
    "- Phase 2 :RandomForestRegressor avec Energy Star Score"
   ]
  },
  {
   "cell_type": "code",
   "execution_count": 981,
   "metadata": {},
   "outputs": [],
   "source": [
    "#Phase 1:\n",
    "X3 = X\n",
    "Y4 = Y"
   ]
  },
  {
   "cell_type": "code",
   "execution_count": 982,
   "metadata": {},
   "outputs": [],
   "source": [
    "#Phase 1:\n",
    "X4 = X3.drop(['energystar_score'],axis=1)"
   ]
  },
  {
   "cell_type": "code",
   "execution_count": 983,
   "metadata": {},
   "outputs": [],
   "source": [
    "numeric_features.remove('energystar_score')"
   ]
  },
  {
   "cell_type": "code",
   "execution_count": 984,
   "metadata": {},
   "outputs": [
    {
     "name": "stdout",
     "output_type": "stream",
     "text": [
      "Entrainement:796 lignes,\n",
      "Test:199 lignes.\n",
      "\n"
     ]
    }
   ],
   "source": [
    "#Phase 1:\n",
    "X4_train,X4_test,Y4_train,Y4_test = train_test_split(X4,Y4,test_size=0.2,random_state=42)\n",
    "#Random_state nécessaire  = rélancer l\"échantillons ici \n",
    "\n",
    "print(\"Entrainement:{} lignes,\\nTest:{} lignes.\\n\".format(X4_train.shape[0],X4_test.shape[0]))"
   ]
  },
  {
   "cell_type": "code",
   "execution_count": 985,
   "metadata": {},
   "outputs": [
    {
     "name": "stderr",
     "output_type": "stream",
     "text": [
      "Default parameter min_samples_leaf will change in version 2.6.See https://github.com/scikit-learn-contrib/category_encoders/issues/327\n",
      "Default parameter smoothing will change in version 2.6.See https://github.com/scikit-learn-contrib/category_encoders/issues/327\n"
     ]
    },
    {
     "name": "stdout",
     "output_type": "stream",
     "text": [
      "Meilleur score MAE : -114.621\n",
      "Meilleur Score R2 : 0.538\n",
      "Meilleurs paramètres : {'regressor__bootstrap': False, 'regressor__max_depth': 25, 'regressor__max_features': 'log2', 'regressor__min_samples_leaf': 1, 'regressor__min_samples_split': 2}\n",
      "Temps moyen d'entrainement : 483.37s\n"
     ]
    }
   ],
   "source": [
    "#Phase 1: RandomForestRegressor\n",
    "\n",
    "rfr_grid_cv_eStar1 = Pipeline([\n",
    "    ('preprocessor',preprocessor),\n",
    "    ('grid_search_rfr_eStar',GridSearchCV(TransformedTargetRegressor(\n",
    "        regressor=RandomForestRegressor(),\n",
    "        func=np.log,\n",
    "        inverse_func=np.exp),\n",
    "        param_grid=param_rfr,\n",
    "        cv=5,\n",
    "        scoring=('r2','neg_mean_absolute_error'),\n",
    "        refit='neg_mean_absolute_error',\n",
    "        n_jobs = -1))])\n",
    "\n",
    "GHG_rfr_model_eStar1 = rfr_grid_cv_eStar1.fit(X4_train,Y4_train['TotalGHGEmissions'])\n",
    "GHG_rfr_results_eStar1 = model_scores(GHG_rfr_model_eStar1,'grid_search_rfr_eStar')"
   ]
  },
  {
   "cell_type": "code",
   "execution_count": 986,
   "metadata": {},
   "outputs": [],
   "source": [
    "#Phase 1:\n",
    "GHG_pred_estars1 = GHG_rfr_model_eStar1.predict(X4_test)"
   ]
  },
  {
   "cell_type": "code",
   "execution_count": 987,
   "metadata": {},
   "outputs": [
    {
     "data": {
      "text/html": [
       "<div>\n",
       "<style scoped>\n",
       "    .dataframe tbody tr th:only-of-type {\n",
       "        vertical-align: middle;\n",
       "    }\n",
       "\n",
       "    .dataframe tbody tr th {\n",
       "        vertical-align: top;\n",
       "    }\n",
       "\n",
       "    .dataframe thead th {\n",
       "        text-align: right;\n",
       "    }\n",
       "</style>\n",
       "<table border=\"1\" class=\"dataframe\">\n",
       "  <thead>\n",
       "    <tr style=\"text-align: right;\">\n",
       "      <th></th>\n",
       "      <th>Metrique</th>\n",
       "      <th>Résultats</th>\n",
       "    </tr>\n",
       "  </thead>\n",
       "  <tbody>\n",
       "    <tr>\n",
       "      <th>0</th>\n",
       "      <td>MAE</td>\n",
       "      <td>136.939977</td>\n",
       "    </tr>\n",
       "    <tr>\n",
       "      <th>1</th>\n",
       "      <td>R2</td>\n",
       "      <td>0.468547</td>\n",
       "    </tr>\n",
       "  </tbody>\n",
       "</table>\n",
       "</div>"
      ],
      "text/plain": [
       "  Metrique   Résultats\n",
       "0      MAE  136.939977\n",
       "1       R2    0.468547"
      ]
     },
     "execution_count": 987,
     "metadata": {},
     "output_type": "execute_result"
    }
   ],
   "source": [
    "#Phase 1:\n",
    "GHGmetrics4 = metrics_model(Y4_test['TotalGHGEmissions'],GHG_pred_estars1)\n",
    "GHGmetrics4"
   ]
  },
  {
   "cell_type": "code",
   "execution_count": 988,
   "metadata": {},
   "outputs": [],
   "source": [
    "GHGmetrics4['Sans Energy Star +'] = GHGmetrics4['Résultats']"
   ]
  },
  {
   "cell_type": "code",
   "execution_count": 989,
   "metadata": {},
   "outputs": [],
   "source": [
    "GHGmetrics5 = GHGmetrics4.drop([\"Résultats\"],axis=1)"
   ]
  },
  {
   "cell_type": "code",
   "execution_count": 990,
   "metadata": {},
   "outputs": [],
   "source": [
    "#Phase 2:\n",
    "numeric_features.append('energystar_score')"
   ]
  },
  {
   "cell_type": "code",
   "execution_count": 991,
   "metadata": {},
   "outputs": [
    {
     "data": {
      "text/plain": [
       "['harvesine_distance',\n",
       " 'NumberofBuildings',\n",
       " 'NumberofFloors',\n",
       " 'PropertyGFATotal',\n",
       " 'BuildingAge',\n",
       " 'TotalUseTypeNumber',\n",
       " 'GFABuildingRate',\n",
       " 'GFAParkingRate',\n",
       " 'GFAPerBuilding',\n",
       " 'GFAPerFloor',\n",
       " 'energystar_score']"
      ]
     },
     "execution_count": 991,
     "metadata": {},
     "output_type": "execute_result"
    }
   ],
   "source": [
    "#Phase 2:\n",
    "numeric_features"
   ]
  },
  {
   "cell_type": "markdown",
   "metadata": {},
   "source": [
    "- Modèle RandomForestRegressor - avec EnergyStarScore"
   ]
  },
  {
   "cell_type": "code",
   "execution_count": 992,
   "metadata": {},
   "outputs": [
    {
     "name": "stdout",
     "output_type": "stream",
     "text": [
      "Entrainement:796 lignes,\n",
      "Test:199 lignes.\n",
      "\n"
     ]
    }
   ],
   "source": [
    "X_train,X_test,Y_train,Y_test = train_test_split(X,Y,test_size=0.2,random_state=42)\n",
    "#Random_state nécessaire  = rélancer l\"échantillons ici \n",
    "\n",
    "print(\"Entrainement:{} lignes,\\nTest:{} lignes.\\n\".format(X_train.shape[0],X_test.shape[0]))"
   ]
  },
  {
   "cell_type": "code",
   "execution_count": 993,
   "metadata": {},
   "outputs": [
    {
     "name": "stderr",
     "output_type": "stream",
     "text": [
      "Default parameter min_samples_leaf will change in version 2.6.See https://github.com/scikit-learn-contrib/category_encoders/issues/327\n",
      "Default parameter smoothing will change in version 2.6.See https://github.com/scikit-learn-contrib/category_encoders/issues/327\n"
     ]
    },
    {
     "name": "stdout",
     "output_type": "stream",
     "text": [
      "Meilleur score MAE : -112.977\n",
      "Meilleur Score R2 : 0.509\n",
      "Meilleurs paramètres : {'regressor__bootstrap': False, 'regressor__max_depth': 50, 'regressor__max_features': 'sqrt', 'regressor__min_samples_leaf': 1, 'regressor__min_samples_split': 2}\n",
      "Temps moyen d'entrainement : 325.89s\n"
     ]
    }
   ],
   "source": [
    "rfr_grid_cv_eStar = Pipeline([\n",
    "    ('preprocessor',preprocessor),\n",
    "    ('grid_search_rfr_eStar',GridSearchCV(TransformedTargetRegressor(\n",
    "        regressor=RandomForestRegressor(),\n",
    "        func=np.log,\n",
    "        inverse_func=np.exp),\n",
    "        param_grid=param_rfr,\n",
    "        cv=5,\n",
    "        scoring=('r2','neg_mean_absolute_error'),\n",
    "        refit='neg_mean_absolute_error',\n",
    "        n_jobs = -1))])\n",
    "\n",
    "GHG_rfr_model_eStar = rfr_grid_cv_eStar.fit(X_train,Y_train['TotalGHGEmissions'])\n",
    "GHG_rfr_results_eStar = model_scores(GHG_rfr_model_eStar,'grid_search_rfr_eStar')"
   ]
  },
  {
   "cell_type": "markdown",
   "metadata": {},
   "source": [
    "- Calcule des métriques  : Avec ou  Sans EnergyStarScore (échantillon de même taille//pour avoir une même base de comparaison) + Modèle sans EnergyStarScore( originel)"
   ]
  },
  {
   "cell_type": "code",
   "execution_count": 994,
   "metadata": {},
   "outputs": [
    {
     "name": "stderr",
     "output_type": "stream",
     "text": [
      "Default parameter min_samples_leaf will change in version 2.6.See https://github.com/scikit-learn-contrib/category_encoders/issues/327\n",
      "Default parameter smoothing will change in version 2.6.See https://github.com/scikit-learn-contrib/category_encoders/issues/327\n"
     ]
    },
    {
     "name": "stdout",
     "output_type": "stream",
     "text": [
      "Meilleur score MAE : -113.296\n",
      "Meilleur Score R2 : 0.495\n",
      "Meilleurs paramètres : {'regressor__bootstrap': False, 'regressor__max_depth': 25, 'regressor__max_features': 'log2', 'regressor__min_samples_leaf': 1, 'regressor__min_samples_split': 2}\n",
      "Temps moyen d'entrainement : 338.83s\n"
     ]
    }
   ],
   "source": [
    "GHG_rfr_model = rfr_grid_cv.fit(X_train,Y_train['TotalGHGEmissions'])\n",
    "GHG_rfr_results = model_scores(GHG_rfr_model,'grid_search_rfr')"
   ]
  },
  {
   "cell_type": "code",
   "execution_count": 995,
   "metadata": {},
   "outputs": [
    {
     "name": "stdout",
     "output_type": "stream",
     "text": [
      "Temps d'éxecution du modèle:0.081 (s)\n"
     ]
    }
   ],
   "source": [
    "import time \n",
    "start_time = time.time()\n",
    "\n",
    "GHG_pred = GHG_rfr_model.predict(X_test)\n",
    "\n",
    "print(\"Temps d'éxecution du modèle:{:.2} (s)\".format((time.time()-start_time)))"
   ]
  },
  {
   "cell_type": "code",
   "execution_count": 996,
   "metadata": {},
   "outputs": [
    {
     "data": {
      "text/html": [
       "<div>\n",
       "<style scoped>\n",
       "    .dataframe tbody tr th:only-of-type {\n",
       "        vertical-align: middle;\n",
       "    }\n",
       "\n",
       "    .dataframe tbody tr th {\n",
       "        vertical-align: top;\n",
       "    }\n",
       "\n",
       "    .dataframe thead th {\n",
       "        text-align: right;\n",
       "    }\n",
       "</style>\n",
       "<table border=\"1\" class=\"dataframe\">\n",
       "  <thead>\n",
       "    <tr style=\"text-align: right;\">\n",
       "      <th></th>\n",
       "      <th>Metrique</th>\n",
       "      <th>Résultats</th>\n",
       "    </tr>\n",
       "  </thead>\n",
       "  <tbody>\n",
       "    <tr>\n",
       "      <th>0</th>\n",
       "      <td>MAE</td>\n",
       "      <td>135.098099</td>\n",
       "    </tr>\n",
       "    <tr>\n",
       "      <th>1</th>\n",
       "      <td>R2</td>\n",
       "      <td>0.472134</td>\n",
       "    </tr>\n",
       "  </tbody>\n",
       "</table>\n",
       "</div>"
      ],
      "text/plain": [
       "  Metrique   Résultats\n",
       "0      MAE  135.098099\n",
       "1       R2    0.472134"
      ]
     },
     "execution_count": 996,
     "metadata": {},
     "output_type": "execute_result"
    }
   ],
   "source": [
    "GHGmetrics = metrics_model(Y_test['TotalGHGEmissions'],GHG_pred)\n",
    "GHGmetrics"
   ]
  },
  {
   "cell_type": "code",
   "execution_count": 997,
   "metadata": {},
   "outputs": [
    {
     "data": {
      "text/html": [
       "<div>\n",
       "<style scoped>\n",
       "    .dataframe tbody tr th:only-of-type {\n",
       "        vertical-align: middle;\n",
       "    }\n",
       "\n",
       "    .dataframe tbody tr th {\n",
       "        vertical-align: top;\n",
       "    }\n",
       "\n",
       "    .dataframe thead th {\n",
       "        text-align: right;\n",
       "    }\n",
       "</style>\n",
       "<table border=\"1\" class=\"dataframe\">\n",
       "  <thead>\n",
       "    <tr style=\"text-align: right;\">\n",
       "      <th></th>\n",
       "      <th>Metrique</th>\n",
       "      <th>Sans Energy Star</th>\n",
       "      <th>Avec Energy Star +</th>\n",
       "    </tr>\n",
       "  </thead>\n",
       "  <tbody>\n",
       "    <tr>\n",
       "      <th>0</th>\n",
       "      <td>MAE</td>\n",
       "      <td>135.098099</td>\n",
       "      <td>133.237358</td>\n",
       "    </tr>\n",
       "    <tr>\n",
       "      <th>1</th>\n",
       "      <td>R2</td>\n",
       "      <td>0.472134</td>\n",
       "      <td>0.510008</td>\n",
       "    </tr>\n",
       "  </tbody>\n",
       "</table>\n",
       "</div>"
      ],
      "text/plain": [
       "  Metrique  Sans Energy Star  Avec Energy Star +\n",
       "0      MAE        135.098099          133.237358\n",
       "1       R2          0.472134            0.510008"
      ]
     },
     "execution_count": 997,
     "metadata": {},
     "output_type": "execute_result"
    }
   ],
   "source": [
    "GHG_pred_star = GHG_rfr_model_eStar.predict(X_test)\n",
    "\n",
    "#Calcul des métriques pour les émissions de CO2: \n",
    "\n",
    "GHGmetricsESS = metrics_model(Y_test['TotalGHGEmissions'],GHG_pred_star)\n",
    "\n",
    "GHGmetrics = GHGmetrics.rename(columns={\"Résultats\":\"Sans Energy Star\"})\n",
    "\n",
    "GHGmetrics['Avec Energy Star +'] = GHGmetricsESS['Résultats']\n",
    "\n",
    "GHGmetrics"
   ]
  },
  {
   "cell_type": "code",
   "execution_count": 998,
   "metadata": {},
   "outputs": [],
   "source": [
    "#Ici nous allons comparer les metrics avec ou sans le Energy Star Score sur le même échantillons de \"bâtiment de construction\" pour avoir un point de comparaison entre les modèles :\n",
    "A1 = GHGmetrics5\n",
    "B1 = GHGmetrics"
   ]
  },
  {
   "cell_type": "code",
   "execution_count": 999,
   "metadata": {},
   "outputs": [
    {
     "data": {
      "text/html": [
       "<div>\n",
       "<style scoped>\n",
       "    .dataframe tbody tr th:only-of-type {\n",
       "        vertical-align: middle;\n",
       "    }\n",
       "\n",
       "    .dataframe tbody tr th {\n",
       "        vertical-align: top;\n",
       "    }\n",
       "\n",
       "    .dataframe thead th {\n",
       "        text-align: right;\n",
       "    }\n",
       "</style>\n",
       "<table border=\"1\" class=\"dataframe\">\n",
       "  <thead>\n",
       "    <tr style=\"text-align: right;\">\n",
       "      <th></th>\n",
       "      <th>Metrique</th>\n",
       "      <th>Sans Energy Star +</th>\n",
       "    </tr>\n",
       "  </thead>\n",
       "  <tbody>\n",
       "    <tr>\n",
       "      <th>0</th>\n",
       "      <td>MAE</td>\n",
       "      <td>136.939977</td>\n",
       "    </tr>\n",
       "    <tr>\n",
       "      <th>1</th>\n",
       "      <td>R2</td>\n",
       "      <td>0.468547</td>\n",
       "    </tr>\n",
       "  </tbody>\n",
       "</table>\n",
       "</div>"
      ],
      "text/plain": [
       "  Metrique  Sans Energy Star +\n",
       "0      MAE          136.939977\n",
       "1       R2            0.468547"
      ]
     },
     "execution_count": 999,
     "metadata": {},
     "output_type": "execute_result"
    }
   ],
   "source": [
    "#Echantillons de comparaison ( \"bâtiment de construction\") sans \"energystar_score\" pour le modèle RandomForestRegressor - Résultats des métrics R2 and MAE:\n",
    "A1"
   ]
  },
  {
   "cell_type": "code",
   "execution_count": 1000,
   "metadata": {},
   "outputs": [
    {
     "data": {
      "text/html": [
       "<div>\n",
       "<style scoped>\n",
       "    .dataframe tbody tr th:only-of-type {\n",
       "        vertical-align: middle;\n",
       "    }\n",
       "\n",
       "    .dataframe tbody tr th {\n",
       "        vertical-align: top;\n",
       "    }\n",
       "\n",
       "    .dataframe thead th {\n",
       "        text-align: right;\n",
       "    }\n",
       "</style>\n",
       "<table border=\"1\" class=\"dataframe\">\n",
       "  <thead>\n",
       "    <tr style=\"text-align: right;\">\n",
       "      <th></th>\n",
       "      <th>Metrique</th>\n",
       "      <th>Sans Energy Star</th>\n",
       "      <th>Avec Energy Star +</th>\n",
       "      <th>Sans Energy Star +</th>\n",
       "    </tr>\n",
       "  </thead>\n",
       "  <tbody>\n",
       "    <tr>\n",
       "      <th>0</th>\n",
       "      <td>MAE</td>\n",
       "      <td>135.098099</td>\n",
       "      <td>133.237358</td>\n",
       "      <td>136.939977</td>\n",
       "    </tr>\n",
       "    <tr>\n",
       "      <th>1</th>\n",
       "      <td>R2</td>\n",
       "      <td>0.472134</td>\n",
       "      <td>0.510008</td>\n",
       "      <td>0.468547</td>\n",
       "    </tr>\n",
       "  </tbody>\n",
       "</table>\n",
       "</div>"
      ],
      "text/plain": [
       "  Metrique  Sans Energy Star  Avec Energy Star +  Sans Energy Star +\n",
       "0      MAE        135.098099          133.237358          136.939977\n",
       "1       R2          0.472134            0.510008            0.468547"
      ]
     },
     "execution_count": 1000,
     "metadata": {},
     "output_type": "execute_result"
    }
   ],
   "source": [
    "#Ici nous allons comparer les metrics avec ou sans le Energy Star Score sur le même échantillons de \"bâtiment de construction\" pour avoir un point de comparaison entre les deux méthodes\n",
    "#sur le meilleur sélectionné \"RandomForestRegressor\" : Avec Energy Star  + |Sans Energy Star +\n",
    "pd.merge(B1,A1, on=\"Metrique\")"
   ]
  },
  {
   "cell_type": "markdown",
   "metadata": {},
   "source": [
    "Remarque : \n",
    "\n",
    " - Le coefficient de détermination (R2) :  Avec ESS > Sans ESS\n",
    " - <strong>Selon le MAE : Avec ESS = Sans ESS || Quasi - identique</strong>\n",
    "\n",
    " - => Globalement selon nos métrics (MAE) : les résultats du modèle du RandomForestRegressor sont globalement identiques avec un légère avantage pour le modèle sans le ESS.\n",
    "\n",
    " Note : ESS = Energy Star Score"
   ]
  },
  {
   "cell_type": "code",
   "execution_count": 1001,
   "metadata": {},
   "outputs": [
    {
     "data": {
      "image/png": "[encoded data removed]",
      "text/plain": [
       "<Figure size 864x576 with 1 Axes>"
      ]
     },
     "metadata": {
      "needs_background": "light"
     },
     "output_type": "display_data"
    }
   ],
   "source": [
    "#Affichage des valeurs réelle | Valeurs réelles pour émissions de CO2 : \n",
    "\n",
    "plot_pred_true(Y_test['TotalGHGEmissions'],GHG_pred_star,color='orange',title='TotalGHGEmissions')"
   ]
  },
  {
   "cell_type": "markdown",
   "metadata": {},
   "source": [
    "---------------------"
   ]
  },
  {
   "cell_type": "markdown",
   "metadata": {},
   "source": [
    "#### Conclusion \n",
    "\n",
    "Afin de répondre à l'ensemble de notre problématique concernant les émissions de CO2 et la consommation d'énergie ainsi que la pertinence de l'EnergyStarScore sur les différentes constructions non résidentielles :\n",
    "\n",
    " - Nous avons réalisé différents des modèles de machine learning : Une régression linéaire multivariée, un SVR ,une ElastingNET et un RandomForestRegressor. \n",
    "\n",
    " - Les résultats obtenus après différentes features engineering et selon les critères de comparaison mise en place : Coefficient de détermination et <strong>MAE (l'erreur absolue moyenne ( EMA ->Fr ))</strong>\n",
    "        nous montre que : le modèle le plus efficace est <strong>le RandomForestRegressor</strong> loin devant tous les autres modèles ! \n",
    "\n",
    " - Les prédictions réalisées sur nos 2 critères (CO2 et Energie) sont globalement correctes [Hormis pour certaines valeurs très grande -> tirée probablement par le feature:\"type bâtiment : les campus\" entre valeurs prédites || réelle] \n",
    "\n",
    "=>  * En ce qui concerne , la prise en compte du critère:<strong> \"Energy Star Score\" </strong> à travers le meilleur modèle (RandomForestRegressor) , nous indiquent que <strong>ce score n'importe pas de changement significative à notre modèle</strong> : les métrics nous indiquent que les modèles avec ou sans Energy Star Score sont  globalement identiques (même si un petit peu inf au modèle sans le critère EStarScore) .\n",
    "    \n",
    "    Or, la prise en compte de ce critère dans nos différents modèles sachant que celle-ci a un cout significative pour la ville n'est pas du tout pertinente en regardant le rapport COUT//Bénefices ."
   ]
  }
 ],
 "metadata": {
  "kernelspec": {
   "display_name": "Python 3.9.12 ('base')",
   "language": "python",
   "name": "python3"
  },
  "language_info": {
   "codemirror_mode": {
    "name": "ipython",
    "version": 3
   },
   "file_extension": ".py",
   "mimetype": "text/x-python",
   "name": "python",
   "nbconvert_exporter": "python",
   "pygments_lexer": "ipython3",
   "version": "3.9.12"
  },
  "orig_nbformat": 4,
  "vscode": {
   "interpreter": {
    "hash": "472b8e2ce2eda126cb1ee903b494c25df0ae6272e79e2d19224cccdab7f033ae"
   }
  }
 },
 "nbformat": 4,
 "nbformat_minor": 2
}
